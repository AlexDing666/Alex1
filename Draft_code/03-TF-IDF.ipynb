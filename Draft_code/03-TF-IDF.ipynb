{
 "cells": [
  {
   "cell_type": "markdown",
   "metadata": {},
   "source": [
    "## Computing the TF-IDF\n"
   ]
  },
  {
   "cell_type": "code",
   "execution_count": 42,
   "metadata": {},
   "outputs": [],
   "source": [
    "import numpy as np\n",
    "import pandas as pd\n",
    "import re\n",
    "import matplotlib.pyplot as plt\n",
    "from collections import Counter\n",
    "from nltk.corpus import stopwords\n",
    "from tqdm import tqdm\n",
    "from sklearn.decomposition import PCA\n",
    "import plotly.express as px\n",
    "#nltk.download('stopwords')\n",
    "#nltk.download('punkt')"
   ]
  },
  {
   "cell_type": "code",
   "execution_count": 2,
   "metadata": {},
   "outputs": [],
   "source": [
    "# The tokenizer of nltk was too slow for that case.\n",
    "# So, we will use python regular expressions to \n",
    "# increase speed\n",
    "\n",
    "def tokenize_and_count(text):\n",
    "    \"\"\"\n",
    "    This function will tokenize a text using regular\n",
    "    expressions and counts the number of times each\n",
    "    token is present in the text\n",
    "    \"\"\"\n",
    "    # Tokenize the text\n",
    "    p = re.compile(\"[a-z]+\") # Using a regular expression here\n",
    "    tokens = p.findall(text.lower())\n",
    "    tokens_counts = Counter(tokens)\n",
    "    final_dict = {k: v for k, v in sorted(tokens_counts.items(), key=lambda item: item[1], reverse=True)}\n",
    "    return final_dict\n",
    "\n",
    "def fair_compose(tokens_positive, tokens_negative, n=100):\n",
    "    \"\"\"\n",
    "    Given the most common words on each class, this function\n",
    "    will compose a vocabulary with the words that are common\n",
    "    to both classes while keeping the most popular words for\n",
    "    each class. \n",
    "    \"\"\"\n",
    "    vocabulary = []\n",
    "    i = 0\n",
    "    j = 0\n",
    "    while len(set(vocabulary)) < n:\n",
    "        while True:\n",
    "            w = list(tokens_positive.keys())[i]\n",
    "            i +=1\n",
    "            if w not in stopwords.words('english'):\n",
    "                vocabulary.append(w)\n",
    "                break\n",
    "        while True:\n",
    "            w = list(tokens_negative.keys())[j]\n",
    "            j +=1\n",
    "            if w not in stopwords.words('english'):\n",
    "                vocabulary.append(w)\n",
    "                break\n",
    "    return list(set(vocabulary))\n",
    "\n",
    "def compute_vocabulary(text_positive, text_negative, n=100):\n",
    "    \"\"\"\n",
    "    This function will create a vocabulary with the n most frequent words\n",
    "    that are present in the text_positive and text_negative at the same\n",
    "    time.  \n",
    "    The function will also remove the stopwords and compute the frequency\n",
    "    for each word in the positive texts and the negative texts.\n",
    "    Returns two dictionaries.\n",
    "    \"\"\"\n",
    "    tokens_positive = tokenize_and_count(text_positive)\n",
    "    del(tokens_positive['br'])\n",
    "    tokens_negative = tokenize_and_count(text_negative)\n",
    "    del(tokens_negative['br'])\n",
    "    vocabulary = fair_compose(tokens_positive, tokens_negative, n)\n",
    "    return vocabulary"
   ]
  },
  {
   "cell_type": "code",
   "execution_count": 3,
   "metadata": {},
   "outputs": [],
   "source": [
    "data = pd.read_csv(\"./IMDB_Dataset.csv\")"
   ]
  },
  {
   "cell_type": "code",
   "execution_count": 4,
   "metadata": {},
   "outputs": [
    {
     "data": {
      "text/html": [
       "<div>\n",
       "<style scoped>\n",
       "    .dataframe tbody tr th:only-of-type {\n",
       "        vertical-align: middle;\n",
       "    }\n",
       "\n",
       "    .dataframe tbody tr th {\n",
       "        vertical-align: top;\n",
       "    }\n",
       "\n",
       "    .dataframe thead th {\n",
       "        text-align: right;\n",
       "    }\n",
       "</style>\n",
       "<table border=\"1\" class=\"dataframe\">\n",
       "  <thead>\n",
       "    <tr style=\"text-align: right;\">\n",
       "      <th></th>\n",
       "      <th>review</th>\n",
       "      <th>sentiment</th>\n",
       "    </tr>\n",
       "  </thead>\n",
       "  <tbody>\n",
       "    <tr>\n",
       "      <th>0</th>\n",
       "      <td>One of the other reviewers has mentioned that ...</td>\n",
       "      <td>positive</td>\n",
       "    </tr>\n",
       "    <tr>\n",
       "      <th>1</th>\n",
       "      <td>A wonderful little production. &lt;br /&gt;&lt;br /&gt;The...</td>\n",
       "      <td>positive</td>\n",
       "    </tr>\n",
       "    <tr>\n",
       "      <th>2</th>\n",
       "      <td>I thought this was a wonderful way to spend ti...</td>\n",
       "      <td>positive</td>\n",
       "    </tr>\n",
       "    <tr>\n",
       "      <th>3</th>\n",
       "      <td>Basically there's a family where a little boy ...</td>\n",
       "      <td>negative</td>\n",
       "    </tr>\n",
       "    <tr>\n",
       "      <th>4</th>\n",
       "      <td>Petter Mattei's \"Love in the Time of Money\" is...</td>\n",
       "      <td>positive</td>\n",
       "    </tr>\n",
       "  </tbody>\n",
       "</table>\n",
       "</div>"
      ],
      "text/plain": [
       "                                              review sentiment\n",
       "0  One of the other reviewers has mentioned that ...  positive\n",
       "1  A wonderful little production. <br /><br />The...  positive\n",
       "2  I thought this was a wonderful way to spend ti...  positive\n",
       "3  Basically there's a family where a little boy ...  negative\n",
       "4  Petter Mattei's \"Love in the Time of Money\" is...  positive"
      ]
     },
     "execution_count": 4,
     "metadata": {},
     "output_type": "execute_result"
    }
   ],
   "source": [
    "data.head()"
   ]
  },
  {
   "cell_type": "code",
   "execution_count": 5,
   "metadata": {},
   "outputs": [
    {
     "data": {
      "text/plain": [
       "(50000, 2)"
      ]
     },
     "execution_count": 5,
     "metadata": {},
     "output_type": "execute_result"
    }
   ],
   "source": [
    "data.shape"
   ]
  },
  {
   "cell_type": "code",
   "execution_count": null,
   "metadata": {},
   "outputs": [],
   "source": [
    "# Our training set will be formed by 20k positive and 20k negative reviews\n",
    "vocabulary_size = 2000\n",
    "data_positive = data[data['sentiment']=='positive']\n",
    "data_negative = data[data['sentiment']=='negative']\n",
    "# Training set\n",
    "text_positive_train = \" \".join(list(data_positive['review'][:20000]))\n",
    "text_negative_train = \" \".join(list(data_negative[\"review\"][:20000]))\n",
    "# Get the vocabulary\n",
    "vocabulary = compute_vocabulary(text_positive_train, text_negative_train, vocabulary_size)"
   ]
  },
  {
   "cell_type": "code",
   "execution_count": 10,
   "metadata": {},
   "outputs": [
    {
     "data": {
      "text/plain": [
       "500"
      ]
     },
     "execution_count": 10,
     "metadata": {},
     "output_type": "execute_result"
    }
   ],
   "source": [
    "len(vocabulary)"
   ]
  },
  {
   "cell_type": "code",
   "execution_count": 14,
   "metadata": {},
   "outputs": [],
   "source": [
    "def compute_IDF(t, list_of_documents):\n",
    "    \"\"\"\n",
    "    Compute the IDF for a given term t\n",
    "    Receives a word t and a list of documents.\n",
    "    Each document on the list has been already\n",
    "    tokenized.\n",
    "    \"\"\"\n",
    "    denominator = 1\n",
    "    for d in list_of_documents:\n",
    "        if t in d:\n",
    "            denominator +=1\n",
    "    return np.log(len(list_of_documents)/denominator)\n",
    "\n",
    "def compute_TF_IDF_vector(document, IDF_dictionary, vocabulary):\n",
    "    \"\"\"\n",
    "    Compute the TF-IDF for a given document.\n",
    "    The document is already tokenized.\n",
    "    Returns a list\n",
    "    \"\"\"\n",
    "    n = len(document)\n",
    "    words = list(set(document)&set(vocabulary))\n",
    "    terms_counts = Counter(document)\n",
    "    tf_idf_vector = [0 for i in range(len(vocabulary))]\n",
    "    for w in words:\n",
    "        Ix = vocabulary.index(w)\n",
    "        tf_idf_vector[Ix] = terms_counts[w] / n * IDF_dictionary[w]\n",
    "    return tf_idf_vector\n",
    "\n",
    " \n",
    "\n"
   ]
  },
  {
   "cell_type": "code",
   "execution_count": null,
   "metadata": {},
   "outputs": [],
   "source": [
    "# Tokenize all documents\n",
    "list_of_documents = []\n",
    "p = re.compile(\"[a-z]+\") # The regular expression for tokenizing a document\n",
    "for d in data[\"review\"]:\n",
    "    list_of_documents.append(p.findall(d.lower()))"
   ]
  },
  {
   "cell_type": "code",
   "execution_count": null,
   "metadata": {},
   "outputs": [
    {
     "name": "stderr",
     "output_type": "stream",
     "text": [
      "100%|██████████| 500/500 [01:13<00:00,  6.78it/s]\n"
     ]
    }
   ],
   "source": [
    "# Compute the IDF_dictionary\n",
    "IDF_dict = {}\n",
    "for i in tqdm(range(len(vocabulary))):\n",
    "    t = vocabulary[i]\n",
    "    IDF_dict[t] = compute_IDF(t, list_of_documents)\n",
    "\n"
   ]
  },
  {
   "cell_type": "code",
   "execution_count": 25,
   "metadata": {},
   "outputs": [
    {
     "name": "stderr",
     "output_type": "stream",
     "text": [
      "100%|██████████| 50000/50000 [00:11<00:00, 4205.44it/s]\n"
     ]
    }
   ],
   "source": [
    "# Compute the TF-IDF matrix\n",
    "TF_IDF = []\n",
    "for i in tqdm(range(len(list_of_documents))):\n",
    "    d = list_of_documents[i]\n",
    "    TF_IDF.append(compute_TF_IDF_vector(d, IDF_dict, vocabulary))"
   ]
  },
  {
   "cell_type": "code",
   "execution_count": 29,
   "metadata": {},
   "outputs": [],
   "source": [
    "TF_IDF_matrix = np.array(TF_IDF)"
   ]
  },
  {
   "cell_type": "code",
   "execution_count": 31,
   "metadata": {},
   "outputs": [
    {
     "data": {
      "text/html": [
       "<style>#sk-container-id-1 {color: black;}#sk-container-id-1 pre{padding: 0;}#sk-container-id-1 div.sk-toggleable {background-color: white;}#sk-container-id-1 label.sk-toggleable__label {cursor: pointer;display: block;width: 100%;margin-bottom: 0;padding: 0.3em;box-sizing: border-box;text-align: center;}#sk-container-id-1 label.sk-toggleable__label-arrow:before {content: \"▸\";float: left;margin-right: 0.25em;color: #696969;}#sk-container-id-1 label.sk-toggleable__label-arrow:hover:before {color: black;}#sk-container-id-1 div.sk-estimator:hover label.sk-toggleable__label-arrow:before {color: black;}#sk-container-id-1 div.sk-toggleable__content {max-height: 0;max-width: 0;overflow: hidden;text-align: left;background-color: #f0f8ff;}#sk-container-id-1 div.sk-toggleable__content pre {margin: 0.2em;color: black;border-radius: 0.25em;background-color: #f0f8ff;}#sk-container-id-1 input.sk-toggleable__control:checked~div.sk-toggleable__content {max-height: 200px;max-width: 100%;overflow: auto;}#sk-container-id-1 input.sk-toggleable__control:checked~label.sk-toggleable__label-arrow:before {content: \"▾\";}#sk-container-id-1 div.sk-estimator input.sk-toggleable__control:checked~label.sk-toggleable__label {background-color: #d4ebff;}#sk-container-id-1 div.sk-label input.sk-toggleable__control:checked~label.sk-toggleable__label {background-color: #d4ebff;}#sk-container-id-1 input.sk-hidden--visually {border: 0;clip: rect(1px 1px 1px 1px);clip: rect(1px, 1px, 1px, 1px);height: 1px;margin: -1px;overflow: hidden;padding: 0;position: absolute;width: 1px;}#sk-container-id-1 div.sk-estimator {font-family: monospace;background-color: #f0f8ff;border: 1px dotted black;border-radius: 0.25em;box-sizing: border-box;margin-bottom: 0.5em;}#sk-container-id-1 div.sk-estimator:hover {background-color: #d4ebff;}#sk-container-id-1 div.sk-parallel-item::after {content: \"\";width: 100%;border-bottom: 1px solid gray;flex-grow: 1;}#sk-container-id-1 div.sk-label:hover label.sk-toggleable__label {background-color: #d4ebff;}#sk-container-id-1 div.sk-serial::before {content: \"\";position: absolute;border-left: 1px solid gray;box-sizing: border-box;top: 0;bottom: 0;left: 50%;z-index: 0;}#sk-container-id-1 div.sk-serial {display: flex;flex-direction: column;align-items: center;background-color: white;padding-right: 0.2em;padding-left: 0.2em;position: relative;}#sk-container-id-1 div.sk-item {position: relative;z-index: 1;}#sk-container-id-1 div.sk-parallel {display: flex;align-items: stretch;justify-content: center;background-color: white;position: relative;}#sk-container-id-1 div.sk-item::before, #sk-container-id-1 div.sk-parallel-item::before {content: \"\";position: absolute;border-left: 1px solid gray;box-sizing: border-box;top: 0;bottom: 0;left: 50%;z-index: -1;}#sk-container-id-1 div.sk-parallel-item {display: flex;flex-direction: column;z-index: 1;position: relative;background-color: white;}#sk-container-id-1 div.sk-parallel-item:first-child::after {align-self: flex-end;width: 50%;}#sk-container-id-1 div.sk-parallel-item:last-child::after {align-self: flex-start;width: 50%;}#sk-container-id-1 div.sk-parallel-item:only-child::after {width: 0;}#sk-container-id-1 div.sk-dashed-wrapped {border: 1px dashed gray;margin: 0 0.4em 0.5em 0.4em;box-sizing: border-box;padding-bottom: 0.4em;background-color: white;}#sk-container-id-1 div.sk-label label {font-family: monospace;font-weight: bold;display: inline-block;line-height: 1.2em;}#sk-container-id-1 div.sk-label-container {text-align: center;}#sk-container-id-1 div.sk-container {/* jupyter's `normalize.less` sets `[hidden] { display: none; }` but bootstrap.min.css set `[hidden] { display: none !important; }` so we also need the `!important` here to be able to override the default hidden behavior on the sphinx rendered scikit-learn.org. See: https://github.com/scikit-learn/scikit-learn/issues/21755 */display: inline-block !important;position: relative;}#sk-container-id-1 div.sk-text-repr-fallback {display: none;}</style><div id=\"sk-container-id-1\" class=\"sk-top-container\"><div class=\"sk-text-repr-fallback\"><pre>PCA(n_components=2)</pre><b>In a Jupyter environment, please rerun this cell to show the HTML representation or trust the notebook. <br />On GitHub, the HTML representation is unable to render, please try loading this page with nbviewer.org.</b></div><div class=\"sk-container\" hidden><div class=\"sk-item\"><div class=\"sk-estimator sk-toggleable\"><input class=\"sk-toggleable__control sk-hidden--visually\" id=\"sk-estimator-id-1\" type=\"checkbox\" checked><label for=\"sk-estimator-id-1\" class=\"sk-toggleable__label sk-toggleable__label-arrow\">PCA</label><div class=\"sk-toggleable__content\"><pre>PCA(n_components=2)</pre></div></div></div></div></div>"
      ],
      "text/plain": [
       "PCA(n_components=2)"
      ]
     },
     "execution_count": 31,
     "metadata": {},
     "output_type": "execute_result"
    }
   ],
   "source": [
    "pca = PCA(n_components=2)\n",
    "pca.fit(TF_IDF_matrix)"
   ]
  },
  {
   "cell_type": "code",
   "execution_count": 32,
   "metadata": {},
   "outputs": [
    {
     "name": "stdout",
     "output_type": "stream",
     "text": [
      "[0.01026865 0.00917184]\n"
     ]
    }
   ],
   "source": [
    "print(pca.explained_variance_ratio_)"
   ]
  },
  {
   "cell_type": "code",
   "execution_count": 33,
   "metadata": {},
   "outputs": [],
   "source": [
    "reduced_data = PCA(n_components=2).fit_transform(TF_IDF_matrix)"
   ]
  },
  {
   "cell_type": "code",
   "execution_count": 41,
   "metadata": {},
   "outputs": [
    {
     "data": {
      "text/plain": [
       "0"
      ]
     },
     "execution_count": 41,
     "metadata": {},
     "output_type": "execute_result"
    }
   ],
   "source": [
    "np.sum(TF_IDF_matrix.sum(axis=1) == 0)"
   ]
  },
  {
   "cell_type": "code",
   "execution_count": 45,
   "metadata": {},
   "outputs": [],
   "source": [
    "data2plot = pd.DataFrame({'x': reduced_data[:, 0],\n",
    "                          'y': reduced_data[:, 1], \n",
    "                          'sentiment': data[\"sentiment\"]})"
   ]
  },
  {
   "cell_type": "code",
   "execution_count": 58,
   "metadata": {},
   "outputs": [],
   "source": [
    "data2plot.head()\n",
    "# only select some values to plot\n",
    "n = 100\n",
    "df_positive = data2plot[data2plot['sentiment']==\"positive\"][:n]\n",
    "df_negative = data2plot[data2plot['sentiment']==\"negative\"][:n]\n",
    "df = pd.concat([df_positive, df_negative])\n"
   ]
  },
  {
   "cell_type": "code",
   "execution_count": 60,
   "metadata": {},
   "outputs": [
    {
     "data": {
      "application/vnd.plotly.v1+json": {
       "config": {
        "plotlyServerURL": "https://plot.ly"
       },
       "data": [
        {
         "hovertemplate": "sentiment=positive<br>x=%{x}<br>y=%{y}<extra></extra>",
         "legendgroup": "positive",
         "marker": {
          "color": "#636efa",
          "opacity": 0.7,
          "symbol": "circle"
         },
         "mode": "markers",
         "name": "positive",
         "orientation": "v",
         "showlegend": true,
         "type": "scatter",
         "x": [
          -0.010696977813824258,
          -0.007195722982760435,
          -0.006676537565320321,
          -0.0065506893518279315,
          -0.004651977652396023,
          -0.005158912250230596,
          -0.0023259944723631886,
          0.014865170803826778,
          0.00300494603636703,
          -0.004932261980909703,
          0.00035925107657226664,
          0.003482977630373135,
          -0.012254477790045957,
          0.0006145419463951304,
          -0.012319773543711826,
          -0.010406833822364483,
          -0.010562882062716142,
          -0.008671317168462861,
          -0.02020595087000309,
          -0.010294007382130458,
          -0.007447204880809325,
          -0.00061208314101582,
          -0.010602151554086933,
          -0.005150318381249742,
          -0.010679749207474725,
          -0.004788207644135793,
          0.0018734575916511849,
          -0.009288113858846071,
          -0.005588525381424506,
          0.0013704636366439875,
          -0.010626988789306291,
          0.001073832751384852,
          -0.004103279007097246,
          0.004850422503008198,
          -0.008016277442869257,
          -0.007073656587886165,
          -0.00393562329883877,
          -0.004204332210888288,
          -0.011578813081774181,
          -0.004922159962678687,
          -0.006529267477184865,
          -0.00896756190192005,
          -0.0026179214044139095,
          -0.0003925052324392089,
          -0.0007155439430004037,
          -0.01418960465814269,
          -0.0029045022720702294,
          -0.012781878112331793,
          -0.000012369588042688109,
          -0.0007514513613994149,
          -0.0030632946525055776,
          0.004655156114323399,
          -0.007930089644744053,
          0.027646050709071588,
          -0.007312087872322954,
          -0.0078045521646487905,
          0.009237645350523772,
          -0.004850156488867762,
          -0.0003823564924460122,
          -0.005193769496333192,
          -0.00586823236856226,
          -0.00786790926730019,
          -0.009225238690387877,
          -0.004680671975939308,
          -0.0014135330548796419,
          -0.01222984765399221,
          -0.013925781566632666,
          -0.0018904361276703403,
          -0.009360528291107643,
          0.004915889289351112,
          0.005714124132675183,
          -0.0029507480541076845,
          0.007510411461083299,
          -0.006237594663579264,
          -0.015265783466499306,
          0.005350635909691529,
          -0.0028248536824136026,
          -0.0032487506948471567,
          0.005359543073699888,
          0.0037553646333011808,
          -0.007895276909381481,
          -0.013821522267595221,
          -0.011011705700140137,
          -0.0008958530481605061,
          -0.0056189378688608375,
          -0.007885025088720753,
          0.0008325076936694046,
          0.0033383427532229486,
          -0.012243934624425705,
          -0.011522860788456888,
          -0.006383051408093309,
          -0.017304066534640596,
          0.02091316287498512,
          -0.009276622281298108,
          -0.0040232787328962965,
          0.013333415655202787,
          -0.00738127316691357,
          -0.011718676977275437,
          -0.008194692998621847,
          -0.001254933306615082
         ],
         "xaxis": "x",
         "y": [
          0.018880174011540244,
          -0.00494292373761048,
          -0.002136882037040689,
          -0.0043010170476034644,
          -0.00037093888745364623,
          0.011814389431135854,
          0.0025833220567332777,
          -0.0010056822437234595,
          -0.007137719148988468,
          -0.0041937165389652675,
          -0.0025230361872316787,
          0.0018133179599456725,
          -0.005747392547012917,
          -0.0034002593437710083,
          -0.011329874830610823,
          -0.007549967175628128,
          -0.005425079893413682,
          -0.00782268764239991,
          0.02963069578444599,
          -0.00989713653706667,
          0.011648915488742074,
          -0.003375626004979551,
          -0.0075075004553247894,
          -0.0049711321837177845,
          -0.004976030433327643,
          -0.005925100525142668,
          -0.0015966187846137975,
          -0.008081752006216594,
          -0.005097795875510666,
          -0.0007585102968849296,
          -0.0081103710137558,
          -0.001921016206159803,
          -0.004601376471744828,
          0.0006285509904026805,
          -0.0052686107842565486,
          -0.0072342085674044,
          -0.0028110945305708248,
          -0.0032909145760013983,
          -0.007889363337857024,
          -0.005207621334942846,
          -0.006940725407894928,
          -0.0030009863394115997,
          0.0047895245705494825,
          0.0008891738427505326,
          -0.0008810189991012779,
          -0.0003523269571504656,
          -0.008785325319350034,
          -0.006598271166129551,
          -0.003173664050392549,
          -0.0008173731357117674,
          -0.006616875526735527,
          -0.00020767953369611375,
          -0.007567069287286829,
          -0.0029170182438699598,
          -0.005587727031296333,
          -0.004493193011810675,
          0.0049353507140985405,
          -0.00329017478038449,
          -0.005551155688243724,
          -0.005827006107582655,
          -0.001853475175781303,
          0.006302076867667539,
          -0.003943373095079763,
          -0.0016668351030492056,
          -0.00601683539845559,
          -0.007134535789545696,
          -0.008933677558293,
          -0.004132045352037205,
          -0.011746487430394196,
          -0.002201763114930736,
          0.006460345109244924,
          -0.0022591213259326314,
          0.0040736631465167214,
          0.003494215467904154,
          0.004745665003449742,
          -0.004674757054677347,
          -0.0017975689348665703,
          -0.0073827586086144025,
          -0.0030506846737984408,
          -0.008194526549645411,
          -0.00658770665965302,
          -0.0040150679373275,
          0.00429685740737138,
          -0.010201458627511855,
          -0.005678342540611001,
          -0.005059119943870667,
          -0.00488499812345048,
          0.0020564586501793498,
          -0.006926028497875637,
          0.027521721640154435,
          0.0029076738145351723,
          0.02056986522636195,
          -0.0024820867359203087,
          -0.007359313396157549,
          -0.005989040887210004,
          0.012189478671441678,
          -0.005406186472429546,
          -0.005710210576996166,
          -0.006611689998613299,
          -0.0014465716179521313
         ],
         "yaxis": "y"
        },
        {
         "hovertemplate": "sentiment=negative<br>x=%{x}<br>y=%{y}<extra></extra>",
         "legendgroup": "negative",
         "marker": {
          "color": "#EF553B",
          "opacity": 0.7,
          "symbol": "circle"
         },
         "mode": "markers",
         "name": "negative",
         "orientation": "v",
         "showlegend": true,
         "type": "scatter",
         "x": [
          -0.00532977750843294,
          -0.006500766630175246,
          0.014442374012951677,
          0.0032781547685397784,
          -0.002219259946071762,
          -0.0009320626009365031,
          -0.0028812194975978574,
          0.004665159311484837,
          0.011260394506596993,
          -0.0013676002855807993,
          0.0220889058350503,
          0.011107094624854465,
          0.011075153568705746,
          -0.009496332526690842,
          0.006552805703995769,
          0.004779166413528659,
          0.01197959838162471,
          0.0022421713069312294,
          0.020788949845890425,
          0.00004349836193421143,
          0.00388473693962709,
          0.01741625214739442,
          0.008656202150692419,
          -0.003171900842536606,
          -0.0025499611330236788,
          -0.0018913549355860251,
          0.006709353751513585,
          -0.0035996411845994037,
          -0.0022819603868899497,
          0.0006418361638553417,
          -0.009352923860032551,
          0.004188866913902008,
          -0.005415627148661088,
          0.007818466053893684,
          0.0025014242584549483,
          0.0003978093369151762,
          0.010186477500169428,
          0.0021166031395425827,
          0.002039627767772752,
          0.0007064121910143474,
          -0.0006169569041014315,
          -0.0017278152662246356,
          0.00229560859130038,
          -0.000044044380443501464,
          0.0072950088168817935,
          0.008976982133357375,
          0.0045351709536958105,
          0.023799039647406862,
          0.03134240767095821,
          -0.007430556017460572,
          0.016182559087452097,
          -0.0036281816437955952,
          0.004486479832028882,
          0.008766627534193612,
          -0.003698804475328198,
          0.004299967387083577,
          0.048287608357614045,
          0.03851287575255104,
          -0.0030617569133517047,
          -0.0015140985851971422,
          0.011594659180731166,
          0.003399687877722292,
          0.003026555552249488,
          0.009193850634666318,
          0.008093481467868958,
          -0.0003275406504815485,
          -0.0028690106172882183,
          -0.012313994082813215,
          0.0042891052871444815,
          0.023925009792494335,
          0.00045320358560263063,
          -0.0068559495124518345,
          -0.0022439625794137405,
          0.005487603258963582,
          0.009008800255906871,
          0.0005555826277281495,
          -0.012050313103153956,
          0.006397143949244324,
          -0.003378892280678613,
          0.0001573574555001119,
          -0.002315178784964936,
          -0.002799434600584054,
          -0.00630991572075999,
          0.0028528147294827884,
          -0.005420717702215064,
          -0.0059191494912276665,
          0.005331613270369802,
          0.0073462029943831275,
          -0.0065163695779999545,
          -0.006791044952725185,
          0.0067672802343549,
          0.049847870634518024,
          -0.002437799642942461,
          -0.001367140770743358,
          -0.006846922177436043,
          0.005475119682475931,
          -0.005291798542426543,
          0.003190571826590496,
          0.010969394092058415,
          0.018041554780243687
         ],
         "xaxis": "x",
         "y": [
          -0.004531662262650525,
          0.0526758290501916,
          -0.0039040609882760196,
          0.00297062436937971,
          -0.005922453933825973,
          -0.0025465401851518933,
          0.0000355730763302548,
          -0.0034233387313740726,
          -0.0018930531036676875,
          -0.008113740185210952,
          0.0021776099532240002,
          0.008690405611409519,
          -0.0004753477948143633,
          -0.007756386181124623,
          0.001457574387832691,
          -0.004061366179470342,
          0.0021436043466001847,
          0.004235837382621286,
          0.00036578375720669785,
          -0.005100859811008011,
          -0.002124368185269543,
          -0.0017884457326845767,
          -0.0026110741030668217,
          -0.000030258793448954594,
          -0.008352000774835605,
          0.00011407493280661112,
          -0.0037177541499904118,
          -0.002455635253147649,
          0.0010310799723674076,
          -0.0053759676462370645,
          -0.004833279359429058,
          0.005128740724777902,
          0.0033974505173234642,
          -0.002869317104138093,
          -0.0040882114764424745,
          -0.003301245239566369,
          0.0028039934991354576,
          -0.0032260618960903466,
          0.00017038510178936467,
          0.004397433354008011,
          -0.0060986866275855875,
          -0.002406334348011308,
          -0.0033204838833200147,
          -0.003807570532979875,
          -0.0002036208896463303,
          0.0005033729123112599,
          -0.0043638177130257355,
          -0.001976377820616786,
          0.007993283226285402,
          -0.0032465340092091488,
          0.0035887473692223426,
          -0.0027143470757569894,
          -0.0028806436034196996,
          0.0017289011785663509,
          0.005605833511826731,
          -0.0025977349610334997,
          0.010683999785645932,
          0.00948532245647207,
          -0.0029399532070545262,
          -0.0036542140071222085,
          -0.0008438007631808387,
          -0.0025462632867000144,
          -0.0011325726444997744,
          0.002782663660352712,
          -0.004713309226428235,
          -0.010644376208235492,
          -0.006766246684401611,
          -0.009125820628756182,
          -0.0035874332302904175,
          0.0046473845654557595,
          -0.0071776425637979984,
          0.00759637575030162,
          -0.0036130129610627343,
          0.015956770041972625,
          -0.0005412735000818533,
          -0.002246524910454275,
          0.02955443298149199,
          -0.0016752752608836835,
          -0.008113460379186921,
          -0.0062235001488135135,
          -0.00474503406871653,
          -0.0013637695134578749,
          -0.007994814069897483,
          0.0030707916326471,
          0.0022528663090356695,
          -0.008150238062083818,
          0.03109422627614273,
          0.006320090111431392,
          -0.005635101603171362,
          -0.004854337566667706,
          -0.00011601649411826777,
          0.009633135307753941,
          -0.0026044907251016078,
          0.0007259553976906092,
          -0.000537602150404307,
          -0.006923287171670877,
          -0.004332393990610814,
          0.0027919116733773927,
          0.014142298205328169,
          -0.00016671852705801366
         ],
         "yaxis": "y"
        }
       ],
       "layout": {
        "legend": {
         "title": {
          "text": "sentiment"
         },
         "tracegroupgap": 0
        },
        "margin": {
         "t": 60
        },
        "template": {
         "data": {
          "bar": [
           {
            "error_x": {
             "color": "#2a3f5f"
            },
            "error_y": {
             "color": "#2a3f5f"
            },
            "marker": {
             "line": {
              "color": "#E5ECF6",
              "width": 0.5
             },
             "pattern": {
              "fillmode": "overlay",
              "size": 10,
              "solidity": 0.2
             }
            },
            "type": "bar"
           }
          ],
          "barpolar": [
           {
            "marker": {
             "line": {
              "color": "#E5ECF6",
              "width": 0.5
             },
             "pattern": {
              "fillmode": "overlay",
              "size": 10,
              "solidity": 0.2
             }
            },
            "type": "barpolar"
           }
          ],
          "carpet": [
           {
            "aaxis": {
             "endlinecolor": "#2a3f5f",
             "gridcolor": "white",
             "linecolor": "white",
             "minorgridcolor": "white",
             "startlinecolor": "#2a3f5f"
            },
            "baxis": {
             "endlinecolor": "#2a3f5f",
             "gridcolor": "white",
             "linecolor": "white",
             "minorgridcolor": "white",
             "startlinecolor": "#2a3f5f"
            },
            "type": "carpet"
           }
          ],
          "choropleth": [
           {
            "colorbar": {
             "outlinewidth": 0,
             "ticks": ""
            },
            "type": "choropleth"
           }
          ],
          "contour": [
           {
            "colorbar": {
             "outlinewidth": 0,
             "ticks": ""
            },
            "colorscale": [
             [
              0,
              "#0d0887"
             ],
             [
              0.1111111111111111,
              "#46039f"
             ],
             [
              0.2222222222222222,
              "#7201a8"
             ],
             [
              0.3333333333333333,
              "#9c179e"
             ],
             [
              0.4444444444444444,
              "#bd3786"
             ],
             [
              0.5555555555555556,
              "#d8576b"
             ],
             [
              0.6666666666666666,
              "#ed7953"
             ],
             [
              0.7777777777777778,
              "#fb9f3a"
             ],
             [
              0.8888888888888888,
              "#fdca26"
             ],
             [
              1,
              "#f0f921"
             ]
            ],
            "type": "contour"
           }
          ],
          "contourcarpet": [
           {
            "colorbar": {
             "outlinewidth": 0,
             "ticks": ""
            },
            "type": "contourcarpet"
           }
          ],
          "heatmap": [
           {
            "colorbar": {
             "outlinewidth": 0,
             "ticks": ""
            },
            "colorscale": [
             [
              0,
              "#0d0887"
             ],
             [
              0.1111111111111111,
              "#46039f"
             ],
             [
              0.2222222222222222,
              "#7201a8"
             ],
             [
              0.3333333333333333,
              "#9c179e"
             ],
             [
              0.4444444444444444,
              "#bd3786"
             ],
             [
              0.5555555555555556,
              "#d8576b"
             ],
             [
              0.6666666666666666,
              "#ed7953"
             ],
             [
              0.7777777777777778,
              "#fb9f3a"
             ],
             [
              0.8888888888888888,
              "#fdca26"
             ],
             [
              1,
              "#f0f921"
             ]
            ],
            "type": "heatmap"
           }
          ],
          "heatmapgl": [
           {
            "colorbar": {
             "outlinewidth": 0,
             "ticks": ""
            },
            "colorscale": [
             [
              0,
              "#0d0887"
             ],
             [
              0.1111111111111111,
              "#46039f"
             ],
             [
              0.2222222222222222,
              "#7201a8"
             ],
             [
              0.3333333333333333,
              "#9c179e"
             ],
             [
              0.4444444444444444,
              "#bd3786"
             ],
             [
              0.5555555555555556,
              "#d8576b"
             ],
             [
              0.6666666666666666,
              "#ed7953"
             ],
             [
              0.7777777777777778,
              "#fb9f3a"
             ],
             [
              0.8888888888888888,
              "#fdca26"
             ],
             [
              1,
              "#f0f921"
             ]
            ],
            "type": "heatmapgl"
           }
          ],
          "histogram": [
           {
            "marker": {
             "pattern": {
              "fillmode": "overlay",
              "size": 10,
              "solidity": 0.2
             }
            },
            "type": "histogram"
           }
          ],
          "histogram2d": [
           {
            "colorbar": {
             "outlinewidth": 0,
             "ticks": ""
            },
            "colorscale": [
             [
              0,
              "#0d0887"
             ],
             [
              0.1111111111111111,
              "#46039f"
             ],
             [
              0.2222222222222222,
              "#7201a8"
             ],
             [
              0.3333333333333333,
              "#9c179e"
             ],
             [
              0.4444444444444444,
              "#bd3786"
             ],
             [
              0.5555555555555556,
              "#d8576b"
             ],
             [
              0.6666666666666666,
              "#ed7953"
             ],
             [
              0.7777777777777778,
              "#fb9f3a"
             ],
             [
              0.8888888888888888,
              "#fdca26"
             ],
             [
              1,
              "#f0f921"
             ]
            ],
            "type": "histogram2d"
           }
          ],
          "histogram2dcontour": [
           {
            "colorbar": {
             "outlinewidth": 0,
             "ticks": ""
            },
            "colorscale": [
             [
              0,
              "#0d0887"
             ],
             [
              0.1111111111111111,
              "#46039f"
             ],
             [
              0.2222222222222222,
              "#7201a8"
             ],
             [
              0.3333333333333333,
              "#9c179e"
             ],
             [
              0.4444444444444444,
              "#bd3786"
             ],
             [
              0.5555555555555556,
              "#d8576b"
             ],
             [
              0.6666666666666666,
              "#ed7953"
             ],
             [
              0.7777777777777778,
              "#fb9f3a"
             ],
             [
              0.8888888888888888,
              "#fdca26"
             ],
             [
              1,
              "#f0f921"
             ]
            ],
            "type": "histogram2dcontour"
           }
          ],
          "mesh3d": [
           {
            "colorbar": {
             "outlinewidth": 0,
             "ticks": ""
            },
            "type": "mesh3d"
           }
          ],
          "parcoords": [
           {
            "line": {
             "colorbar": {
              "outlinewidth": 0,
              "ticks": ""
             }
            },
            "type": "parcoords"
           }
          ],
          "pie": [
           {
            "automargin": true,
            "type": "pie"
           }
          ],
          "scatter": [
           {
            "fillpattern": {
             "fillmode": "overlay",
             "size": 10,
             "solidity": 0.2
            },
            "type": "scatter"
           }
          ],
          "scatter3d": [
           {
            "line": {
             "colorbar": {
              "outlinewidth": 0,
              "ticks": ""
             }
            },
            "marker": {
             "colorbar": {
              "outlinewidth": 0,
              "ticks": ""
             }
            },
            "type": "scatter3d"
           }
          ],
          "scattercarpet": [
           {
            "marker": {
             "colorbar": {
              "outlinewidth": 0,
              "ticks": ""
             }
            },
            "type": "scattercarpet"
           }
          ],
          "scattergeo": [
           {
            "marker": {
             "colorbar": {
              "outlinewidth": 0,
              "ticks": ""
             }
            },
            "type": "scattergeo"
           }
          ],
          "scattergl": [
           {
            "marker": {
             "colorbar": {
              "outlinewidth": 0,
              "ticks": ""
             }
            },
            "type": "scattergl"
           }
          ],
          "scattermapbox": [
           {
            "marker": {
             "colorbar": {
              "outlinewidth": 0,
              "ticks": ""
             }
            },
            "type": "scattermapbox"
           }
          ],
          "scatterpolar": [
           {
            "marker": {
             "colorbar": {
              "outlinewidth": 0,
              "ticks": ""
             }
            },
            "type": "scatterpolar"
           }
          ],
          "scatterpolargl": [
           {
            "marker": {
             "colorbar": {
              "outlinewidth": 0,
              "ticks": ""
             }
            },
            "type": "scatterpolargl"
           }
          ],
          "scatterternary": [
           {
            "marker": {
             "colorbar": {
              "outlinewidth": 0,
              "ticks": ""
             }
            },
            "type": "scatterternary"
           }
          ],
          "surface": [
           {
            "colorbar": {
             "outlinewidth": 0,
             "ticks": ""
            },
            "colorscale": [
             [
              0,
              "#0d0887"
             ],
             [
              0.1111111111111111,
              "#46039f"
             ],
             [
              0.2222222222222222,
              "#7201a8"
             ],
             [
              0.3333333333333333,
              "#9c179e"
             ],
             [
              0.4444444444444444,
              "#bd3786"
             ],
             [
              0.5555555555555556,
              "#d8576b"
             ],
             [
              0.6666666666666666,
              "#ed7953"
             ],
             [
              0.7777777777777778,
              "#fb9f3a"
             ],
             [
              0.8888888888888888,
              "#fdca26"
             ],
             [
              1,
              "#f0f921"
             ]
            ],
            "type": "surface"
           }
          ],
          "table": [
           {
            "cells": {
             "fill": {
              "color": "#EBF0F8"
             },
             "line": {
              "color": "white"
             }
            },
            "header": {
             "fill": {
              "color": "#C8D4E3"
             },
             "line": {
              "color": "white"
             }
            },
            "type": "table"
           }
          ]
         },
         "layout": {
          "annotationdefaults": {
           "arrowcolor": "#2a3f5f",
           "arrowhead": 0,
           "arrowwidth": 1
          },
          "autotypenumbers": "strict",
          "coloraxis": {
           "colorbar": {
            "outlinewidth": 0,
            "ticks": ""
           }
          },
          "colorscale": {
           "diverging": [
            [
             0,
             "#8e0152"
            ],
            [
             0.1,
             "#c51b7d"
            ],
            [
             0.2,
             "#de77ae"
            ],
            [
             0.3,
             "#f1b6da"
            ],
            [
             0.4,
             "#fde0ef"
            ],
            [
             0.5,
             "#f7f7f7"
            ],
            [
             0.6,
             "#e6f5d0"
            ],
            [
             0.7,
             "#b8e186"
            ],
            [
             0.8,
             "#7fbc41"
            ],
            [
             0.9,
             "#4d9221"
            ],
            [
             1,
             "#276419"
            ]
           ],
           "sequential": [
            [
             0,
             "#0d0887"
            ],
            [
             0.1111111111111111,
             "#46039f"
            ],
            [
             0.2222222222222222,
             "#7201a8"
            ],
            [
             0.3333333333333333,
             "#9c179e"
            ],
            [
             0.4444444444444444,
             "#bd3786"
            ],
            [
             0.5555555555555556,
             "#d8576b"
            ],
            [
             0.6666666666666666,
             "#ed7953"
            ],
            [
             0.7777777777777778,
             "#fb9f3a"
            ],
            [
             0.8888888888888888,
             "#fdca26"
            ],
            [
             1,
             "#f0f921"
            ]
           ],
           "sequentialminus": [
            [
             0,
             "#0d0887"
            ],
            [
             0.1111111111111111,
             "#46039f"
            ],
            [
             0.2222222222222222,
             "#7201a8"
            ],
            [
             0.3333333333333333,
             "#9c179e"
            ],
            [
             0.4444444444444444,
             "#bd3786"
            ],
            [
             0.5555555555555556,
             "#d8576b"
            ],
            [
             0.6666666666666666,
             "#ed7953"
            ],
            [
             0.7777777777777778,
             "#fb9f3a"
            ],
            [
             0.8888888888888888,
             "#fdca26"
            ],
            [
             1,
             "#f0f921"
            ]
           ]
          },
          "colorway": [
           "#636efa",
           "#EF553B",
           "#00cc96",
           "#ab63fa",
           "#FFA15A",
           "#19d3f3",
           "#FF6692",
           "#B6E880",
           "#FF97FF",
           "#FECB52"
          ],
          "font": {
           "color": "#2a3f5f"
          },
          "geo": {
           "bgcolor": "white",
           "lakecolor": "white",
           "landcolor": "#E5ECF6",
           "showlakes": true,
           "showland": true,
           "subunitcolor": "white"
          },
          "hoverlabel": {
           "align": "left"
          },
          "hovermode": "closest",
          "mapbox": {
           "style": "light"
          },
          "paper_bgcolor": "white",
          "plot_bgcolor": "#E5ECF6",
          "polar": {
           "angularaxis": {
            "gridcolor": "white",
            "linecolor": "white",
            "ticks": ""
           },
           "bgcolor": "#E5ECF6",
           "radialaxis": {
            "gridcolor": "white",
            "linecolor": "white",
            "ticks": ""
           }
          },
          "scene": {
           "xaxis": {
            "backgroundcolor": "#E5ECF6",
            "gridcolor": "white",
            "gridwidth": 2,
            "linecolor": "white",
            "showbackground": true,
            "ticks": "",
            "zerolinecolor": "white"
           },
           "yaxis": {
            "backgroundcolor": "#E5ECF6",
            "gridcolor": "white",
            "gridwidth": 2,
            "linecolor": "white",
            "showbackground": true,
            "ticks": "",
            "zerolinecolor": "white"
           },
           "zaxis": {
            "backgroundcolor": "#E5ECF6",
            "gridcolor": "white",
            "gridwidth": 2,
            "linecolor": "white",
            "showbackground": true,
            "ticks": "",
            "zerolinecolor": "white"
           }
          },
          "shapedefaults": {
           "line": {
            "color": "#2a3f5f"
           }
          },
          "ternary": {
           "aaxis": {
            "gridcolor": "white",
            "linecolor": "white",
            "ticks": ""
           },
           "baxis": {
            "gridcolor": "white",
            "linecolor": "white",
            "ticks": ""
           },
           "bgcolor": "#E5ECF6",
           "caxis": {
            "gridcolor": "white",
            "linecolor": "white",
            "ticks": ""
           }
          },
          "title": {
           "x": 0.05
          },
          "xaxis": {
           "automargin": true,
           "gridcolor": "white",
           "linecolor": "white",
           "ticks": "",
           "title": {
            "standoff": 15
           },
           "zerolinecolor": "white",
           "zerolinewidth": 2
          },
          "yaxis": {
           "automargin": true,
           "gridcolor": "white",
           "linecolor": "white",
           "ticks": "",
           "title": {
            "standoff": 15
           },
           "zerolinecolor": "white",
           "zerolinewidth": 2
          }
         }
        },
        "xaxis": {
         "anchor": "y",
         "domain": [
          0,
          1
         ],
         "title": {
          "text": "x"
         }
        },
        "yaxis": {
         "anchor": "x",
         "domain": [
          0,
          1
         ],
         "title": {
          "text": "y"
         }
        }
       }
      }
     },
     "metadata": {},
     "output_type": "display_data"
    }
   ],
   "source": [
    "fig = px.scatter(df, x=\"x\", y=\"y\", color=\"sentiment\", opacity=0.7)\n",
    "fig.show()"
   ]
  },
  {
   "cell_type": "markdown",
   "metadata": {},
   "source": [
    "## Let's do a 3D plot"
   ]
  },
  {
   "cell_type": "code",
   "execution_count": 49,
   "metadata": {},
   "outputs": [],
   "source": [
    "reduced_data3D = PCA(n_components=3).fit_transform(TF_IDF_matrix)"
   ]
  },
  {
   "cell_type": "code",
   "execution_count": 61,
   "metadata": {},
   "outputs": [],
   "source": [
    "data2plot3D = pd.DataFrame({'x': reduced_data3D[:, 0],\n",
    "                            'y': reduced_data3D[:, 1], \n",
    "                            'z': reduced_data3D[:, 2], \n",
    "                            'sentiment': data['sentiment']})\n",
    "# only select some values to plot\n",
    "n = 100\n",
    "df_positive = data2plot3D[data2plot3D['sentiment']==\"positive\"][:n]\n",
    "df_negative = data2plot3D[data2plot3D['sentiment']==\"negative\"][:n]\n",
    "df = pd.concat([df_positive, df_negative])"
   ]
  },
  {
   "cell_type": "code",
   "execution_count": 63,
   "metadata": {},
   "outputs": [
    {
     "data": {
      "application/vnd.plotly.v1+json": {
       "config": {
        "plotlyServerURL": "https://plot.ly"
       },
       "data": [
        {
         "hovertemplate": "sentiment=positive<br>x=%{x}<br>y=%{y}<br>z=%{z}<extra></extra>",
         "legendgroup": "positive",
         "marker": {
          "color": "#636efa",
          "opacity": 0.9,
          "symbol": "circle"
         },
         "mode": "markers",
         "name": "positive",
         "scene": "scene",
         "showlegend": true,
         "type": "scatter3d",
         "x": [
          -0.010731772946036519,
          -0.007249094580498177,
          -0.0066656160418919405,
          -0.006587975983757804,
          -0.004656127188884548,
          -0.005094644236680297,
          -0.002228500240709608,
          0.014853967790672773,
          0.0029491318098393547,
          -0.004887614511813928,
          0.0003438475440317776,
          0.0035710689787391264,
          -0.012262151017955475,
          0.0005922516644022763,
          -0.01234244875256313,
          -0.010440298533466891,
          -0.01057626181457568,
          -0.008658742464958355,
          -0.01998922058880504,
          -0.010324397632475384,
          -0.007387102250442504,
          -0.0006157595368997514,
          -0.01061427304946615,
          -0.005168288940540793,
          -0.010674868187823434,
          -0.004857124644028063,
          0.001911865987527961,
          -0.009307357356666025,
          -0.005616645072467572,
          0.0013386986153227378,
          -0.010599116645064565,
          0.0010895262198312963,
          -0.004121580121520896,
          0.004829554586279215,
          -0.0080205040981316,
          -0.007075718701858002,
          -0.003924509375417509,
          -0.0042152530397203385,
          -0.01159634298174322,
          -0.004974108361830737,
          -0.006565010087823559,
          -0.008952834663057761,
          -0.0026591390657752854,
          -0.0003641249003377761,
          -0.0007397101309006157,
          -0.014277597579709199,
          -0.002938584744185217,
          -0.012773652026071898,
          -0.00013704803605420898,
          -0.0006923982648737309,
          -0.0030559829546414237,
          0.004661303846002761,
          -0.007933107712962765,
          0.027493190635655675,
          -0.007312321872532779,
          -0.007833645384162138,
          0.00924009663448525,
          -0.0047955799569111305,
          -0.0003687579853086126,
          -0.005183495240764089,
          -0.005845363967045039,
          -0.007856513988330111,
          -0.00919952282086396,
          -0.004589495841724934,
          -0.0014246029628638386,
          -0.012220514518565383,
          -0.013966213289440102,
          -0.0018305881735997621,
          -0.009340625227111043,
          0.004929311513050224,
          0.005752209959016968,
          -0.002919099785460751,
          0.007571004846351989,
          -0.006233950647189177,
          -0.015177715644353782,
          0.005229350601587405,
          -0.002810023903636201,
          -0.0032781646798964227,
          0.0053100195093914605,
          0.003778793867327888,
          -0.007962229472951037,
          -0.013828489364611299,
          -0.011105637237015,
          -0.0009068677017959394,
          -0.005634657922008376,
          -0.007920388503092762,
          0.0007481107146348071,
          0.0033786685300342735,
          -0.012235018389178712,
          -0.011531840280810576,
          -0.0064400522982223,
          -0.017123787231344483,
          0.020883639621714047,
          -0.009274762948720412,
          -0.004007086580130181,
          0.013410333192064448,
          -0.007412781429479421,
          -0.011725098244399114,
          -0.008193425471724528,
          -0.0012136953473416276
         ],
         "y": [
          0.018821978925736765,
          -0.00499735344874469,
          -0.002149623825009087,
          -0.00434411657007696,
          -0.0004022545985509812,
          0.011954802038848657,
          0.002805681956381471,
          -0.0009077760737663081,
          -0.007215499392987384,
          -0.004333796114931418,
          -0.0025040553397622507,
          0.0017811678266105978,
          -0.0056442968741526305,
          -0.00340264276934045,
          -0.011378079689000037,
          -0.0075226909164735865,
          -0.005379776959298779,
          -0.007826812806084537,
          0.030061627031810423,
          -0.009895692639796444,
          0.011692461355138286,
          -0.0033671094749686556,
          -0.00748191023692313,
          -0.00499714606171828,
          -0.004932308117696525,
          -0.00593747998008555,
          -0.0014992910889772804,
          -0.008141977172529737,
          -0.005082165433614902,
          -0.0007184238956287099,
          -0.008024994907237565,
          -0.0018949441444282566,
          -0.004467327318782834,
          0.0006425104057176851,
          -0.005222573903068819,
          -0.007298479404521566,
          -0.002802756980422789,
          -0.003339404724023932,
          -0.007827445150139337,
          -0.005232280686872325,
          -0.006909676313516094,
          -0.0032800424820241094,
          0.004597213578134134,
          0.0005462544269168278,
          -0.0008836975682688248,
          -0.00038002527388052366,
          -0.008833577019786305,
          -0.006515072669669636,
          -0.0032924089374000566,
          -0.0006779242898440454,
          -0.006571885986505274,
          -0.0001993614409353858,
          -0.007593984878105738,
          -0.0028428709685667185,
          -0.005580813315104327,
          -0.004438345521628275,
          0.005039972945083414,
          -0.003362780838336426,
          -0.005523723379290202,
          -0.005848899895378222,
          -0.0018281634041997644,
          0.0063448307130970875,
          -0.0039267698390996145,
          -0.0016818203636916175,
          -0.005937986037538402,
          -0.00716339256778176,
          -0.008942509804312921,
          -0.004070250859959871,
          -0.011738569696073972,
          -0.002138537255091503,
          0.006428826731744714,
          -0.00232109014746788,
          0.004141157927863682,
          0.003477975953527496,
          0.004840942975899123,
          -0.004771232988829035,
          -0.001716050840718116,
          -0.007485554496434158,
          -0.0030018856310565275,
          -0.008291533275141037,
          -0.006603280706070894,
          -0.004011769626841392,
          0.004249347389241478,
          -0.010470506356942346,
          -0.0057056780282958635,
          -0.005100070780280411,
          -0.0050078336010225925,
          0.0020462216123033955,
          -0.00700666113054635,
          0.027442756303960796,
          0.0026800986634890737,
          0.020974349115494378,
          -0.0022888490412108363,
          -0.007434018870147553,
          -0.005940146920122187,
          0.012221627165337314,
          -0.005407759610496361,
          -0.005704072103021308,
          -0.006594941021646183,
          -0.0013389989708709167
         ],
         "z": [
          -0.011453769749840303,
          0.005191718182929348,
          0.00432035915127084,
          -0.0030099448381194025,
          0.004978547128754938,
          0.00015578799485870795,
          0.03209364142687196,
          0.006554293920119665,
          -0.0002818028069587784,
          0.001246690504731807,
          -0.0024345610642480973,
          0.013754018106385492,
          0.01048326785335833,
          -0.0020313518966849175,
          -0.005384674882354916,
          -0.007695884484773587,
          -0.004901753214735435,
          -0.007692858079878572,
          0.0044730030752478285,
          0.010647502057779019,
          -0.0001927683013282193,
          0.009641858303857678,
          -0.006124101436653943,
          -0.0055281404552315555,
          -0.004134591755278732,
          -0.0039481938388539395,
          0.0006454846817881909,
          -0.006336794453358916,
          0.0024696103481147355,
          0.007309611442652496,
          -0.005958497885474281,
          -0.003875073117914044,
          -0.002169842002011153,
          0.008193781465170797,
          -0.01016346303971896,
          -0.005976300651052628,
          0.0023422651499813148,
          0.0020280600770318687,
          -0.008637799961553845,
          0.0015601072221529278,
          -0.004306487780072751,
          -0.0025868041517698097,
          -0.002032360636369888,
          0.002688244463767977,
          -0.006249983732987319,
          0.0016576632694889305,
          0.0043337590090194505,
          -0.008185862233811014,
          0.014591903186383941,
          0.010274432066137372,
          -0.00001312420294389184,
          0.003861945816473384,
          -0.0071284024484407045,
          0.007386523536038034,
          -0.0042836868478697675,
          -0.007602575063982938,
          0.016177246021815514,
          0.0006300537640500728,
          0.010951591140573272,
          -0.0031160635586079117,
          -0.0050599147570343705,
          0.0049603455166640515,
          -0.006428468770777451,
          0.007596426013955196,
          -0.0048279810651134705,
          -0.004575990217506109,
          -0.004436738942049113,
          -0.003529174502126871,
          0.008473576844855496,
          0.010033153605160466,
          0.033398145596791155,
          0.005208107456169916,
          0.010894871247893496,
          -0.0030823831181898617,
          0.0027969927487846514,
          -0.0017764817426323411,
          -0.0006826320287809369,
          0.016786024409082015,
          0.0005552825229152581,
          -0.00224959062749266,
          -0.006503808438352091,
          -0.009963725096556603,
          -0.00663466093946688,
          0.006368376951956356,
          -0.004343627296331199,
          -0.0024098873908179113,
          0.006664968897517041,
          0.007736870653844196,
          0.009466593058621058,
          -0.005745017071943561,
          0.012125719944325751,
          -0.006468985434458302,
          0.007606291288324473,
          -0.004169624980542954,
          0.00006632306433541656,
          0.01050361068983401,
          -0.0002798417309624097,
          -0.0004804471977527714,
          -0.009292671800515465,
          -0.0005396068750917755
         ]
        },
        {
         "hovertemplate": "sentiment=negative<br>x=%{x}<br>y=%{y}<br>z=%{z}<extra></extra>",
         "legendgroup": "negative",
         "marker": {
          "color": "#EF553B",
          "opacity": 0.9,
          "symbol": "circle"
         },
         "mode": "markers",
         "name": "negative",
         "scene": "scene",
         "showlegend": true,
         "type": "scatter3d",
         "x": [
          -0.005333706462358063,
          -0.006558237989788071,
          0.014459325098124563,
          0.0032344195512687547,
          -0.002218589691702905,
          -0.0009172959021500615,
          -0.0029055045103051065,
          0.004668580380872789,
          0.011239075083214695,
          -0.0013991932426160075,
          0.02204832016879382,
          0.011110252781966166,
          0.011093905531195372,
          -0.009529684423739615,
          0.006601142906858378,
          0.004762300205709688,
          0.012011239082867619,
          0.0022589914294747046,
          0.02078206815255752,
          0.000054425009060935475,
          0.003895624775282042,
          0.017345160076951218,
          0.008653632217542145,
          -0.0031185565769187044,
          -0.002595189707026689,
          -0.0018415910238077783,
          0.006725910457144616,
          -0.003596892021398777,
          -0.0022753845843788124,
          0.0006712199815517341,
          -0.009337751629897114,
          0.004201461344396952,
          -0.005399285813782024,
          0.007799260468329492,
          0.002466626501829078,
          0.0003834487010845833,
          0.010278228307947654,
          0.0021265374739859694,
          0.0020224853522063744,
          0.0006540251978800538,
          -0.0006044661150583872,
          -0.0017513990745988805,
          0.0023036344762196958,
          -0.000052182002194333456,
          0.007326355676333915,
          0.008969769621177195,
          0.004503672624938604,
          0.023777947485061676,
          0.031391316224763224,
          -0.007453649123548239,
          0.016139674471788434,
          -0.003636863146293757,
          0.004485067128989711,
          0.008821648749863634,
          -0.0036187793468773644,
          0.0043168911714141,
          0.04812761935634823,
          0.03854269403997309,
          -0.0030914218529571663,
          -0.0014906117689782803,
          0.011606150468321585,
          0.003478104702406816,
          0.003081612588469703,
          0.009160230354426606,
          0.008067776311251074,
          -0.00027779064682732356,
          -0.0029070614180776084,
          -0.012366828993524358,
          0.004244317631290861,
          0.02388652024511726,
          0.0004116110829778686,
          -0.006834424730839176,
          -0.00223312927196125,
          0.005409583608101835,
          0.009034935424742789,
          0.0005674578472920494,
          -0.01207273712656878,
          0.006376159492831948,
          -0.003422830261648729,
          0.0001482312486507234,
          -0.0023329670213176027,
          -0.0027759688058593053,
          -0.006485139848672143,
          0.002864948069430172,
          -0.0054608444972752525,
          -0.005947231012561919,
          0.005326492835610368,
          0.007261557585146318,
          -0.006542829446815933,
          -0.00685971879520238,
          0.006814023517924568,
          0.049871184634973184,
          -0.002421539730248376,
          -0.001376462807342641,
          -0.006845703109687816,
          0.005488437717657073,
          -0.005267149133059108,
          0.0032636115451908725,
          0.010945497061541676,
          0.01802598708222796
         ],
         "y": [
          -0.004471516436569082,
          0.05250109421396556,
          -0.004071549973286838,
          0.0028219482806793156,
          -0.005890074952325548,
          -0.0025626778784262447,
          0.00003281282431728818,
          -0.003467924234970611,
          -0.0018659089519164852,
          -0.008133350238744317,
          0.0022717293599492988,
          0.008692230462922399,
          -0.00045648264287485266,
          -0.00785830445613066,
          0.001513832815761983,
          -0.004150242636071706,
          0.00215916071183926,
          0.004275047230740698,
          0.00044929068248534745,
          -0.005086641003950221,
          -0.002092815785764269,
          -0.0016460962746739092,
          -0.0026114973385090784,
          0.00004899945900495198,
          -0.008262382607960167,
          0.00012622966078356228,
          -0.003692608959522275,
          -0.0024416823659918255,
          0.0009855914252542473,
          -0.005414101925491511,
          -0.004667961329619245,
          0.005174701154624954,
          0.003436285062956768,
          -0.0028281891709536844,
          -0.004071324520153542,
          -0.0032964286539136356,
          0.0030102843600738043,
          -0.003256520531333774,
          0.00020033177129744506,
          0.004373279293399121,
          -0.006167782839571663,
          -0.0023626405386335853,
          -0.0032678401312574356,
          -0.003820899852269844,
          -0.0000879358979657645,
          0.0005350665130163198,
          -0.004382472664485871,
          -0.001969749614149231,
          0.00805477264054814,
          -0.0032340627566493966,
          0.003623087957260419,
          -0.002693908526051684,
          -0.002850272490712717,
          0.0017324440072730436,
          0.005834896326319517,
          -0.0026086546370782497,
          0.010637556072823722,
          0.009348888416065095,
          -0.002986213610008709,
          -0.0035437623648687197,
          -0.0008013485726256047,
          -0.002573514165230757,
          -0.0010342964853202285,
          0.002600684854966947,
          -0.00471449765227552,
          -0.010835634499176822,
          -0.006690667495004841,
          -0.009093174048679424,
          -0.0035352326711470794,
          0.0045206913896436935,
          -0.007312619608024303,
          0.007629387073918401,
          -0.003639167979934358,
          0.01597947581328819,
          -0.0005279542477191746,
          -0.0022643215663901966,
          0.029568862036895065,
          -0.001863437649979857,
          -0.008081835630367594,
          -0.006316190444157945,
          -0.0047853687224182,
          -0.0013511257903567875,
          -0.008101831429452885,
          0.0031068888537805596,
          0.0022449566786777388,
          -0.008102487939370802,
          0.030963495181485213,
          0.006136860094069287,
          -0.0056654112516389375,
          -0.004774241780203654,
          -0.00006608321671695447,
          0.009709311960522254,
          -0.0027103649860898216,
          0.0007597960290431505,
          -0.0005542657574714337,
          -0.00684332368284535,
          -0.004263582850253307,
          0.0028440698522183374,
          0.014100831795107507,
          -0.00019084977490119965
         ],
         "z": [
          -0.0011422390792413892,
          -0.0060841337914760915,
          -0.004457249949825882,
          -0.004974164935575906,
          -0.0015060990340383465,
          -0.0016444974282256244,
          -0.0038075130575865807,
          -0.007810577075918086,
          -0.006870072013254103,
          -0.0038249900957851198,
          -0.002187782189400607,
          -0.001796322220360862,
          0.010890298786825969,
          -0.004665895618103916,
          -0.0019495643924614776,
          -0.0027573133644819355,
          0.000644815875382744,
          -0.0034572880395555214,
          -0.005011138476583841,
          -0.008769894567981489,
          -0.006138478705147681,
          0.010188446190179572,
          -0.008417760515580745,
          -0.007233656449848494,
          0.005522107423163095,
          -0.0048215716934463925,
          -0.00903917013265313,
          -0.005711148444296419,
          -0.006221090723413085,
          -0.009962838369979436,
          -0.009928899454233824,
          0.005953303479406806,
          -0.00639142294854569,
          -0.004032407695500441,
          -0.0032244237163923427,
          -0.008534772060646416,
          0.00883657679605159,
          0.0007349348201900235,
          -0.003713791321634915,
          -0.0006643297720284862,
          -0.0036571813792881506,
          -0.0003209060695444871,
          -0.009420896336560437,
          -0.009462521897328505,
          -0.00483432240171931,
          -0.003069139103863301,
          -0.00021996621738989435,
          -0.005840363205534245,
          0.0012329015028451967,
          -0.00129118659269805,
          0.0014436824418650842,
          -0.003117259502889764,
          -0.011913605228959555,
          0.0016188574023937494,
          0.0003506013193850861,
          -0.006219324152448145,
          0.013251176890615541,
          -0.003617043315661774,
          -0.0013443707791561351,
          -0.008971987569735813,
          -0.007062457817515143,
          -0.0032804933620473424,
          -0.0019555097448251102,
          0.007572642755977283,
          -0.0033715675398277114,
          -0.0007164931698947009,
          0.006636262815995743,
          -0.006466837754570506,
          -0.003194028829112578,
          0.004757851801369896,
          -0.006410446585001486,
          -0.01572925491071929,
          -0.008569416967325539,
          -0.0031850700360175643,
          0.0021440985569471283,
          0.0004076662292923498,
          -0.013298696317076177,
          0.002761539781715385,
          -0.007232926540962071,
          -0.0020837520248859023,
          0.0010902815353593053,
          -0.010971085853448075,
          0.02706552108467665,
          -0.009398249641590863,
          -0.0023375398748060093,
          -0.0017875224954495127,
          -0.000023458081974467455,
          -0.0002530659351812869,
          -0.005113292849719195,
          0.0020020055859394517,
          -0.0037397562650809883,
          -0.0037964234963780174,
          -0.0091754057577446,
          -0.006535122385879009,
          -0.012810174946484641,
          -0.010488989114067088,
          -0.0066159359069887565,
          -0.0014151977948784562,
          0.007024842486714693,
          -0.008511193936833392
         ]
        }
       ],
       "layout": {
        "legend": {
         "title": {
          "text": "sentiment"
         },
         "tracegroupgap": 0
        },
        "margin": {
         "t": 60
        },
        "scene": {
         "domain": {
          "x": [
           0,
           1
          ],
          "y": [
           0,
           1
          ]
         },
         "xaxis": {
          "title": {
           "text": "x"
          }
         },
         "yaxis": {
          "title": {
           "text": "y"
          }
         },
         "zaxis": {
          "title": {
           "text": "z"
          }
         }
        },
        "template": {
         "data": {
          "bar": [
           {
            "error_x": {
             "color": "#2a3f5f"
            },
            "error_y": {
             "color": "#2a3f5f"
            },
            "marker": {
             "line": {
              "color": "#E5ECF6",
              "width": 0.5
             },
             "pattern": {
              "fillmode": "overlay",
              "size": 10,
              "solidity": 0.2
             }
            },
            "type": "bar"
           }
          ],
          "barpolar": [
           {
            "marker": {
             "line": {
              "color": "#E5ECF6",
              "width": 0.5
             },
             "pattern": {
              "fillmode": "overlay",
              "size": 10,
              "solidity": 0.2
             }
            },
            "type": "barpolar"
           }
          ],
          "carpet": [
           {
            "aaxis": {
             "endlinecolor": "#2a3f5f",
             "gridcolor": "white",
             "linecolor": "white",
             "minorgridcolor": "white",
             "startlinecolor": "#2a3f5f"
            },
            "baxis": {
             "endlinecolor": "#2a3f5f",
             "gridcolor": "white",
             "linecolor": "white",
             "minorgridcolor": "white",
             "startlinecolor": "#2a3f5f"
            },
            "type": "carpet"
           }
          ],
          "choropleth": [
           {
            "colorbar": {
             "outlinewidth": 0,
             "ticks": ""
            },
            "type": "choropleth"
           }
          ],
          "contour": [
           {
            "colorbar": {
             "outlinewidth": 0,
             "ticks": ""
            },
            "colorscale": [
             [
              0,
              "#0d0887"
             ],
             [
              0.1111111111111111,
              "#46039f"
             ],
             [
              0.2222222222222222,
              "#7201a8"
             ],
             [
              0.3333333333333333,
              "#9c179e"
             ],
             [
              0.4444444444444444,
              "#bd3786"
             ],
             [
              0.5555555555555556,
              "#d8576b"
             ],
             [
              0.6666666666666666,
              "#ed7953"
             ],
             [
              0.7777777777777778,
              "#fb9f3a"
             ],
             [
              0.8888888888888888,
              "#fdca26"
             ],
             [
              1,
              "#f0f921"
             ]
            ],
            "type": "contour"
           }
          ],
          "contourcarpet": [
           {
            "colorbar": {
             "outlinewidth": 0,
             "ticks": ""
            },
            "type": "contourcarpet"
           }
          ],
          "heatmap": [
           {
            "colorbar": {
             "outlinewidth": 0,
             "ticks": ""
            },
            "colorscale": [
             [
              0,
              "#0d0887"
             ],
             [
              0.1111111111111111,
              "#46039f"
             ],
             [
              0.2222222222222222,
              "#7201a8"
             ],
             [
              0.3333333333333333,
              "#9c179e"
             ],
             [
              0.4444444444444444,
              "#bd3786"
             ],
             [
              0.5555555555555556,
              "#d8576b"
             ],
             [
              0.6666666666666666,
              "#ed7953"
             ],
             [
              0.7777777777777778,
              "#fb9f3a"
             ],
             [
              0.8888888888888888,
              "#fdca26"
             ],
             [
              1,
              "#f0f921"
             ]
            ],
            "type": "heatmap"
           }
          ],
          "heatmapgl": [
           {
            "colorbar": {
             "outlinewidth": 0,
             "ticks": ""
            },
            "colorscale": [
             [
              0,
              "#0d0887"
             ],
             [
              0.1111111111111111,
              "#46039f"
             ],
             [
              0.2222222222222222,
              "#7201a8"
             ],
             [
              0.3333333333333333,
              "#9c179e"
             ],
             [
              0.4444444444444444,
              "#bd3786"
             ],
             [
              0.5555555555555556,
              "#d8576b"
             ],
             [
              0.6666666666666666,
              "#ed7953"
             ],
             [
              0.7777777777777778,
              "#fb9f3a"
             ],
             [
              0.8888888888888888,
              "#fdca26"
             ],
             [
              1,
              "#f0f921"
             ]
            ],
            "type": "heatmapgl"
           }
          ],
          "histogram": [
           {
            "marker": {
             "pattern": {
              "fillmode": "overlay",
              "size": 10,
              "solidity": 0.2
             }
            },
            "type": "histogram"
           }
          ],
          "histogram2d": [
           {
            "colorbar": {
             "outlinewidth": 0,
             "ticks": ""
            },
            "colorscale": [
             [
              0,
              "#0d0887"
             ],
             [
              0.1111111111111111,
              "#46039f"
             ],
             [
              0.2222222222222222,
              "#7201a8"
             ],
             [
              0.3333333333333333,
              "#9c179e"
             ],
             [
              0.4444444444444444,
              "#bd3786"
             ],
             [
              0.5555555555555556,
              "#d8576b"
             ],
             [
              0.6666666666666666,
              "#ed7953"
             ],
             [
              0.7777777777777778,
              "#fb9f3a"
             ],
             [
              0.8888888888888888,
              "#fdca26"
             ],
             [
              1,
              "#f0f921"
             ]
            ],
            "type": "histogram2d"
           }
          ],
          "histogram2dcontour": [
           {
            "colorbar": {
             "outlinewidth": 0,
             "ticks": ""
            },
            "colorscale": [
             [
              0,
              "#0d0887"
             ],
             [
              0.1111111111111111,
              "#46039f"
             ],
             [
              0.2222222222222222,
              "#7201a8"
             ],
             [
              0.3333333333333333,
              "#9c179e"
             ],
             [
              0.4444444444444444,
              "#bd3786"
             ],
             [
              0.5555555555555556,
              "#d8576b"
             ],
             [
              0.6666666666666666,
              "#ed7953"
             ],
             [
              0.7777777777777778,
              "#fb9f3a"
             ],
             [
              0.8888888888888888,
              "#fdca26"
             ],
             [
              1,
              "#f0f921"
             ]
            ],
            "type": "histogram2dcontour"
           }
          ],
          "mesh3d": [
           {
            "colorbar": {
             "outlinewidth": 0,
             "ticks": ""
            },
            "type": "mesh3d"
           }
          ],
          "parcoords": [
           {
            "line": {
             "colorbar": {
              "outlinewidth": 0,
              "ticks": ""
             }
            },
            "type": "parcoords"
           }
          ],
          "pie": [
           {
            "automargin": true,
            "type": "pie"
           }
          ],
          "scatter": [
           {
            "fillpattern": {
             "fillmode": "overlay",
             "size": 10,
             "solidity": 0.2
            },
            "type": "scatter"
           }
          ],
          "scatter3d": [
           {
            "line": {
             "colorbar": {
              "outlinewidth": 0,
              "ticks": ""
             }
            },
            "marker": {
             "colorbar": {
              "outlinewidth": 0,
              "ticks": ""
             }
            },
            "type": "scatter3d"
           }
          ],
          "scattercarpet": [
           {
            "marker": {
             "colorbar": {
              "outlinewidth": 0,
              "ticks": ""
             }
            },
            "type": "scattercarpet"
           }
          ],
          "scattergeo": [
           {
            "marker": {
             "colorbar": {
              "outlinewidth": 0,
              "ticks": ""
             }
            },
            "type": "scattergeo"
           }
          ],
          "scattergl": [
           {
            "marker": {
             "colorbar": {
              "outlinewidth": 0,
              "ticks": ""
             }
            },
            "type": "scattergl"
           }
          ],
          "scattermapbox": [
           {
            "marker": {
             "colorbar": {
              "outlinewidth": 0,
              "ticks": ""
             }
            },
            "type": "scattermapbox"
           }
          ],
          "scatterpolar": [
           {
            "marker": {
             "colorbar": {
              "outlinewidth": 0,
              "ticks": ""
             }
            },
            "type": "scatterpolar"
           }
          ],
          "scatterpolargl": [
           {
            "marker": {
             "colorbar": {
              "outlinewidth": 0,
              "ticks": ""
             }
            },
            "type": "scatterpolargl"
           }
          ],
          "scatterternary": [
           {
            "marker": {
             "colorbar": {
              "outlinewidth": 0,
              "ticks": ""
             }
            },
            "type": "scatterternary"
           }
          ],
          "surface": [
           {
            "colorbar": {
             "outlinewidth": 0,
             "ticks": ""
            },
            "colorscale": [
             [
              0,
              "#0d0887"
             ],
             [
              0.1111111111111111,
              "#46039f"
             ],
             [
              0.2222222222222222,
              "#7201a8"
             ],
             [
              0.3333333333333333,
              "#9c179e"
             ],
             [
              0.4444444444444444,
              "#bd3786"
             ],
             [
              0.5555555555555556,
              "#d8576b"
             ],
             [
              0.6666666666666666,
              "#ed7953"
             ],
             [
              0.7777777777777778,
              "#fb9f3a"
             ],
             [
              0.8888888888888888,
              "#fdca26"
             ],
             [
              1,
              "#f0f921"
             ]
            ],
            "type": "surface"
           }
          ],
          "table": [
           {
            "cells": {
             "fill": {
              "color": "#EBF0F8"
             },
             "line": {
              "color": "white"
             }
            },
            "header": {
             "fill": {
              "color": "#C8D4E3"
             },
             "line": {
              "color": "white"
             }
            },
            "type": "table"
           }
          ]
         },
         "layout": {
          "annotationdefaults": {
           "arrowcolor": "#2a3f5f",
           "arrowhead": 0,
           "arrowwidth": 1
          },
          "autotypenumbers": "strict",
          "coloraxis": {
           "colorbar": {
            "outlinewidth": 0,
            "ticks": ""
           }
          },
          "colorscale": {
           "diverging": [
            [
             0,
             "#8e0152"
            ],
            [
             0.1,
             "#c51b7d"
            ],
            [
             0.2,
             "#de77ae"
            ],
            [
             0.3,
             "#f1b6da"
            ],
            [
             0.4,
             "#fde0ef"
            ],
            [
             0.5,
             "#f7f7f7"
            ],
            [
             0.6,
             "#e6f5d0"
            ],
            [
             0.7,
             "#b8e186"
            ],
            [
             0.8,
             "#7fbc41"
            ],
            [
             0.9,
             "#4d9221"
            ],
            [
             1,
             "#276419"
            ]
           ],
           "sequential": [
            [
             0,
             "#0d0887"
            ],
            [
             0.1111111111111111,
             "#46039f"
            ],
            [
             0.2222222222222222,
             "#7201a8"
            ],
            [
             0.3333333333333333,
             "#9c179e"
            ],
            [
             0.4444444444444444,
             "#bd3786"
            ],
            [
             0.5555555555555556,
             "#d8576b"
            ],
            [
             0.6666666666666666,
             "#ed7953"
            ],
            [
             0.7777777777777778,
             "#fb9f3a"
            ],
            [
             0.8888888888888888,
             "#fdca26"
            ],
            [
             1,
             "#f0f921"
            ]
           ],
           "sequentialminus": [
            [
             0,
             "#0d0887"
            ],
            [
             0.1111111111111111,
             "#46039f"
            ],
            [
             0.2222222222222222,
             "#7201a8"
            ],
            [
             0.3333333333333333,
             "#9c179e"
            ],
            [
             0.4444444444444444,
             "#bd3786"
            ],
            [
             0.5555555555555556,
             "#d8576b"
            ],
            [
             0.6666666666666666,
             "#ed7953"
            ],
            [
             0.7777777777777778,
             "#fb9f3a"
            ],
            [
             0.8888888888888888,
             "#fdca26"
            ],
            [
             1,
             "#f0f921"
            ]
           ]
          },
          "colorway": [
           "#636efa",
           "#EF553B",
           "#00cc96",
           "#ab63fa",
           "#FFA15A",
           "#19d3f3",
           "#FF6692",
           "#B6E880",
           "#FF97FF",
           "#FECB52"
          ],
          "font": {
           "color": "#2a3f5f"
          },
          "geo": {
           "bgcolor": "white",
           "lakecolor": "white",
           "landcolor": "#E5ECF6",
           "showlakes": true,
           "showland": true,
           "subunitcolor": "white"
          },
          "hoverlabel": {
           "align": "left"
          },
          "hovermode": "closest",
          "mapbox": {
           "style": "light"
          },
          "paper_bgcolor": "white",
          "plot_bgcolor": "#E5ECF6",
          "polar": {
           "angularaxis": {
            "gridcolor": "white",
            "linecolor": "white",
            "ticks": ""
           },
           "bgcolor": "#E5ECF6",
           "radialaxis": {
            "gridcolor": "white",
            "linecolor": "white",
            "ticks": ""
           }
          },
          "scene": {
           "xaxis": {
            "backgroundcolor": "#E5ECF6",
            "gridcolor": "white",
            "gridwidth": 2,
            "linecolor": "white",
            "showbackground": true,
            "ticks": "",
            "zerolinecolor": "white"
           },
           "yaxis": {
            "backgroundcolor": "#E5ECF6",
            "gridcolor": "white",
            "gridwidth": 2,
            "linecolor": "white",
            "showbackground": true,
            "ticks": "",
            "zerolinecolor": "white"
           },
           "zaxis": {
            "backgroundcolor": "#E5ECF6",
            "gridcolor": "white",
            "gridwidth": 2,
            "linecolor": "white",
            "showbackground": true,
            "ticks": "",
            "zerolinecolor": "white"
           }
          },
          "shapedefaults": {
           "line": {
            "color": "#2a3f5f"
           }
          },
          "ternary": {
           "aaxis": {
            "gridcolor": "white",
            "linecolor": "white",
            "ticks": ""
           },
           "baxis": {
            "gridcolor": "white",
            "linecolor": "white",
            "ticks": ""
           },
           "bgcolor": "#E5ECF6",
           "caxis": {
            "gridcolor": "white",
            "linecolor": "white",
            "ticks": ""
           }
          },
          "title": {
           "x": 0.05
          },
          "xaxis": {
           "automargin": true,
           "gridcolor": "white",
           "linecolor": "white",
           "ticks": "",
           "title": {
            "standoff": 15
           },
           "zerolinecolor": "white",
           "zerolinewidth": 2
          },
          "yaxis": {
           "automargin": true,
           "gridcolor": "white",
           "linecolor": "white",
           "ticks": "",
           "title": {
            "standoff": 15
           },
           "zerolinecolor": "white",
           "zerolinewidth": 2
          }
         }
        }
       }
      }
     },
     "metadata": {},
     "output_type": "display_data"
    }
   ],
   "source": [
    "fig = px.scatter_3d(df, x='x', y='y', z='z', color='sentiment', opacity=0.9)\n",
    "fig.show()"
   ]
  },
  {
   "cell_type": "code",
   "execution_count": null,
   "metadata": {},
   "outputs": [],
   "source": []
  }
 ],
 "metadata": {
  "kernelspec": {
   "display_name": "base",
   "language": "python",
   "name": "python3"
  },
  "language_info": {
   "codemirror_mode": {
    "name": "ipython",
    "version": 3
   },
   "file_extension": ".py",
   "mimetype": "text/x-python",
   "name": "python",
   "nbconvert_exporter": "python",
   "pygments_lexer": "ipython3",
   "version": "3.10.9"
  }
 },
 "nbformat": 4,
 "nbformat_minor": 2
}
