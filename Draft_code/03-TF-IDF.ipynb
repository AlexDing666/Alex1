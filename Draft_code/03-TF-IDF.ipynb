{
 "cells": [
  {
   "cell_type": "markdown",
   "metadata": {},
   "source": [
    "## Computing the TF-IDF\n"
   ]
  },
  {
   "cell_type": "code",
   "execution_count": 1,
   "metadata": {},
   "outputs": [],
   "source": [
    "import numpy as np\n",
    "import pandas as pd\n",
    "import re\n",
    "import matplotlib.pyplot as plt\n",
    "from collections import Counter\n",
    "from nltk.corpus import stopwords\n",
    "from tqdm import tqdm\n",
    "from sklearn.decomposition import PCA\n",
    "import plotly.express as px\n",
    "\n",
    "\n",
    "## Un comment this lines the first time you run the code\n",
    "#import nltk\n",
    "#nltk.download('stopwords')\n",
    "#nltk.download('punkt')\n"
   ]
  },
  {
   "cell_type": "code",
   "execution_count": 2,
   "metadata": {},
   "outputs": [],
   "source": [
    "# The tokenizer of nltk was too slow for that case.\n",
    "# So, we will use python regular expressions to \n",
    "# increase speed\n",
    "\n",
    "def tokenize_and_count(text):\n",
    "    \"\"\"\n",
    "    This function will tokenize a text using regular\n",
    "    expressions and counts the number of times each\n",
    "    token is present in the text\n",
    "    \"\"\"\n",
    "    # Tokenize the text\n",
    "    p = re.compile(\"[a-z]+\") # Using a regular expression here\n",
    "    tokens = p.findall(text.lower())\n",
    "    tokens_counts = Counter(tokens)\n",
    "    final_dict = {k: v for k, v in sorted(tokens_counts.items(), key=lambda item: item[1], reverse=True)}\n",
    "    return final_dict\n",
    "\n",
    "def fair_compose(tokens_positive, tokens_negative, n=100):\n",
    "    \"\"\"\n",
    "    Given the most common words on each class, this function\n",
    "    will compose a vocabulary with the words that are common\n",
    "    to both classes while keeping the most popular words for\n",
    "    each class. \n",
    "    \"\"\"\n",
    "    vocabulary = []\n",
    "    i = 0\n",
    "    j = 0\n",
    "    while len(set(vocabulary)) < n:\n",
    "        while True:\n",
    "            w = list(tokens_positive.keys())[i]\n",
    "            i +=1\n",
    "            if w not in stopwords.words('english'):\n",
    "                vocabulary.append(w)\n",
    "                break\n",
    "        while True:\n",
    "            w = list(tokens_negative.keys())[j]\n",
    "            j +=1\n",
    "            if w not in stopwords.words('english'):\n",
    "                vocabulary.append(w)\n",
    "                break\n",
    "    return list(set(vocabulary))\n",
    "\n",
    "def compute_vocabulary(text_positive, text_negative, n=100):\n",
    "    \"\"\"\n",
    "    This function will create a vocabulary with the n most frequent words\n",
    "    that are present in the text_positive and text_negative at the same\n",
    "    time.  \n",
    "    The function will also remove the stopwords and compute the frequency\n",
    "    for each word in the positive texts and the negative texts.\n",
    "    Returns two dictionaries.\n",
    "    \"\"\"\n",
    "    tokens_positive = tokenize_and_count(text_positive)\n",
    "    del(tokens_positive['br'])\n",
    "    tokens_negative = tokenize_and_count(text_negative)\n",
    "    del(tokens_negative['br'])\n",
    "    vocabulary = fair_compose(tokens_positive, tokens_negative, n)\n",
    "    return vocabulary"
   ]
  },
  {
   "cell_type": "code",
   "execution_count": 3,
   "metadata": {},
   "outputs": [],
   "source": [
    "data = pd.read_csv(\"./IMDB_Dataset.csv\")"
   ]
  },
  {
   "cell_type": "code",
   "execution_count": 4,
   "metadata": {},
   "outputs": [
    {
     "data": {
      "text/html": [
       "<div>\n",
       "<style scoped>\n",
       "    .dataframe tbody tr th:only-of-type {\n",
       "        vertical-align: middle;\n",
       "    }\n",
       "\n",
       "    .dataframe tbody tr th {\n",
       "        vertical-align: top;\n",
       "    }\n",
       "\n",
       "    .dataframe thead th {\n",
       "        text-align: right;\n",
       "    }\n",
       "</style>\n",
       "<table border=\"1\" class=\"dataframe\">\n",
       "  <thead>\n",
       "    <tr style=\"text-align: right;\">\n",
       "      <th></th>\n",
       "      <th>review</th>\n",
       "      <th>sentiment</th>\n",
       "    </tr>\n",
       "  </thead>\n",
       "  <tbody>\n",
       "    <tr>\n",
       "      <th>0</th>\n",
       "      <td>One of the other reviewers has mentioned that ...</td>\n",
       "      <td>positive</td>\n",
       "    </tr>\n",
       "    <tr>\n",
       "      <th>1</th>\n",
       "      <td>A wonderful little production. &lt;br /&gt;&lt;br /&gt;The...</td>\n",
       "      <td>positive</td>\n",
       "    </tr>\n",
       "    <tr>\n",
       "      <th>2</th>\n",
       "      <td>I thought this was a wonderful way to spend ti...</td>\n",
       "      <td>positive</td>\n",
       "    </tr>\n",
       "    <tr>\n",
       "      <th>3</th>\n",
       "      <td>Basically there's a family where a little boy ...</td>\n",
       "      <td>negative</td>\n",
       "    </tr>\n",
       "    <tr>\n",
       "      <th>4</th>\n",
       "      <td>Petter Mattei's \"Love in the Time of Money\" is...</td>\n",
       "      <td>positive</td>\n",
       "    </tr>\n",
       "  </tbody>\n",
       "</table>\n",
       "</div>"
      ],
      "text/plain": [
       "                                              review sentiment\n",
       "0  One of the other reviewers has mentioned that ...  positive\n",
       "1  A wonderful little production. <br /><br />The...  positive\n",
       "2  I thought this was a wonderful way to spend ti...  positive\n",
       "3  Basically there's a family where a little boy ...  negative\n",
       "4  Petter Mattei's \"Love in the Time of Money\" is...  positive"
      ]
     },
     "execution_count": 4,
     "metadata": {},
     "output_type": "execute_result"
    }
   ],
   "source": [
    "data.head()"
   ]
  },
  {
   "cell_type": "code",
   "execution_count": 5,
   "metadata": {},
   "outputs": [
    {
     "data": {
      "text/plain": [
       "(50000, 2)"
      ]
     },
     "execution_count": 5,
     "metadata": {},
     "output_type": "execute_result"
    }
   ],
   "source": [
    "data.shape"
   ]
  },
  {
   "cell_type": "code",
   "execution_count": 6,
   "metadata": {},
   "outputs": [],
   "source": [
    "# Our training set will be formed by 20k positive and 20k negative reviews\n",
    "vocabulary_size = 2000\n",
    "data_positive = data[data['sentiment']=='positive']\n",
    "data_negative = data[data['sentiment']=='negative']\n",
    "# Training set\n",
    "text_positive_train = \" \".join(list(data_positive['review'][:20000]))\n",
    "text_negative_train = \" \".join(list(data_negative[\"review\"][:20000]))\n",
    "# Get the vocabulary\n",
    "vocabulary = compute_vocabulary(text_positive_train, text_negative_train, vocabulary_size)"
   ]
  },
  {
   "cell_type": "code",
   "execution_count": 7,
   "metadata": {},
   "outputs": [
    {
     "data": {
      "text/plain": [
       "2000"
      ]
     },
     "execution_count": 7,
     "metadata": {},
     "output_type": "execute_result"
    }
   ],
   "source": [
    "len(vocabulary)"
   ]
  },
  {
   "cell_type": "code",
   "execution_count": 8,
   "metadata": {},
   "outputs": [],
   "source": [
    "def compute_IDF(t, list_of_documents):\n",
    "    \"\"\"\n",
    "    Compute the IDF for a given term t\n",
    "    Receives a word t and a list of documents.\n",
    "    Each document on the list has been already\n",
    "    tokenized.\n",
    "    \"\"\"\n",
    "    denominator = 1\n",
    "    for d in list_of_documents:\n",
    "        if t in d:\n",
    "            denominator +=1\n",
    "    return np.log(len(list_of_documents)/denominator)\n",
    "\n",
    "def compute_TF_IDF_vector(document, IDF_dictionary, vocabulary):\n",
    "    \"\"\"\n",
    "    Compute the TF-IDF for a given document.\n",
    "    The document is already tokenized.\n",
    "    Returns a list\n",
    "    \"\"\"\n",
    "    n = len(document)\n",
    "    words = list(set(document)&set(vocabulary))\n",
    "    terms_counts = Counter(document)\n",
    "    tf_idf_vector = [0 for i in range(len(vocabulary))]\n",
    "    for w in words:\n",
    "        Ix = vocabulary.index(w)\n",
    "        tf_idf_vector[Ix] = terms_counts[w] / n * IDF_dictionary[w]\n",
    "    return tf_idf_vector\n",
    "\n",
    " \n",
    "\n"
   ]
  },
  {
   "cell_type": "code",
   "execution_count": 9,
   "metadata": {},
   "outputs": [],
   "source": [
    "# Tokenize all documents\n",
    "list_of_documents = []\n",
    "p = re.compile(\"[a-z]+\") # The regular expression for tokenizing a document\n",
    "for d in data[\"review\"]:\n",
    "    list_of_documents.append(p.findall(d.lower()))"
   ]
  },
  {
   "cell_type": "code",
   "execution_count": 10,
   "metadata": {},
   "outputs": [
    {
     "name": "stderr",
     "output_type": "stream",
     "text": [
      "100%|██████████| 2000/2000 [01:46<00:00, 18.81it/s]\n"
     ]
    }
   ],
   "source": [
    "# Compute the IDF_dictionary\n",
    "IDF_dict = {}\n",
    "for i in tqdm(range(len(vocabulary))):\n",
    "    t = vocabulary[i]\n",
    "    IDF_dict[t] = compute_IDF(t, list_of_documents)\n",
    "\n"
   ]
  },
  {
   "cell_type": "code",
   "execution_count": 11,
   "metadata": {},
   "outputs": [
    {
     "name": "stderr",
     "output_type": "stream",
     "text": [
      "100%|██████████| 50000/50000 [00:19<00:00, 2532.80it/s]\n"
     ]
    }
   ],
   "source": [
    "# Compute the TF-IDF matrix\n",
    "TF_IDF = []\n",
    "for i in tqdm(range(len(list_of_documents))):\n",
    "    d = list_of_documents[i]\n",
    "    TF_IDF.append(compute_TF_IDF_vector(d, IDF_dict, vocabulary))"
   ]
  },
  {
   "cell_type": "code",
   "execution_count": 12,
   "metadata": {},
   "outputs": [],
   "source": [
    "TF_IDF_matrix = np.array(TF_IDF)"
   ]
  },
  {
   "cell_type": "code",
   "execution_count": 13,
   "metadata": {},
   "outputs": [
    {
     "data": {
      "text/plain": [
       "(50000, 2000)"
      ]
     },
     "execution_count": 13,
     "metadata": {},
     "output_type": "execute_result"
    }
   ],
   "source": [
    "TF_IDF_matrix.shape"
   ]
  },
  {
   "cell_type": "code",
   "execution_count": 14,
   "metadata": {},
   "outputs": [],
   "source": [
    "centered_TF_IDF_matrix = TF_IDF_matrix - np.mean(TF_IDF_matrix, axis=1)[:, None]\n",
    "lines_norms = np.linalg.norm(centered_TF_IDF_matrix, axis=1)\n",
    "normalized_TF_IDF_matrix = np.zeros_like(centered_TF_IDF_matrix)\n",
    "for i in range(centered_TF_IDF_matrix.shape[0]):\n",
    "    normalized_TF_IDF_matrix[i, :] = centered_TF_IDF_matrix[i, :] / lines_norms[i]"
   ]
  },
  {
   "cell_type": "code",
   "execution_count": 15,
   "metadata": {},
   "outputs": [
    {
     "data": {
      "text/plain": [
       "array([[-0.0038498 , -0.0038498 , -0.0038498 , ..., -0.0038498 ,\n",
       "        -0.0038498 , -0.0038498 ],\n",
       "       [-0.003268  , -0.003268  , -0.003268  , ..., -0.003268  ,\n",
       "        -0.003268  , -0.003268  ],\n",
       "       [-0.00354295, -0.00354295, -0.00354295, ..., -0.00354295,\n",
       "        -0.00354295, -0.00354295],\n",
       "       ...,\n",
       "       [-0.003316  , -0.003316  , -0.003316  , ..., -0.003316  ,\n",
       "        -0.003316  , -0.003316  ],\n",
       "       [-0.00366195, -0.00366195, -0.00366195, ..., -0.00366195,\n",
       "        -0.00366195, -0.00366195],\n",
       "       [-0.00298504, -0.00298504, -0.00298504, ..., -0.00298504,\n",
       "        -0.00298504, -0.00298504]], shape=(50000, 2000))"
      ]
     },
     "execution_count": 15,
     "metadata": {},
     "output_type": "execute_result"
    }
   ],
   "source": [
    "normalized_TF_IDF_matrix"
   ]
  },
  {
   "cell_type": "code",
   "execution_count": 16,
   "metadata": {},
   "outputs": [
    {
     "data": {
      "text/plain": [
       "array([1., 1., 1., ..., 1., 1., 1.], shape=(50000,))"
      ]
     },
     "execution_count": 16,
     "metadata": {},
     "output_type": "execute_result"
    }
   ],
   "source": [
    "np.linalg.norm(normalized_TF_IDF_matrix, axis=1)"
   ]
  },
  {
   "cell_type": "code",
   "execution_count": 17,
   "metadata": {},
   "outputs": [
    {
     "name": "stdout",
     "output_type": "stream",
     "text": [
      "[0.00472303 0.00402268]\n"
     ]
    }
   ],
   "source": [
    "pca_no_normalized = PCA(n_components=2)\n",
    "pca_no_normalized.fit(TF_IDF_matrix)\n",
    "print(pca_no_normalized.explained_variance_ratio_)"
   ]
  },
  {
   "cell_type": "code",
   "execution_count": 18,
   "metadata": {},
   "outputs": [
    {
     "data": {
      "text/html": [
       "<style>#sk-container-id-1 {\n",
       "  /* Definition of color scheme common for light and dark mode */\n",
       "  --sklearn-color-text: #000;\n",
       "  --sklearn-color-text-muted: #666;\n",
       "  --sklearn-color-line: gray;\n",
       "  /* Definition of color scheme for unfitted estimators */\n",
       "  --sklearn-color-unfitted-level-0: #fff5e6;\n",
       "  --sklearn-color-unfitted-level-1: #f6e4d2;\n",
       "  --sklearn-color-unfitted-level-2: #ffe0b3;\n",
       "  --sklearn-color-unfitted-level-3: chocolate;\n",
       "  /* Definition of color scheme for fitted estimators */\n",
       "  --sklearn-color-fitted-level-0: #f0f8ff;\n",
       "  --sklearn-color-fitted-level-1: #d4ebff;\n",
       "  --sklearn-color-fitted-level-2: #b3dbfd;\n",
       "  --sklearn-color-fitted-level-3: cornflowerblue;\n",
       "\n",
       "  /* Specific color for light theme */\n",
       "  --sklearn-color-text-on-default-background: var(--sg-text-color, var(--theme-code-foreground, var(--jp-content-font-color1, black)));\n",
       "  --sklearn-color-background: var(--sg-background-color, var(--theme-background, var(--jp-layout-color0, white)));\n",
       "  --sklearn-color-border-box: var(--sg-text-color, var(--theme-code-foreground, var(--jp-content-font-color1, black)));\n",
       "  --sklearn-color-icon: #696969;\n",
       "\n",
       "  @media (prefers-color-scheme: dark) {\n",
       "    /* Redefinition of color scheme for dark theme */\n",
       "    --sklearn-color-text-on-default-background: var(--sg-text-color, var(--theme-code-foreground, var(--jp-content-font-color1, white)));\n",
       "    --sklearn-color-background: var(--sg-background-color, var(--theme-background, var(--jp-layout-color0, #111)));\n",
       "    --sklearn-color-border-box: var(--sg-text-color, var(--theme-code-foreground, var(--jp-content-font-color1, white)));\n",
       "    --sklearn-color-icon: #878787;\n",
       "  }\n",
       "}\n",
       "\n",
       "#sk-container-id-1 {\n",
       "  color: var(--sklearn-color-text);\n",
       "}\n",
       "\n",
       "#sk-container-id-1 pre {\n",
       "  padding: 0;\n",
       "}\n",
       "\n",
       "#sk-container-id-1 input.sk-hidden--visually {\n",
       "  border: 0;\n",
       "  clip: rect(1px 1px 1px 1px);\n",
       "  clip: rect(1px, 1px, 1px, 1px);\n",
       "  height: 1px;\n",
       "  margin: -1px;\n",
       "  overflow: hidden;\n",
       "  padding: 0;\n",
       "  position: absolute;\n",
       "  width: 1px;\n",
       "}\n",
       "\n",
       "#sk-container-id-1 div.sk-dashed-wrapped {\n",
       "  border: 1px dashed var(--sklearn-color-line);\n",
       "  margin: 0 0.4em 0.5em 0.4em;\n",
       "  box-sizing: border-box;\n",
       "  padding-bottom: 0.4em;\n",
       "  background-color: var(--sklearn-color-background);\n",
       "}\n",
       "\n",
       "#sk-container-id-1 div.sk-container {\n",
       "  /* jupyter's `normalize.less` sets `[hidden] { display: none; }`\n",
       "     but bootstrap.min.css set `[hidden] { display: none !important; }`\n",
       "     so we also need the `!important` here to be able to override the\n",
       "     default hidden behavior on the sphinx rendered scikit-learn.org.\n",
       "     See: https://github.com/scikit-learn/scikit-learn/issues/21755 */\n",
       "  display: inline-block !important;\n",
       "  position: relative;\n",
       "}\n",
       "\n",
       "#sk-container-id-1 div.sk-text-repr-fallback {\n",
       "  display: none;\n",
       "}\n",
       "\n",
       "div.sk-parallel-item,\n",
       "div.sk-serial,\n",
       "div.sk-item {\n",
       "  /* draw centered vertical line to link estimators */\n",
       "  background-image: linear-gradient(var(--sklearn-color-text-on-default-background), var(--sklearn-color-text-on-default-background));\n",
       "  background-size: 2px 100%;\n",
       "  background-repeat: no-repeat;\n",
       "  background-position: center center;\n",
       "}\n",
       "\n",
       "/* Parallel-specific style estimator block */\n",
       "\n",
       "#sk-container-id-1 div.sk-parallel-item::after {\n",
       "  content: \"\";\n",
       "  width: 100%;\n",
       "  border-bottom: 2px solid var(--sklearn-color-text-on-default-background);\n",
       "  flex-grow: 1;\n",
       "}\n",
       "\n",
       "#sk-container-id-1 div.sk-parallel {\n",
       "  display: flex;\n",
       "  align-items: stretch;\n",
       "  justify-content: center;\n",
       "  background-color: var(--sklearn-color-background);\n",
       "  position: relative;\n",
       "}\n",
       "\n",
       "#sk-container-id-1 div.sk-parallel-item {\n",
       "  display: flex;\n",
       "  flex-direction: column;\n",
       "}\n",
       "\n",
       "#sk-container-id-1 div.sk-parallel-item:first-child::after {\n",
       "  align-self: flex-end;\n",
       "  width: 50%;\n",
       "}\n",
       "\n",
       "#sk-container-id-1 div.sk-parallel-item:last-child::after {\n",
       "  align-self: flex-start;\n",
       "  width: 50%;\n",
       "}\n",
       "\n",
       "#sk-container-id-1 div.sk-parallel-item:only-child::after {\n",
       "  width: 0;\n",
       "}\n",
       "\n",
       "/* Serial-specific style estimator block */\n",
       "\n",
       "#sk-container-id-1 div.sk-serial {\n",
       "  display: flex;\n",
       "  flex-direction: column;\n",
       "  align-items: center;\n",
       "  background-color: var(--sklearn-color-background);\n",
       "  padding-right: 1em;\n",
       "  padding-left: 1em;\n",
       "}\n",
       "\n",
       "\n",
       "/* Toggleable style: style used for estimator/Pipeline/ColumnTransformer box that is\n",
       "clickable and can be expanded/collapsed.\n",
       "- Pipeline and ColumnTransformer use this feature and define the default style\n",
       "- Estimators will overwrite some part of the style using the `sk-estimator` class\n",
       "*/\n",
       "\n",
       "/* Pipeline and ColumnTransformer style (default) */\n",
       "\n",
       "#sk-container-id-1 div.sk-toggleable {\n",
       "  /* Default theme specific background. It is overwritten whether we have a\n",
       "  specific estimator or a Pipeline/ColumnTransformer */\n",
       "  background-color: var(--sklearn-color-background);\n",
       "}\n",
       "\n",
       "/* Toggleable label */\n",
       "#sk-container-id-1 label.sk-toggleable__label {\n",
       "  cursor: pointer;\n",
       "  display: flex;\n",
       "  width: 100%;\n",
       "  margin-bottom: 0;\n",
       "  padding: 0.5em;\n",
       "  box-sizing: border-box;\n",
       "  text-align: center;\n",
       "  align-items: start;\n",
       "  justify-content: space-between;\n",
       "  gap: 0.5em;\n",
       "}\n",
       "\n",
       "#sk-container-id-1 label.sk-toggleable__label .caption {\n",
       "  font-size: 0.6rem;\n",
       "  font-weight: lighter;\n",
       "  color: var(--sklearn-color-text-muted);\n",
       "}\n",
       "\n",
       "#sk-container-id-1 label.sk-toggleable__label-arrow:before {\n",
       "  /* Arrow on the left of the label */\n",
       "  content: \"▸\";\n",
       "  float: left;\n",
       "  margin-right: 0.25em;\n",
       "  color: var(--sklearn-color-icon);\n",
       "}\n",
       "\n",
       "#sk-container-id-1 label.sk-toggleable__label-arrow:hover:before {\n",
       "  color: var(--sklearn-color-text);\n",
       "}\n",
       "\n",
       "/* Toggleable content - dropdown */\n",
       "\n",
       "#sk-container-id-1 div.sk-toggleable__content {\n",
       "  max-height: 0;\n",
       "  max-width: 0;\n",
       "  overflow: hidden;\n",
       "  text-align: left;\n",
       "  /* unfitted */\n",
       "  background-color: var(--sklearn-color-unfitted-level-0);\n",
       "}\n",
       "\n",
       "#sk-container-id-1 div.sk-toggleable__content.fitted {\n",
       "  /* fitted */\n",
       "  background-color: var(--sklearn-color-fitted-level-0);\n",
       "}\n",
       "\n",
       "#sk-container-id-1 div.sk-toggleable__content pre {\n",
       "  margin: 0.2em;\n",
       "  border-radius: 0.25em;\n",
       "  color: var(--sklearn-color-text);\n",
       "  /* unfitted */\n",
       "  background-color: var(--sklearn-color-unfitted-level-0);\n",
       "}\n",
       "\n",
       "#sk-container-id-1 div.sk-toggleable__content.fitted pre {\n",
       "  /* unfitted */\n",
       "  background-color: var(--sklearn-color-fitted-level-0);\n",
       "}\n",
       "\n",
       "#sk-container-id-1 input.sk-toggleable__control:checked~div.sk-toggleable__content {\n",
       "  /* Expand drop-down */\n",
       "  max-height: 200px;\n",
       "  max-width: 100%;\n",
       "  overflow: auto;\n",
       "}\n",
       "\n",
       "#sk-container-id-1 input.sk-toggleable__control:checked~label.sk-toggleable__label-arrow:before {\n",
       "  content: \"▾\";\n",
       "}\n",
       "\n",
       "/* Pipeline/ColumnTransformer-specific style */\n",
       "\n",
       "#sk-container-id-1 div.sk-label input.sk-toggleable__control:checked~label.sk-toggleable__label {\n",
       "  color: var(--sklearn-color-text);\n",
       "  background-color: var(--sklearn-color-unfitted-level-2);\n",
       "}\n",
       "\n",
       "#sk-container-id-1 div.sk-label.fitted input.sk-toggleable__control:checked~label.sk-toggleable__label {\n",
       "  background-color: var(--sklearn-color-fitted-level-2);\n",
       "}\n",
       "\n",
       "/* Estimator-specific style */\n",
       "\n",
       "/* Colorize estimator box */\n",
       "#sk-container-id-1 div.sk-estimator input.sk-toggleable__control:checked~label.sk-toggleable__label {\n",
       "  /* unfitted */\n",
       "  background-color: var(--sklearn-color-unfitted-level-2);\n",
       "}\n",
       "\n",
       "#sk-container-id-1 div.sk-estimator.fitted input.sk-toggleable__control:checked~label.sk-toggleable__label {\n",
       "  /* fitted */\n",
       "  background-color: var(--sklearn-color-fitted-level-2);\n",
       "}\n",
       "\n",
       "#sk-container-id-1 div.sk-label label.sk-toggleable__label,\n",
       "#sk-container-id-1 div.sk-label label {\n",
       "  /* The background is the default theme color */\n",
       "  color: var(--sklearn-color-text-on-default-background);\n",
       "}\n",
       "\n",
       "/* On hover, darken the color of the background */\n",
       "#sk-container-id-1 div.sk-label:hover label.sk-toggleable__label {\n",
       "  color: var(--sklearn-color-text);\n",
       "  background-color: var(--sklearn-color-unfitted-level-2);\n",
       "}\n",
       "\n",
       "/* Label box, darken color on hover, fitted */\n",
       "#sk-container-id-1 div.sk-label.fitted:hover label.sk-toggleable__label.fitted {\n",
       "  color: var(--sklearn-color-text);\n",
       "  background-color: var(--sklearn-color-fitted-level-2);\n",
       "}\n",
       "\n",
       "/* Estimator label */\n",
       "\n",
       "#sk-container-id-1 div.sk-label label {\n",
       "  font-family: monospace;\n",
       "  font-weight: bold;\n",
       "  display: inline-block;\n",
       "  line-height: 1.2em;\n",
       "}\n",
       "\n",
       "#sk-container-id-1 div.sk-label-container {\n",
       "  text-align: center;\n",
       "}\n",
       "\n",
       "/* Estimator-specific */\n",
       "#sk-container-id-1 div.sk-estimator {\n",
       "  font-family: monospace;\n",
       "  border: 1px dotted var(--sklearn-color-border-box);\n",
       "  border-radius: 0.25em;\n",
       "  box-sizing: border-box;\n",
       "  margin-bottom: 0.5em;\n",
       "  /* unfitted */\n",
       "  background-color: var(--sklearn-color-unfitted-level-0);\n",
       "}\n",
       "\n",
       "#sk-container-id-1 div.sk-estimator.fitted {\n",
       "  /* fitted */\n",
       "  background-color: var(--sklearn-color-fitted-level-0);\n",
       "}\n",
       "\n",
       "/* on hover */\n",
       "#sk-container-id-1 div.sk-estimator:hover {\n",
       "  /* unfitted */\n",
       "  background-color: var(--sklearn-color-unfitted-level-2);\n",
       "}\n",
       "\n",
       "#sk-container-id-1 div.sk-estimator.fitted:hover {\n",
       "  /* fitted */\n",
       "  background-color: var(--sklearn-color-fitted-level-2);\n",
       "}\n",
       "\n",
       "/* Specification for estimator info (e.g. \"i\" and \"?\") */\n",
       "\n",
       "/* Common style for \"i\" and \"?\" */\n",
       "\n",
       ".sk-estimator-doc-link,\n",
       "a:link.sk-estimator-doc-link,\n",
       "a:visited.sk-estimator-doc-link {\n",
       "  float: right;\n",
       "  font-size: smaller;\n",
       "  line-height: 1em;\n",
       "  font-family: monospace;\n",
       "  background-color: var(--sklearn-color-background);\n",
       "  border-radius: 1em;\n",
       "  height: 1em;\n",
       "  width: 1em;\n",
       "  text-decoration: none !important;\n",
       "  margin-left: 0.5em;\n",
       "  text-align: center;\n",
       "  /* unfitted */\n",
       "  border: var(--sklearn-color-unfitted-level-1) 1pt solid;\n",
       "  color: var(--sklearn-color-unfitted-level-1);\n",
       "}\n",
       "\n",
       ".sk-estimator-doc-link.fitted,\n",
       "a:link.sk-estimator-doc-link.fitted,\n",
       "a:visited.sk-estimator-doc-link.fitted {\n",
       "  /* fitted */\n",
       "  border: var(--sklearn-color-fitted-level-1) 1pt solid;\n",
       "  color: var(--sklearn-color-fitted-level-1);\n",
       "}\n",
       "\n",
       "/* On hover */\n",
       "div.sk-estimator:hover .sk-estimator-doc-link:hover,\n",
       ".sk-estimator-doc-link:hover,\n",
       "div.sk-label-container:hover .sk-estimator-doc-link:hover,\n",
       ".sk-estimator-doc-link:hover {\n",
       "  /* unfitted */\n",
       "  background-color: var(--sklearn-color-unfitted-level-3);\n",
       "  color: var(--sklearn-color-background);\n",
       "  text-decoration: none;\n",
       "}\n",
       "\n",
       "div.sk-estimator.fitted:hover .sk-estimator-doc-link.fitted:hover,\n",
       ".sk-estimator-doc-link.fitted:hover,\n",
       "div.sk-label-container:hover .sk-estimator-doc-link.fitted:hover,\n",
       ".sk-estimator-doc-link.fitted:hover {\n",
       "  /* fitted */\n",
       "  background-color: var(--sklearn-color-fitted-level-3);\n",
       "  color: var(--sklearn-color-background);\n",
       "  text-decoration: none;\n",
       "}\n",
       "\n",
       "/* Span, style for the box shown on hovering the info icon */\n",
       ".sk-estimator-doc-link span {\n",
       "  display: none;\n",
       "  z-index: 9999;\n",
       "  position: relative;\n",
       "  font-weight: normal;\n",
       "  right: .2ex;\n",
       "  padding: .5ex;\n",
       "  margin: .5ex;\n",
       "  width: min-content;\n",
       "  min-width: 20ex;\n",
       "  max-width: 50ex;\n",
       "  color: var(--sklearn-color-text);\n",
       "  box-shadow: 2pt 2pt 4pt #999;\n",
       "  /* unfitted */\n",
       "  background: var(--sklearn-color-unfitted-level-0);\n",
       "  border: .5pt solid var(--sklearn-color-unfitted-level-3);\n",
       "}\n",
       "\n",
       ".sk-estimator-doc-link.fitted span {\n",
       "  /* fitted */\n",
       "  background: var(--sklearn-color-fitted-level-0);\n",
       "  border: var(--sklearn-color-fitted-level-3);\n",
       "}\n",
       "\n",
       ".sk-estimator-doc-link:hover span {\n",
       "  display: block;\n",
       "}\n",
       "\n",
       "/* \"?\"-specific style due to the `<a>` HTML tag */\n",
       "\n",
       "#sk-container-id-1 a.estimator_doc_link {\n",
       "  float: right;\n",
       "  font-size: 1rem;\n",
       "  line-height: 1em;\n",
       "  font-family: monospace;\n",
       "  background-color: var(--sklearn-color-background);\n",
       "  border-radius: 1rem;\n",
       "  height: 1rem;\n",
       "  width: 1rem;\n",
       "  text-decoration: none;\n",
       "  /* unfitted */\n",
       "  color: var(--sklearn-color-unfitted-level-1);\n",
       "  border: var(--sklearn-color-unfitted-level-1) 1pt solid;\n",
       "}\n",
       "\n",
       "#sk-container-id-1 a.estimator_doc_link.fitted {\n",
       "  /* fitted */\n",
       "  border: var(--sklearn-color-fitted-level-1) 1pt solid;\n",
       "  color: var(--sklearn-color-fitted-level-1);\n",
       "}\n",
       "\n",
       "/* On hover */\n",
       "#sk-container-id-1 a.estimator_doc_link:hover {\n",
       "  /* unfitted */\n",
       "  background-color: var(--sklearn-color-unfitted-level-3);\n",
       "  color: var(--sklearn-color-background);\n",
       "  text-decoration: none;\n",
       "}\n",
       "\n",
       "#sk-container-id-1 a.estimator_doc_link.fitted:hover {\n",
       "  /* fitted */\n",
       "  background-color: var(--sklearn-color-fitted-level-3);\n",
       "}\n",
       "</style><div id=\"sk-container-id-1\" class=\"sk-top-container\"><div class=\"sk-text-repr-fallback\"><pre>PCA(n_components=2)</pre><b>In a Jupyter environment, please rerun this cell to show the HTML representation or trust the notebook. <br />On GitHub, the HTML representation is unable to render, please try loading this page with nbviewer.org.</b></div><div class=\"sk-container\" hidden><div class=\"sk-item\"><div class=\"sk-estimator fitted sk-toggleable\"><input class=\"sk-toggleable__control sk-hidden--visually\" id=\"sk-estimator-id-1\" type=\"checkbox\" checked><label for=\"sk-estimator-id-1\" class=\"sk-toggleable__label fitted sk-toggleable__label-arrow\"><div><div>PCA</div></div><div><a class=\"sk-estimator-doc-link fitted\" rel=\"noreferrer\" target=\"_blank\" href=\"https://scikit-learn.org/1.6/modules/generated/sklearn.decomposition.PCA.html\">?<span>Documentation for PCA</span></a><span class=\"sk-estimator-doc-link fitted\">i<span>Fitted</span></span></div></label><div class=\"sk-toggleable__content fitted\"><pre>PCA(n_components=2)</pre></div> </div></div></div></div>"
      ],
      "text/plain": [
       "PCA(n_components=2)"
      ]
     },
     "execution_count": 18,
     "metadata": {},
     "output_type": "execute_result"
    }
   ],
   "source": [
    "pca = PCA(n_components=2)\n",
    "pca.fit(normalized_TF_IDF_matrix)"
   ]
  },
  {
   "cell_type": "code",
   "execution_count": 19,
   "metadata": {},
   "outputs": [
    {
     "name": "stdout",
     "output_type": "stream",
     "text": [
      "[0.00495716 0.00410572]\n"
     ]
    }
   ],
   "source": [
    "print(pca.explained_variance_ratio_)"
   ]
  },
  {
   "cell_type": "code",
   "execution_count": 29,
   "metadata": {},
   "outputs": [],
   "source": [
    "reduced_data = PCA(n_components=2).fit_transform(normalized_TF_IDF_matrix)"
   ]
  },
  {
   "cell_type": "code",
   "execution_count": 30,
   "metadata": {},
   "outputs": [
    {
     "data": {
      "text/plain": [
       "np.int64(1074)"
      ]
     },
     "execution_count": 30,
     "metadata": {},
     "output_type": "execute_result"
    }
   ],
   "source": [
    "np.sum(normalized_TF_IDF_matrix.sum(axis=1) == 0)"
   ]
  },
  {
   "cell_type": "code",
   "execution_count": 31,
   "metadata": {},
   "outputs": [],
   "source": [
    "data2plot = pd.DataFrame({'x': reduced_data[:, 0],\n",
    "                          'y': reduced_data[:, 1], \n",
    "                          'sentiment': data[\"sentiment\"]})"
   ]
  },
  {
   "cell_type": "code",
   "execution_count": 32,
   "metadata": {},
   "outputs": [],
   "source": [
    "data2plot.head()\n",
    "# only select some values to plot\n",
    "n = 500\n",
    "df_positive = data2plot[data2plot['sentiment']==\"positive\"][:n]\n",
    "df_negative = data2plot[data2plot['sentiment']==\"negative\"][:n]\n",
    "df = pd.concat([df_positive, df_negative])\n"
   ]
  },
  {
   "cell_type": "code",
   "execution_count": 33,
   "metadata": {},
   "outputs": [
    {
     "data": {
      "application/vnd.plotly.v1+json": {
       "config": {
        "plotlyServerURL": "https://plot.ly"
       },
       "data": [
        {
         "hovertemplate": "sentiment=positive<br>x=%{x}<br>y=%{y}<extra></extra>",
         "legendgroup": "positive",
         "marker": {
          "color": "#636efa",
          "opacity": 0.7,
          "symbol": "circle"
         },
         "mode": "markers",
         "name": "positive",
         "orientation": "v",
         "showlegend": true,
         "type": "scatter",
         "x": {
          "bdata": "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",
          "dtype": "f8"
         },
         "xaxis": "x",
         "y": {
          "bdata": "KuzAETzRwz+PFLchPaaZv2ZJUzTF5oc/tBDxMZm7cr/UDNGnqciRPyFHBnxhqbo/X08qA9OWlz99OIabo/iVv4GMaGiFNrG/cup69OwFg78Xwl0MAp+Vv3fZlSsuPYQ/RAAqJddghb9QkwTX6Rugv8SHL00w9bO/DlwcceIMpr+4geDk5COev2/rNlLKo7G/9C9d6BX5yD8CHV1nj4mlvwIe54yry74/fQmCaOzxgL/VM03gt8GdvzA/g5UCzqS/r1lfvCZoJz9HfUNV7PCgv2wln6DpoYO/ZM6HQHLKrL/Ra2euSoucv/wxEqNezn2/SCBtjTScrr8xP4t+f1h0P8V20mDrf34/DUY7XefdYz8Z3pkq9TCavxb0uQblUZy/qoOcnEe/YL9+ViS4GUdsvx8yBm1h3Zm/CjF6LWYemb+n47+Uc0Sev/Xytz1Gbnc/Kumoz57Xkj9LnDTzqRqXP1RTC0mXJ3m/5g191+HwlT+AvrOtbtmwv14rdzjeOJO/MJMSlyXAkb9vawv4giRcv70I5tLcB66/KdHjot+Vkb+gvtgCnvmnv/o4MVu+O7K/FqI83OaDfb8SITJ5mHmSv7CnTJC7vKg/MXk2gG4iib/8ZK86XiWnv0NQ9QnOuKG/NyZwPKpJd78z5XPEdT2wPzyb19tx8Ty/Y1bwULdhkT8s1cTpTPSkv7m3bVM3VpS/jlBTYCT5mr+uGAxxeDShv68N4d6aX6u/fTOXZSIul79tXlmxVgOJP763ayZnWn6/q08PPG3cmD/qhW8Yvgu2PxHX9lRNu7I/GLlIHthAsL/yd973TUeSPwzvYofFbKe/7r5LhgIrrb8nXRbLh4azv0efrNWWQaG/1DnF8cXvkT+T/SsZi6+TP9FEYq9faqy/Jo4mvz/7o7+kziUbiVSVv9WAXVpfIK6/y1txGXt9fT8oEkiTaCGWv3yta/gO7c4/+eD/X0oAoD9xCwqWaF65P46LLIYuwKu/o6ji/Z4ipr8w+Ql0t9Cmv7/I8jn37LU/BAPVDHwndr9kAMf8DH6Dv3RswNsnM6O/wS6K7opwYL8bARZ6+Iihv54u5pjhjqS/R/Ro7ZNbl79xXH3vVGdkP33xdHoa95O/e2UyoMJKVb870ZAXwVFlP/GVFmpHZqM/uLuA61qXoL/b54OCNOmQP9ndr0Lb0m6/S1PXV7c4k7/cpHfkJS2Tv1DhxFy6QbC/Ikno6+a3e79IQFR8Yz/APy3QvCP2JrO/rEtVC+kPYz9WXm+2vLXBP4igAGVd9YI/seBW4iHli7+/TzWXllCxv76vcgi7KJE/7hdnO7KVqL+r1ApeoYtoP3hBXqEueqc/5dnx72ogmL8M4dQm3ZeBv8D+13kWzKW/WDCkk08Vl79dGcGf5/OGP6c2oCAISa0/1Rv3vslJkz9J3fGPJdibvwBwXV43sIW/0h97kK5qp7+HFIuoaQeSvxF2BM0DKZ+/SYojzkGYlj8Furi2ftGyP+HV0szPjaW/XBzNUYD8kL8isTlBf0yov7OW8d72RY8/lF9kBoadpr9qTMEdvVewP4btywkHwHu/zvULFm7ioL/8mSADuL6Jv7k37wbmYqk/5MBJRaz6rr8FFQHUP0eiv6kcoM1RoaC/GoXC47MKpb8kSE5XZkOav8jm13qg2Kg/zk/LkkhVnb+suZWXhbCaPxm2Fmz24LA/p9Brblftjb87fZ3JAaifvyz64biFyYM/OS5xKlAwp7+TmpFDoaGSvygF+v/em6C/4sECdNSSo7//8h3HC0DtPjHyiFEFMGK/r8BFVSxWmL//mlyctcyRv8coG/lE/r0/03yPGGg7qL9G3qxL1lycv5zcLefbLoq/aSssqeE6n7+ugnsM5I9uvzaXLq42AqO/u5W/OFaIdb+yOw37WmSTv5wlpA8Pd5q/Bl+7PSYVqb/YxKA5l4GbP3m1hWjq/aG/f00JGFzrqr+OAlsR+bDEP4j/sVTOLEI/NPSqpot0eT/s0qGZHpCVvxHLcqLzqqG/vqP80vM1fD9pV00irY+Ov0OUofRArZG/L4634Lg3rD+PPwyRZAVQPyAVTsksp3a/qZ1eda8loD8DKSuxdYK6P604THaTDLA/eJw986V2dr9ZgmncrCJFv0WpuNO5cbA/qQS8O4yWqr+MejPFJ56hvwwknHXu0qY/JRAKb8iAl7+/OdrlHXGAv8xw/Vz/7H+/OHdWdQRalT+/GjnbOgGlv1P/3yNc6aK/EgWvhjYsob8CrlCBzcyBP0Ores/NCqK/cR028Vr3qr/MwEBBK/6rv99XqRb1Voa/GPXpVFQIf7/m8k6M/iimv2/P2BCLdms/ksJzV7ljtb/fY+TTf4yNP6dGVXBaM5+/8pSvT7ovn79gxrtoOOmov76kL8dqWY0/1eTsF6sTpb/mojHvUcuZP/MP2l2vK3U/oIuCKUrHbb9Ft0hHwoyIv68/RrgMi7k/5SZ2eUBSmL9zEmppePCYP98sSS1ckaC/P3KwkMj+mL895zrOT6+Yv8p3Uko3Wno/7m0mSMw8Vz/65/NmSrOIP9DJAS1vnZs/4hD2g9mNaj/QsgO8Ycx8v4NOzy8nHJU/habIvc4prD9ROqEpybx6v17iF8ErG7w/pl5A3fropL9lErPnrSmiv6Z+gERyhZS/daZAvXjviz+EU9LE+D+vv/57BW4lnqS/WnaKs97Mo7/w7AF6Up2dv1QU7Me9eKG/nfZOsev2pD89HICzaUqav7szZIpxyYq/voUVJ40dor8Aj3OBV1WEP1/1Qf+4E7K/5QdMCc5Epr/ERV2HoKqqP4JuWVGUPIW/zpSlcDxfm7+7aXmezlVVP710UXcleZW/T4OM72jmRT+NcU9ufmewvzdNfvt5rKK/DVMOzy0Eor8Y4o929UiTv4UUQbuMDjY/lDbUPylhpb/+Sv5AypSAv8rvgK7n0qU/8fQEpMDXtL8ncX0y9me3P+U3MIJgzKO/8IOLIKLugb+IU+wrGIpyv6knLFUIZ3K/PDa0cL8Bpj86p/bzT/KiPxMmj+DHVNU/pie9nB/scT+m5lpzOVKHv9q/tSSrN4O/GS8pA7o/gb/vbUe7kjjLP/USEa3zcKe//36Wfjnfkr/XcCRFefarvxtrZGu8r5o/b5+tcNQmeT/p0Sz+S2ueP28yGe5jSYE/ir+G42//oL8LtpFtpcNov8VontKpjbC/sFJCTysilD/qGMs/+S6gP19Sf0U4H6K/aGMffH5TkL9Ja9NNCmeTv+6Xn7As3KC/ykDpWH8anz/B6w70Vbeav7hxTamjHaC/j2qd4xwjqb99BAQ9rmqdv59D8soUNaO/QBTtAld4KD+MdfK5p/qZv/Sz2uOUZoy/4JSxvVRr0T/O542FQDOjv0Sda8DOy5S/mW3HOW5frz+WDB+jMu5zv2+VTc3aBpu/8U2soNgzo792EtSFxJ/KP/QcYviP56O/pdstd2BnkD8QigYybkiQP+2HaqF0gZa/W0II9KbBpr8p47Ahct+VP9seSQwSLZ2/m36mn17XnL9PmCmqbiiWvwn/c3yURoS/1VTs9mE+t7/1srV5pUiRv0C8x6s0jme/n6WaELkNo79PM6jC62ipPwBV4sLPQnq/nJyLvPGlpb8G1p/QRP6Sv0hGmH0OdIG/YQrAFimBf79qC2USdWSjv0dMEIwm3IQ/zOaM0EyJoL+w3YPKEB60P3w+fW/ah6W/ap1mHyCqnD/lzE45Hmulv2LGAs4AhJA/pR90dl0a0z9QPETV6oCvP0cimIpKk5m/7CnnPWJ0nz+tToldvp1jPx307DFX9qm/Rg5Bknw5pD+GhrK9tkqLv0Kta8egIp2/f1uvuy0zlT8g1j/ixUqmv9xs4PXYPo8/0LRDZRxUUj8jyfjRX2+UPw/Empx3EoE/TLmwf1nGg79Ce+2tg+WVv8PcLrOCvKK/fqX44LrcTD8WEYAB0Fe5P/SgAMY/IJK/Mk1DSHpGeL9tHKOHsxuwP1P5Am9y6aK/ianmPme3wj96+SQw60fOP4JMKJZm6ZU/sGHrVF6tlj9hIUBW3MeXP0QKvg03TKC/6vyKFrXNtb+xZQBE4AB2P0yOg3hSOIM/73o4ECMigr8jZcR8dBaTv2if82nskKy/cdwMpiXLgD85sF+L9lShv/zc/97doJu/YjylWBsEtD9o93n9B7aZv2kNmdd489k/GKxxkdqYaT+nDuzmKdrePw8Ksyc4eLM/YzniWSeihD/J8f3IYhauvxRvsipyiJu/c98aV+OJoL8PYEccMg+wv6nezwy9Nqc/EVdAIR/8gj9ZvVRabjd7v4O7cdfZSJC/UcsSDOFKhb8K6Lj53husv2V9LcdKuJC/4rXHo1ZG1D8TQ93emWSivxUEDvs2+qS/3OTJ9098nj+R2/P6S/ubv5CZseV4PYK/wgxzbrHBcr87VPA7FbaNPy4+yuDmpKQ/vpCCF07joD/WGGUlJ8apv8ul1w1rt38/tYlQOW90nz+OiKdmmgR3v0muu8/6OJY/MdGNHWzMlT+zLvwp9MF5Px2clcBqQp0/emu1++/oiD+cNmCdgs2pvyEH934tf3m/l6I/wX6Nj7+GNPAxt1ZTv04ESzuwt9s/SX6RrJXVUj/xev5tG9qhv9UEUg2tbn6/WN06ZzLprb9QndUHGbGGP4/Q+MeZNKG/zfFAHk1EtD8dFiQSQWmgvzmLT9JOxYq/ZV8PY74goj/walNDtdqDP98uyswRQsU/plszw4Spqj8hcFp3ezqpP1a0ur9I56W/JtyQ69mjnz/q2L9aIMGgv+GasJPYZ6m/c+vbSH0fqD+YsenT9+F4v0vfS1UV1aW/lYmbcZoakD8NsOTIYx+mv6CGwbp7JW+/mOK8nt8blz8fIMIJe7J3vzMxvAUcwG2/KTQD8eJZnb/Zn2PCCrRyv/sn9YrV5aM/pl4VyMB2ib8lMmJgpo6Ov/piV1HL/s4/wjVaSw2Rdr+TCpyYbySjP+PvC3kpCZc/rjjpmP8Plz+N2sucjw6MPy3U6h/cgrA/daUFRS3gpr8KyOSJziOhP3cEVSfgI8s/rq6gO+JUj7+jLoLi7eC4PxXqZMarwqG/h6Iyejt9kT/TWyoSMlVtv3MTGTvUPKQ/oBuIFs+1oL+EwsbRwemEPz5ps5iASqK/VHQijtWDpr/4ELscwg97vwfG/XcvgYM/iizYr/Mjiz/tOnRHPNygPyuoM45P9no/LfbKWKz2gb9+iByu4HWZvzdz+4jhMJE/DCqiXQRPnb8D9uAszM/CP2wW3csnQaE/AbUYVbNMtz+ZHdYr9CWJPy4xbN7cBaW/TLoNePvwhD9qBSWiD8mIvw==",
          "dtype": "f8"
         },
         "yaxis": "y"
        },
        {
         "hovertemplate": "sentiment=negative<br>x=%{x}<br>y=%{y}<extra></extra>",
         "legendgroup": "negative",
         "marker": {
          "color": "#EF553B",
          "opacity": 0.7,
          "symbol": "circle"
         },
         "mode": "markers",
         "name": "negative",
         "orientation": "v",
         "showlegend": true,
         "type": "scatter",
         "x": {
          "bdata": "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",
          "dtype": "f8"
         },
         "xaxis": "x",
         "y": {
          "bdata": "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",
          "dtype": "f8"
         },
         "yaxis": "y"
        }
       ],
       "layout": {
        "legend": {
         "title": {
          "text": "sentiment"
         },
         "tracegroupgap": 0
        },
        "margin": {
         "t": 60
        },
        "template": {
         "data": {
          "bar": [
           {
            "error_x": {
             "color": "#2a3f5f"
            },
            "error_y": {
             "color": "#2a3f5f"
            },
            "marker": {
             "line": {
              "color": "#E5ECF6",
              "width": 0.5
             },
             "pattern": {
              "fillmode": "overlay",
              "size": 10,
              "solidity": 0.2
             }
            },
            "type": "bar"
           }
          ],
          "barpolar": [
           {
            "marker": {
             "line": {
              "color": "#E5ECF6",
              "width": 0.5
             },
             "pattern": {
              "fillmode": "overlay",
              "size": 10,
              "solidity": 0.2
             }
            },
            "type": "barpolar"
           }
          ],
          "carpet": [
           {
            "aaxis": {
             "endlinecolor": "#2a3f5f",
             "gridcolor": "white",
             "linecolor": "white",
             "minorgridcolor": "white",
             "startlinecolor": "#2a3f5f"
            },
            "baxis": {
             "endlinecolor": "#2a3f5f",
             "gridcolor": "white",
             "linecolor": "white",
             "minorgridcolor": "white",
             "startlinecolor": "#2a3f5f"
            },
            "type": "carpet"
           }
          ],
          "choropleth": [
           {
            "colorbar": {
             "outlinewidth": 0,
             "ticks": ""
            },
            "type": "choropleth"
           }
          ],
          "contour": [
           {
            "colorbar": {
             "outlinewidth": 0,
             "ticks": ""
            },
            "colorscale": [
             [
              0,
              "#0d0887"
             ],
             [
              0.1111111111111111,
              "#46039f"
             ],
             [
              0.2222222222222222,
              "#7201a8"
             ],
             [
              0.3333333333333333,
              "#9c179e"
             ],
             [
              0.4444444444444444,
              "#bd3786"
             ],
             [
              0.5555555555555556,
              "#d8576b"
             ],
             [
              0.6666666666666666,
              "#ed7953"
             ],
             [
              0.7777777777777778,
              "#fb9f3a"
             ],
             [
              0.8888888888888888,
              "#fdca26"
             ],
             [
              1,
              "#f0f921"
             ]
            ],
            "type": "contour"
           }
          ],
          "contourcarpet": [
           {
            "colorbar": {
             "outlinewidth": 0,
             "ticks": ""
            },
            "type": "contourcarpet"
           }
          ],
          "heatmap": [
           {
            "colorbar": {
             "outlinewidth": 0,
             "ticks": ""
            },
            "colorscale": [
             [
              0,
              "#0d0887"
             ],
             [
              0.1111111111111111,
              "#46039f"
             ],
             [
              0.2222222222222222,
              "#7201a8"
             ],
             [
              0.3333333333333333,
              "#9c179e"
             ],
             [
              0.4444444444444444,
              "#bd3786"
             ],
             [
              0.5555555555555556,
              "#d8576b"
             ],
             [
              0.6666666666666666,
              "#ed7953"
             ],
             [
              0.7777777777777778,
              "#fb9f3a"
             ],
             [
              0.8888888888888888,
              "#fdca26"
             ],
             [
              1,
              "#f0f921"
             ]
            ],
            "type": "heatmap"
           }
          ],
          "histogram": [
           {
            "marker": {
             "pattern": {
              "fillmode": "overlay",
              "size": 10,
              "solidity": 0.2
             }
            },
            "type": "histogram"
           }
          ],
          "histogram2d": [
           {
            "colorbar": {
             "outlinewidth": 0,
             "ticks": ""
            },
            "colorscale": [
             [
              0,
              "#0d0887"
             ],
             [
              0.1111111111111111,
              "#46039f"
             ],
             [
              0.2222222222222222,
              "#7201a8"
             ],
             [
              0.3333333333333333,
              "#9c179e"
             ],
             [
              0.4444444444444444,
              "#bd3786"
             ],
             [
              0.5555555555555556,
              "#d8576b"
             ],
             [
              0.6666666666666666,
              "#ed7953"
             ],
             [
              0.7777777777777778,
              "#fb9f3a"
             ],
             [
              0.8888888888888888,
              "#fdca26"
             ],
             [
              1,
              "#f0f921"
             ]
            ],
            "type": "histogram2d"
           }
          ],
          "histogram2dcontour": [
           {
            "colorbar": {
             "outlinewidth": 0,
             "ticks": ""
            },
            "colorscale": [
             [
              0,
              "#0d0887"
             ],
             [
              0.1111111111111111,
              "#46039f"
             ],
             [
              0.2222222222222222,
              "#7201a8"
             ],
             [
              0.3333333333333333,
              "#9c179e"
             ],
             [
              0.4444444444444444,
              "#bd3786"
             ],
             [
              0.5555555555555556,
              "#d8576b"
             ],
             [
              0.6666666666666666,
              "#ed7953"
             ],
             [
              0.7777777777777778,
              "#fb9f3a"
             ],
             [
              0.8888888888888888,
              "#fdca26"
             ],
             [
              1,
              "#f0f921"
             ]
            ],
            "type": "histogram2dcontour"
           }
          ],
          "mesh3d": [
           {
            "colorbar": {
             "outlinewidth": 0,
             "ticks": ""
            },
            "type": "mesh3d"
           }
          ],
          "parcoords": [
           {
            "line": {
             "colorbar": {
              "outlinewidth": 0,
              "ticks": ""
             }
            },
            "type": "parcoords"
           }
          ],
          "pie": [
           {
            "automargin": true,
            "type": "pie"
           }
          ],
          "scatter": [
           {
            "fillpattern": {
             "fillmode": "overlay",
             "size": 10,
             "solidity": 0.2
            },
            "type": "scatter"
           }
          ],
          "scatter3d": [
           {
            "line": {
             "colorbar": {
              "outlinewidth": 0,
              "ticks": ""
             }
            },
            "marker": {
             "colorbar": {
              "outlinewidth": 0,
              "ticks": ""
             }
            },
            "type": "scatter3d"
           }
          ],
          "scattercarpet": [
           {
            "marker": {
             "colorbar": {
              "outlinewidth": 0,
              "ticks": ""
             }
            },
            "type": "scattercarpet"
           }
          ],
          "scattergeo": [
           {
            "marker": {
             "colorbar": {
              "outlinewidth": 0,
              "ticks": ""
             }
            },
            "type": "scattergeo"
           }
          ],
          "scattergl": [
           {
            "marker": {
             "colorbar": {
              "outlinewidth": 0,
              "ticks": ""
             }
            },
            "type": "scattergl"
           }
          ],
          "scattermap": [
           {
            "marker": {
             "colorbar": {
              "outlinewidth": 0,
              "ticks": ""
             }
            },
            "type": "scattermap"
           }
          ],
          "scattermapbox": [
           {
            "marker": {
             "colorbar": {
              "outlinewidth": 0,
              "ticks": ""
             }
            },
            "type": "scattermapbox"
           }
          ],
          "scatterpolar": [
           {
            "marker": {
             "colorbar": {
              "outlinewidth": 0,
              "ticks": ""
             }
            },
            "type": "scatterpolar"
           }
          ],
          "scatterpolargl": [
           {
            "marker": {
             "colorbar": {
              "outlinewidth": 0,
              "ticks": ""
             }
            },
            "type": "scatterpolargl"
           }
          ],
          "scatterternary": [
           {
            "marker": {
             "colorbar": {
              "outlinewidth": 0,
              "ticks": ""
             }
            },
            "type": "scatterternary"
           }
          ],
          "surface": [
           {
            "colorbar": {
             "outlinewidth": 0,
             "ticks": ""
            },
            "colorscale": [
             [
              0,
              "#0d0887"
             ],
             [
              0.1111111111111111,
              "#46039f"
             ],
             [
              0.2222222222222222,
              "#7201a8"
             ],
             [
              0.3333333333333333,
              "#9c179e"
             ],
             [
              0.4444444444444444,
              "#bd3786"
             ],
             [
              0.5555555555555556,
              "#d8576b"
             ],
             [
              0.6666666666666666,
              "#ed7953"
             ],
             [
              0.7777777777777778,
              "#fb9f3a"
             ],
             [
              0.8888888888888888,
              "#fdca26"
             ],
             [
              1,
              "#f0f921"
             ]
            ],
            "type": "surface"
           }
          ],
          "table": [
           {
            "cells": {
             "fill": {
              "color": "#EBF0F8"
             },
             "line": {
              "color": "white"
             }
            },
            "header": {
             "fill": {
              "color": "#C8D4E3"
             },
             "line": {
              "color": "white"
             }
            },
            "type": "table"
           }
          ]
         },
         "layout": {
          "annotationdefaults": {
           "arrowcolor": "#2a3f5f",
           "arrowhead": 0,
           "arrowwidth": 1
          },
          "autotypenumbers": "strict",
          "coloraxis": {
           "colorbar": {
            "outlinewidth": 0,
            "ticks": ""
           }
          },
          "colorscale": {
           "diverging": [
            [
             0,
             "#8e0152"
            ],
            [
             0.1,
             "#c51b7d"
            ],
            [
             0.2,
             "#de77ae"
            ],
            [
             0.3,
             "#f1b6da"
            ],
            [
             0.4,
             "#fde0ef"
            ],
            [
             0.5,
             "#f7f7f7"
            ],
            [
             0.6,
             "#e6f5d0"
            ],
            [
             0.7,
             "#b8e186"
            ],
            [
             0.8,
             "#7fbc41"
            ],
            [
             0.9,
             "#4d9221"
            ],
            [
             1,
             "#276419"
            ]
           ],
           "sequential": [
            [
             0,
             "#0d0887"
            ],
            [
             0.1111111111111111,
             "#46039f"
            ],
            [
             0.2222222222222222,
             "#7201a8"
            ],
            [
             0.3333333333333333,
             "#9c179e"
            ],
            [
             0.4444444444444444,
             "#bd3786"
            ],
            [
             0.5555555555555556,
             "#d8576b"
            ],
            [
             0.6666666666666666,
             "#ed7953"
            ],
            [
             0.7777777777777778,
             "#fb9f3a"
            ],
            [
             0.8888888888888888,
             "#fdca26"
            ],
            [
             1,
             "#f0f921"
            ]
           ],
           "sequentialminus": [
            [
             0,
             "#0d0887"
            ],
            [
             0.1111111111111111,
             "#46039f"
            ],
            [
             0.2222222222222222,
             "#7201a8"
            ],
            [
             0.3333333333333333,
             "#9c179e"
            ],
            [
             0.4444444444444444,
             "#bd3786"
            ],
            [
             0.5555555555555556,
             "#d8576b"
            ],
            [
             0.6666666666666666,
             "#ed7953"
            ],
            [
             0.7777777777777778,
             "#fb9f3a"
            ],
            [
             0.8888888888888888,
             "#fdca26"
            ],
            [
             1,
             "#f0f921"
            ]
           ]
          },
          "colorway": [
           "#636efa",
           "#EF553B",
           "#00cc96",
           "#ab63fa",
           "#FFA15A",
           "#19d3f3",
           "#FF6692",
           "#B6E880",
           "#FF97FF",
           "#FECB52"
          ],
          "font": {
           "color": "#2a3f5f"
          },
          "geo": {
           "bgcolor": "white",
           "lakecolor": "white",
           "landcolor": "#E5ECF6",
           "showlakes": true,
           "showland": true,
           "subunitcolor": "white"
          },
          "hoverlabel": {
           "align": "left"
          },
          "hovermode": "closest",
          "mapbox": {
           "style": "light"
          },
          "paper_bgcolor": "white",
          "plot_bgcolor": "#E5ECF6",
          "polar": {
           "angularaxis": {
            "gridcolor": "white",
            "linecolor": "white",
            "ticks": ""
           },
           "bgcolor": "#E5ECF6",
           "radialaxis": {
            "gridcolor": "white",
            "linecolor": "white",
            "ticks": ""
           }
          },
          "scene": {
           "xaxis": {
            "backgroundcolor": "#E5ECF6",
            "gridcolor": "white",
            "gridwidth": 2,
            "linecolor": "white",
            "showbackground": true,
            "ticks": "",
            "zerolinecolor": "white"
           },
           "yaxis": {
            "backgroundcolor": "#E5ECF6",
            "gridcolor": "white",
            "gridwidth": 2,
            "linecolor": "white",
            "showbackground": true,
            "ticks": "",
            "zerolinecolor": "white"
           },
           "zaxis": {
            "backgroundcolor": "#E5ECF6",
            "gridcolor": "white",
            "gridwidth": 2,
            "linecolor": "white",
            "showbackground": true,
            "ticks": "",
            "zerolinecolor": "white"
           }
          },
          "shapedefaults": {
           "line": {
            "color": "#2a3f5f"
           }
          },
          "ternary": {
           "aaxis": {
            "gridcolor": "white",
            "linecolor": "white",
            "ticks": ""
           },
           "baxis": {
            "gridcolor": "white",
            "linecolor": "white",
            "ticks": ""
           },
           "bgcolor": "#E5ECF6",
           "caxis": {
            "gridcolor": "white",
            "linecolor": "white",
            "ticks": ""
           }
          },
          "title": {
           "x": 0.05
          },
          "xaxis": {
           "automargin": true,
           "gridcolor": "white",
           "linecolor": "white",
           "ticks": "",
           "title": {
            "standoff": 15
           },
           "zerolinecolor": "white",
           "zerolinewidth": 2
          },
          "yaxis": {
           "automargin": true,
           "gridcolor": "white",
           "linecolor": "white",
           "ticks": "",
           "title": {
            "standoff": 15
           },
           "zerolinecolor": "white",
           "zerolinewidth": 2
          }
         }
        },
        "xaxis": {
         "anchor": "y",
         "domain": [
          0,
          1
         ],
         "title": {
          "text": "x"
         }
        },
        "yaxis": {
         "anchor": "x",
         "domain": [
          0,
          1
         ],
         "title": {
          "text": "y"
         }
        }
       }
      }
     },
     "metadata": {},
     "output_type": "display_data"
    }
   ],
   "source": [
    "fig = px.scatter(df, x=\"x\", y=\"y\", color=\"sentiment\", opacity=0.7)\n",
    "fig.show()"
   ]
  },
  {
   "cell_type": "markdown",
   "metadata": {},
   "source": [
    "## Let's do a 3D plot"
   ]
  },
  {
   "cell_type": "code",
   "execution_count": 25,
   "metadata": {},
   "outputs": [],
   "source": [
    "reduced_data3D = PCA(n_components=3).fit_transform(TF_IDF_matrix)"
   ]
  },
  {
   "cell_type": "code",
   "execution_count": 26,
   "metadata": {},
   "outputs": [],
   "source": [
    "data2plot3D = pd.DataFrame({'x': reduced_data3D[:, 0],\n",
    "                            'y': reduced_data3D[:, 1], \n",
    "                            'z': reduced_data3D[:, 2], \n",
    "                            'sentiment': data['sentiment']})\n",
    "# only select some values to plot\n",
    "n = 100\n",
    "df_positive = data2plot3D[data2plot3D['sentiment']==\"positive\"][:n]\n",
    "df_negative = data2plot3D[data2plot3D['sentiment']==\"negative\"][:n]\n",
    "df = pd.concat([df_positive, df_negative])"
   ]
  },
  {
   "cell_type": "code",
   "execution_count": 27,
   "metadata": {},
   "outputs": [
    {
     "data": {
      "application/vnd.plotly.v1+json": {
       "config": {
        "plotlyServerURL": "https://plot.ly"
       },
       "data": [
        {
         "hovertemplate": "sentiment=positive<br>x=%{x}<br>y=%{y}<br>z=%{z}<extra></extra>",
         "legendgroup": "positive",
         "marker": {
          "color": "#636efa",
          "opacity": 0.9,
          "symbol": "circle"
         },
         "mode": "markers",
         "name": "positive",
         "scene": "scene",
         "showlegend": true,
         "type": "scatter3d",
         "x": {
          "bdata": "+Tq+waqrer/rKpypkBSBv1BRavYaAni/hIhCYETvgb/Kx/n75HJ3v+gjW2a2Xme/uGNAw1BrR790b0x3krGEP+KaJojr2Ck/RpfUCrEBdr/iSUaND89KP59TDI9EM3A/lCkQ78GgjL+oasHH6JMZv5vd4k3po5G/qnnNKUIbjb8OPJACc5aLv7OXcb19N4W/Lt1YjRE0jL9bte4AsG+Qv6yEKXTkpnG/iDyzC2jwab81ZvY6qY+Ov9GTFp6Q2HW/X0B7gh+Njr9APNV279Fuv42HV5KkKms/HO7XD7hXjr+WYKPnW/9+vy2m7LL+YUG/nvBcWlmdhr9n6naM0OhFPyot8msOBHe/AY1yZv2YZj9ScqOnpTOEv/zFDaOQ2IK/OWgCr6rHZr+2qPNKd59yv0+Sq87jiY2/DlJMhtzxgr/Hk0b6CVCAv5HKcneRe4O/XAhZ8GKKbL/JJVTOGQ5aP5b8Il2540K/u4vkNcIQkr8Jmi2L9Fpjv2Mt2mNRI4m/lOYZmEhjWr8fQbSLVoRWP190KkobcHq/3qiOTZuJbD+I3zdP086Hv1DRhrnINJk/dI4eCWTRhL9ixw+IIBCEvwTf1hUcvoY/O2s2zo1Icr9CTUcgGApwv19L0OHivHW/baBuexC9f7+xm2YTMAiBv55TI0BHsYW/SudbuZXLcL8jltTdNb5mv6zD7PNcsIy/X8dUqCUmkL8DxkN0arxsv+ppBT0Wl4y/ntUUmm6CYD+wyulb2UpyP9FCYuZljG+/yaLPoTejfj8cZpfOBqJ3vxmcbsqHM5C/4fzx+4IQcz8335KX7QV2v6I7OQirO3G/JWDjajGTdD+kp2Re67hhPxjVhbxhqIW/WTfiU0dnjr/6lt1vImCGv7pFZAQXWHK/qyWObj54f79Hs2Rm/+mFv3IlPW92qzG/P2Rucz8YaD/kweJeRYqLv9fHPVaCOXK/ynbRLoIQeL/IAGkCHXCKv/ZO+fPNDJU/xmJfLSckh7+3Dp9hRjl1v2D3OhrZjpA/DH9jVwTQiL8rZ+5DZymOv18WCy89AoK/xzLUzuw6UL8=",
          "dtype": "f8"
         },
         "y": {
          "bdata": "2DaCN0Sykj/BpLRNP8R0vyw6CSsduRY/ghEscga6ZL9qrWIuMwpTPycRv4eXDY0/hKdQgDATeD/0fvUOJEpwv2hQRWQrWIC/SKVPQEcaW7/g6IXqI4xov/VBa3zE/l4/JzQAwMgDcL+v4Stt+y9rv+1OOg7zIYa/tEJTr5Dqfr8fGkf08Cd2v0nQ2gwkYHy/EfvLiNbepD8BVlWr6bOAv8BbFaMkPYs/QjeF/SXhYb9UFMHv4Wd5v0QBiOxponi/R/+1scpRar+GI1o31KRwv0hb3w0eT1S/FRn0YF/4g7/DpkkoxGFwv1bPIZAMjFG/TvoqD7H6gL/7uD7iVkNLv1/zebFPfkW/xtHtu2JfFz+zr7sKiX51vyG39j4Ou3a/WzoPZzTUPr/0Qg94n41dvy9XPIHePne/CAbaODZLdr+LhKbU6+Z0v16pC3XIYEq/sRPKGErWbT+Il+1uO7RsP9NVTpMyo1K/TDSP7Fo1Hz/DUNM5xGaAv7/l+x+KGXK/8OhbC+vGaL/eJcKVm5wDP4OVuy7rS4G/avm2w/KyWr8wdlKiToJ8v0gVkiqcBIO/8zdv2CwEcL+CzFPEIWlwvzBo8aXnk3U/PN5q8GxgYL/6vjlmYJp8v/N+EEVPuXO/ky58JkY2YL8cBpO4zFKBP8BYoQeTzGC/DsMFZvglKj/3wX1EJap5v6rdqiT8M3S/PeqZqPeKe788nUEn/uJ0v/pEvIUJjoa/zmYYSp31ar8aHq8Un6B4P5YX96cLGlG/59beYAXzcj8gpjdcS9hxP9LCkqzX7Y0/rlHPxIwdeb8RLnxxRKJCPwwW8lh4l3m/N/tl7tpVdb/11SP1WgKDv5SL4s8jaXe/M8wdaJ8jWb9zgN/R6Qp0P1m0+gOlD4K/iuh98E5TdL/sLZyMTfhtv6N9S+wA7XO/TYBcD9QUYT9xFhQPcb5zv6RrrIrLkJ8/GKHLyJ8ydD/wxI33T+GWPwO32tGDlnu/b7U4UEH2er/OjWryY8h3v0XgYNiEOoc/qHYKbnuFbr8acqDpWrNwv08AP511bna/3R35C3d5WL8=",
          "dtype": "f8"
         },
         "z": {
          "bdata": "GMZYSZzYir+ff9TupMZ1Pyir2TH4NnY/BWb9VgmQY7/k1yAfG+l9P26XWfk7j1G/cvxbWbX5nD+rbUcQQv2GP8jPWoRA8VA/blfRk96ZXj9NzWJLq8Bkv3HWjjgiPY0/N91EEAaBij9cV9EkCihav7UqR0T/gnu/+KvI/matgr8t6ch1vId5vyIcemF+k4C/UUnlkju0W79f14Ye1QKNP2dGqjjLJE6/+ioTN+ErjT9IZfZsI6N9vybnlU5ca3S/hA4i+0Z2er8UGLGyZP6Bv7ZWZhY+MlI/g1a3DI8efL9JYkLnQqNrPxeOdt+b0YY/G78/6Yykgb8qx3MRY7Vev1yThtox52a/6VpyXXuQij8u+qWysgaJv3OS2gzDjnG/t7XdjinocT/joFQCeDplP7J7Z38h1n+/JfImmdDqdD/OAfuaUihjv5VpRijVaXC/mE5Ma7PFaL+4MYkZnzR5P5loE0JYAHi/wQSqLWobXj8BzDcfFg1+PyGq5LpxKYG/yXNv0HENkD/J13ZuEe6BP5OtprtHDmE/3AzYcV0ydj8A6k2TK0R+v8+MydS6vYE/0Yl0rYbXWr8CwZSG+0aBv6kEjrfC05E/qNxsgMY3YT86n6UNbZSKP47KU3ZMuWi/WghiFMEdd7+YF8O4aUF/P7DFGmmgNnG/BuEyzdT9gD/Mhi9R/mFyv+VbuqCYmny/RKtJa1ldbb8HnQd+2dVfv+ujLxBgAoc/G5O46w5hgD9xlf7/deifPyDOoBhR/Hc/x5gU1fkxiz/1PZuY2W1vv1US7FcTGjU/1YgWzMpTOL+A0dRjJQ9mPyUV1XEzNY4/kJqOEz7CYD9za/+wzQwiv+RhmLtvcXq/CN0+Bmtnhr+UASpqNIyBv03W5SWcbo4/+X3m3Ye5cr8CWertkWllv4xevbVDpXs/VzOrLHg9iT8ADebjcM6BPxfATrxvEXS/jgYb8EPQhj8ascFtFw+Gvy5QHvSmWoI/XM0Hr+N9dL8Oy8U4cZRZv6KKHzWusIY/lWwRHkFeIL+RTL2xzndTPzBJ7iwQs4S/9zw+fNGuV78=",
          "dtype": "f8"
         }
        },
        {
         "hovertemplate": "sentiment=negative<br>x=%{x}<br>y=%{y}<br>z=%{z}<extra></extra>",
         "legendgroup": "negative",
         "marker": {
          "color": "#EF553B",
          "opacity": 0.9,
          "symbol": "circle"
         },
         "mode": "markers",
         "name": "negative",
         "scene": "scene",
         "showlegend": true,
         "type": "scatter3d",
         "x": {
          "bdata": "Ktto0aJScL9/E/pAiehaP/dPd/VtIo0/qvjkDijFcz+NHbUL5U1Gv0XbdgXBhD0/OCMBk1fPYr+9dG9gXYF9P1/cZzQimYU/rAftrc9Na78ZIYlc2o+XP+bHDRzz7os/226RUaXKgz9xnAcxJZ6Fv+fVbilkn4I/KK60k63Ybj82MGaDlO6LP7kaGAZ29XU/DNgIRAcflD/NK1hNC4fevol2qWqZrnI/xvTZ3oVHkD/U7+T/UTKBPxyiBkshbFq/HhyBnJqicL/u7nlowIpRv4mr2w4EMHU//EFw/NDhcr8O6XGGulhTv9AgrO+njVM/c4PAPpvtf7+FaD1JQuR0P+EBk8OPW2i/voNFfHwmiD/Xf45Bm79VP6n9BsGdw1O/Qo91cArwgj9OxPtudUdZPyjK59TlH2Q/0iyfYgNVYD9rJ3F6uL4QP3L1DuJ+D2K/uUfk21rZaj/Ua+hA6i5QP0t4FN2zx3o/HNcPIEAIgz8h+Y3iXZNwPz1KF0ac0Zs/jTvEi6BJoD89Ukn8Kz6Dvylee8TsIpA/W+9zYQFIcr8hIg8glPBxPxuoAR+wi4c/yPMCe7VhZ7//fMLXIXRyP4jotNLxOKg/HBSCPkAvpD99ydRR1SNiv+8rGAjwAUe/V+lkLoWzhj8/FaDus6N7PzIucVhfIns/XL7Mt5SvgD9n1HkyC7eIP1o1I4LUwke/9XTYYioEa7/5tonV8+eQvx7r0/D39HU/4sTfbIv0lT/U9GJ6Su9oPz66vp8LuXS/Ye03f0ahW7/OmFikiC2AP0M1Mjs5LIQ/DAcC6eqtPD8NsgK+KXR5v8bgbmQKLX4/7D77CXnWdL8wcgHhf8JfvwTKNrTE2lm/ZazZWYRWXr+nFTh3rPh8vwqjiX5kYXM/KduihUBdeL/zPA0dXAOBv3o4AP49N4k/De2cykCWhD+Mcp6owx+Cv5fjG32hFX+/S4f9ol8NgT8s9H0yFg2qPwO4lpu8TVC/7lIzyYTLYL9MvX3XRsd1vxF8GZ5jKWw/9Yv85LIec7/cPlR6c+h1P0l8Xa6Zk5E/UGJHlppDkz8=",
          "dtype": "f8"
         },
         "y": {
          "bdata": "4qtvRNTrcL9mxMc1zfKpPyYT3t8TDYG/04WMaoOOaj/O1gGCfeFtv0LshhBJJlm/thyb4uzOST8Z72Oj+Ox1v6QfGSul+G6/fsbOdFPmgb/9l2cp5N9iv3LaQe7udoQ/86hcfetJZr9Dn1pyabt8v4furo1FCXE/Be+0zej+eb+9geC31LIuv89zZYzbhnM/UuzQdZLUb79bMNZrXvZ4vySYmCWmhGa/Sl+ANib5db+zJy4/MDFzv1XFwjziokA/DIfP69g7gL8wtaawlqBaP/hZ86d0236/6kwGdA4VZL9DmfMmWscqP+5961s0Z3q/8WmN0OdBY78UANB1BhF0PwkBTC6fBmE/+yPcRi43cr8dBKS5dGx3v3p8xwMha3C/jDZbHhmsaD/Qr5kbhSxov/F7V2sGlEa/FWd8Y/Qidj9mIZ0dPLh6v91M8RF5VGm/iLisdOqncb+YSgftU5NvvwTrzSD82Ee/AHBJbF5OVb+PEDFPpvF7v05swmi+OHe/u3CoDeaOZz+B3lu9wQ1sv7n+RQfwoEY/hgX+pQuHZL8oMtoptKtxv3WqKn+wI1k/LHjEXpGddz9+rVmUbgJxv6ihNbLJATm/FLUvAjGdcz8dfo/I+EdhvxfKWZIQnmi/XLX6W5efYb/dIhG1X+9ov2B/8DxzMFS/8VMfbAMtVD8ULqhqXGB4v/aMQ9uUB4W/N8VTyXjcer+kuLugAtKAv/pFiTzqvHC/NhGBRGyMIz+WRyxrx5SBvyRxjrxZ3H0/sJ08HdcgZr8D2p1/osOMPwk207RneGG/uzDloqABQr/kkoyStWadP/bQBBVbPWu/DFcqZNr4gb8sNJBMG3l/v6j3hkHOxm+/lg5CS+ybSr8h2I7u8GJ3v+L9rFtViVw/KYJvEhn2VD9F/Oq0/s2Bv5zREifsO50/I5cWUMSybj8T2yvjle50v3aPuEfys3K/fNCEuPfKVr8gQ70ERo1OP4hIyWy4XWC/pNV6c3j6Yj8QfP1Y8/A1v2FtwGscJIG/XwIU3wHyZb9w4wyHOulxPx50M1m1wYc/um5WInb0c78=",
          "dtype": "f8"
         },
         "z": {
          "bdata": "QgtmY2IYdL8fTSkZA0B1vxtaQcB+I0y/tXx4Td+eeL8x/7ktkcJUv6LWr8JgCWC/LMaP/NGQXb+mpUCMg12Av+Ul6iRJr36/PKqAnJjBbL86bl+nHM5hv52YQ3d9Z2C/qBt4vFcJhT9EBFrokiRxvxmeRZHUY9i+2W5d1hWPcb8mbgLTtYxCPxTR8Z6P4GS/spXQ7WRuc7/S/5ceX7CGv568x2cvWX6/14fs8fGdhz+mpfNwLaeFvxnTrv55MIC/9F5BCMhEej+CLqhV0mB1vxaM6j4d2IC/1H4b5494fL+sGkqln0eBv4iJiv5TG4W/whMQg++HhL+oR3Wc+8B8P26/4IfzLX2/ZhA4bvBqdL/GbZ3ODE1ov/7TaoC154G/1ejQc956hT+4Ew8jmYpVPyywztNRuHq/2G1fIxnyOz/M7rYaVDJiv3aUdv4jwFy/uhVgk2kEhr+xjbUr09qCv1dVbbTQN3a/pg09rpsWbr/Qi3ReVedhv0721yaJLXi/z7RivzBceD9EeReD+/1OvwtEMsK9PFM/5PY2z6dNdb/WhfPX8J2Lv0psa20Qqmc/onMU0Rd7YL9PhoABzWB+v/JTJTS+Oo4/VxMc+7BWXD+w+OqPyZFgv62hy0bSAIW/JU2tKQrSgL9DgrSAXDllvyHIH69YiGO/58x+xeRxij+GSZk7myhlv3i6mkbXJmk/TU0BVbbSYz+uhdfOap6Fv6yptHBDvHK/PDiSk0B2ej8mpGY0iv+Bvwzwx8vGbJG/zfeCqxWYgb/YgH+9R4t2v0faRD6iS28/alMR+6kwYj9mzUNthfOPv1tPhlHOdXE/WySIJQXdg78TSa6PZCtmv/zFU+RpJEw/GkahiCxpjr/owBZlVbuVP1ZTblS7nYO/JM5UUgy9Rr9lcC8B4GBqv+CjhQnVCyG/yMpusVm4Wj+zee2zf9Vyv5ivsHklG1s/TmZDr5FMdb/3ufXk/uNWP4SoJBEtIIG/EYZl2lwVgL9V5snMpGOOv3k1pSuSyoa/zPtuH1lRf788v0f/lgkNv3AP3N5+BYI/OWRZpdD3f78=",
          "dtype": "f8"
         }
        }
       ],
       "layout": {
        "legend": {
         "title": {
          "text": "sentiment"
         },
         "tracegroupgap": 0
        },
        "margin": {
         "t": 60
        },
        "scene": {
         "domain": {
          "x": [
           0,
           1
          ],
          "y": [
           0,
           1
          ]
         },
         "xaxis": {
          "title": {
           "text": "x"
          }
         },
         "yaxis": {
          "title": {
           "text": "y"
          }
         },
         "zaxis": {
          "title": {
           "text": "z"
          }
         }
        },
        "template": {
         "data": {
          "bar": [
           {
            "error_x": {
             "color": "#2a3f5f"
            },
            "error_y": {
             "color": "#2a3f5f"
            },
            "marker": {
             "line": {
              "color": "#E5ECF6",
              "width": 0.5
             },
             "pattern": {
              "fillmode": "overlay",
              "size": 10,
              "solidity": 0.2
             }
            },
            "type": "bar"
           }
          ],
          "barpolar": [
           {
            "marker": {
             "line": {
              "color": "#E5ECF6",
              "width": 0.5
             },
             "pattern": {
              "fillmode": "overlay",
              "size": 10,
              "solidity": 0.2
             }
            },
            "type": "barpolar"
           }
          ],
          "carpet": [
           {
            "aaxis": {
             "endlinecolor": "#2a3f5f",
             "gridcolor": "white",
             "linecolor": "white",
             "minorgridcolor": "white",
             "startlinecolor": "#2a3f5f"
            },
            "baxis": {
             "endlinecolor": "#2a3f5f",
             "gridcolor": "white",
             "linecolor": "white",
             "minorgridcolor": "white",
             "startlinecolor": "#2a3f5f"
            },
            "type": "carpet"
           }
          ],
          "choropleth": [
           {
            "colorbar": {
             "outlinewidth": 0,
             "ticks": ""
            },
            "type": "choropleth"
           }
          ],
          "contour": [
           {
            "colorbar": {
             "outlinewidth": 0,
             "ticks": ""
            },
            "colorscale": [
             [
              0,
              "#0d0887"
             ],
             [
              0.1111111111111111,
              "#46039f"
             ],
             [
              0.2222222222222222,
              "#7201a8"
             ],
             [
              0.3333333333333333,
              "#9c179e"
             ],
             [
              0.4444444444444444,
              "#bd3786"
             ],
             [
              0.5555555555555556,
              "#d8576b"
             ],
             [
              0.6666666666666666,
              "#ed7953"
             ],
             [
              0.7777777777777778,
              "#fb9f3a"
             ],
             [
              0.8888888888888888,
              "#fdca26"
             ],
             [
              1,
              "#f0f921"
             ]
            ],
            "type": "contour"
           }
          ],
          "contourcarpet": [
           {
            "colorbar": {
             "outlinewidth": 0,
             "ticks": ""
            },
            "type": "contourcarpet"
           }
          ],
          "heatmap": [
           {
            "colorbar": {
             "outlinewidth": 0,
             "ticks": ""
            },
            "colorscale": [
             [
              0,
              "#0d0887"
             ],
             [
              0.1111111111111111,
              "#46039f"
             ],
             [
              0.2222222222222222,
              "#7201a8"
             ],
             [
              0.3333333333333333,
              "#9c179e"
             ],
             [
              0.4444444444444444,
              "#bd3786"
             ],
             [
              0.5555555555555556,
              "#d8576b"
             ],
             [
              0.6666666666666666,
              "#ed7953"
             ],
             [
              0.7777777777777778,
              "#fb9f3a"
             ],
             [
              0.8888888888888888,
              "#fdca26"
             ],
             [
              1,
              "#f0f921"
             ]
            ],
            "type": "heatmap"
           }
          ],
          "histogram": [
           {
            "marker": {
             "pattern": {
              "fillmode": "overlay",
              "size": 10,
              "solidity": 0.2
             }
            },
            "type": "histogram"
           }
          ],
          "histogram2d": [
           {
            "colorbar": {
             "outlinewidth": 0,
             "ticks": ""
            },
            "colorscale": [
             [
              0,
              "#0d0887"
             ],
             [
              0.1111111111111111,
              "#46039f"
             ],
             [
              0.2222222222222222,
              "#7201a8"
             ],
             [
              0.3333333333333333,
              "#9c179e"
             ],
             [
              0.4444444444444444,
              "#bd3786"
             ],
             [
              0.5555555555555556,
              "#d8576b"
             ],
             [
              0.6666666666666666,
              "#ed7953"
             ],
             [
              0.7777777777777778,
              "#fb9f3a"
             ],
             [
              0.8888888888888888,
              "#fdca26"
             ],
             [
              1,
              "#f0f921"
             ]
            ],
            "type": "histogram2d"
           }
          ],
          "histogram2dcontour": [
           {
            "colorbar": {
             "outlinewidth": 0,
             "ticks": ""
            },
            "colorscale": [
             [
              0,
              "#0d0887"
             ],
             [
              0.1111111111111111,
              "#46039f"
             ],
             [
              0.2222222222222222,
              "#7201a8"
             ],
             [
              0.3333333333333333,
              "#9c179e"
             ],
             [
              0.4444444444444444,
              "#bd3786"
             ],
             [
              0.5555555555555556,
              "#d8576b"
             ],
             [
              0.6666666666666666,
              "#ed7953"
             ],
             [
              0.7777777777777778,
              "#fb9f3a"
             ],
             [
              0.8888888888888888,
              "#fdca26"
             ],
             [
              1,
              "#f0f921"
             ]
            ],
            "type": "histogram2dcontour"
           }
          ],
          "mesh3d": [
           {
            "colorbar": {
             "outlinewidth": 0,
             "ticks": ""
            },
            "type": "mesh3d"
           }
          ],
          "parcoords": [
           {
            "line": {
             "colorbar": {
              "outlinewidth": 0,
              "ticks": ""
             }
            },
            "type": "parcoords"
           }
          ],
          "pie": [
           {
            "automargin": true,
            "type": "pie"
           }
          ],
          "scatter": [
           {
            "fillpattern": {
             "fillmode": "overlay",
             "size": 10,
             "solidity": 0.2
            },
            "type": "scatter"
           }
          ],
          "scatter3d": [
           {
            "line": {
             "colorbar": {
              "outlinewidth": 0,
              "ticks": ""
             }
            },
            "marker": {
             "colorbar": {
              "outlinewidth": 0,
              "ticks": ""
             }
            },
            "type": "scatter3d"
           }
          ],
          "scattercarpet": [
           {
            "marker": {
             "colorbar": {
              "outlinewidth": 0,
              "ticks": ""
             }
            },
            "type": "scattercarpet"
           }
          ],
          "scattergeo": [
           {
            "marker": {
             "colorbar": {
              "outlinewidth": 0,
              "ticks": ""
             }
            },
            "type": "scattergeo"
           }
          ],
          "scattergl": [
           {
            "marker": {
             "colorbar": {
              "outlinewidth": 0,
              "ticks": ""
             }
            },
            "type": "scattergl"
           }
          ],
          "scattermap": [
           {
            "marker": {
             "colorbar": {
              "outlinewidth": 0,
              "ticks": ""
             }
            },
            "type": "scattermap"
           }
          ],
          "scattermapbox": [
           {
            "marker": {
             "colorbar": {
              "outlinewidth": 0,
              "ticks": ""
             }
            },
            "type": "scattermapbox"
           }
          ],
          "scatterpolar": [
           {
            "marker": {
             "colorbar": {
              "outlinewidth": 0,
              "ticks": ""
             }
            },
            "type": "scatterpolar"
           }
          ],
          "scatterpolargl": [
           {
            "marker": {
             "colorbar": {
              "outlinewidth": 0,
              "ticks": ""
             }
            },
            "type": "scatterpolargl"
           }
          ],
          "scatterternary": [
           {
            "marker": {
             "colorbar": {
              "outlinewidth": 0,
              "ticks": ""
             }
            },
            "type": "scatterternary"
           }
          ],
          "surface": [
           {
            "colorbar": {
             "outlinewidth": 0,
             "ticks": ""
            },
            "colorscale": [
             [
              0,
              "#0d0887"
             ],
             [
              0.1111111111111111,
              "#46039f"
             ],
             [
              0.2222222222222222,
              "#7201a8"
             ],
             [
              0.3333333333333333,
              "#9c179e"
             ],
             [
              0.4444444444444444,
              "#bd3786"
             ],
             [
              0.5555555555555556,
              "#d8576b"
             ],
             [
              0.6666666666666666,
              "#ed7953"
             ],
             [
              0.7777777777777778,
              "#fb9f3a"
             ],
             [
              0.8888888888888888,
              "#fdca26"
             ],
             [
              1,
              "#f0f921"
             ]
            ],
            "type": "surface"
           }
          ],
          "table": [
           {
            "cells": {
             "fill": {
              "color": "#EBF0F8"
             },
             "line": {
              "color": "white"
             }
            },
            "header": {
             "fill": {
              "color": "#C8D4E3"
             },
             "line": {
              "color": "white"
             }
            },
            "type": "table"
           }
          ]
         },
         "layout": {
          "annotationdefaults": {
           "arrowcolor": "#2a3f5f",
           "arrowhead": 0,
           "arrowwidth": 1
          },
          "autotypenumbers": "strict",
          "coloraxis": {
           "colorbar": {
            "outlinewidth": 0,
            "ticks": ""
           }
          },
          "colorscale": {
           "diverging": [
            [
             0,
             "#8e0152"
            ],
            [
             0.1,
             "#c51b7d"
            ],
            [
             0.2,
             "#de77ae"
            ],
            [
             0.3,
             "#f1b6da"
            ],
            [
             0.4,
             "#fde0ef"
            ],
            [
             0.5,
             "#f7f7f7"
            ],
            [
             0.6,
             "#e6f5d0"
            ],
            [
             0.7,
             "#b8e186"
            ],
            [
             0.8,
             "#7fbc41"
            ],
            [
             0.9,
             "#4d9221"
            ],
            [
             1,
             "#276419"
            ]
           ],
           "sequential": [
            [
             0,
             "#0d0887"
            ],
            [
             0.1111111111111111,
             "#46039f"
            ],
            [
             0.2222222222222222,
             "#7201a8"
            ],
            [
             0.3333333333333333,
             "#9c179e"
            ],
            [
             0.4444444444444444,
             "#bd3786"
            ],
            [
             0.5555555555555556,
             "#d8576b"
            ],
            [
             0.6666666666666666,
             "#ed7953"
            ],
            [
             0.7777777777777778,
             "#fb9f3a"
            ],
            [
             0.8888888888888888,
             "#fdca26"
            ],
            [
             1,
             "#f0f921"
            ]
           ],
           "sequentialminus": [
            [
             0,
             "#0d0887"
            ],
            [
             0.1111111111111111,
             "#46039f"
            ],
            [
             0.2222222222222222,
             "#7201a8"
            ],
            [
             0.3333333333333333,
             "#9c179e"
            ],
            [
             0.4444444444444444,
             "#bd3786"
            ],
            [
             0.5555555555555556,
             "#d8576b"
            ],
            [
             0.6666666666666666,
             "#ed7953"
            ],
            [
             0.7777777777777778,
             "#fb9f3a"
            ],
            [
             0.8888888888888888,
             "#fdca26"
            ],
            [
             1,
             "#f0f921"
            ]
           ]
          },
          "colorway": [
           "#636efa",
           "#EF553B",
           "#00cc96",
           "#ab63fa",
           "#FFA15A",
           "#19d3f3",
           "#FF6692",
           "#B6E880",
           "#FF97FF",
           "#FECB52"
          ],
          "font": {
           "color": "#2a3f5f"
          },
          "geo": {
           "bgcolor": "white",
           "lakecolor": "white",
           "landcolor": "#E5ECF6",
           "showlakes": true,
           "showland": true,
           "subunitcolor": "white"
          },
          "hoverlabel": {
           "align": "left"
          },
          "hovermode": "closest",
          "mapbox": {
           "style": "light"
          },
          "paper_bgcolor": "white",
          "plot_bgcolor": "#E5ECF6",
          "polar": {
           "angularaxis": {
            "gridcolor": "white",
            "linecolor": "white",
            "ticks": ""
           },
           "bgcolor": "#E5ECF6",
           "radialaxis": {
            "gridcolor": "white",
            "linecolor": "white",
            "ticks": ""
           }
          },
          "scene": {
           "xaxis": {
            "backgroundcolor": "#E5ECF6",
            "gridcolor": "white",
            "gridwidth": 2,
            "linecolor": "white",
            "showbackground": true,
            "ticks": "",
            "zerolinecolor": "white"
           },
           "yaxis": {
            "backgroundcolor": "#E5ECF6",
            "gridcolor": "white",
            "gridwidth": 2,
            "linecolor": "white",
            "showbackground": true,
            "ticks": "",
            "zerolinecolor": "white"
           },
           "zaxis": {
            "backgroundcolor": "#E5ECF6",
            "gridcolor": "white",
            "gridwidth": 2,
            "linecolor": "white",
            "showbackground": true,
            "ticks": "",
            "zerolinecolor": "white"
           }
          },
          "shapedefaults": {
           "line": {
            "color": "#2a3f5f"
           }
          },
          "ternary": {
           "aaxis": {
            "gridcolor": "white",
            "linecolor": "white",
            "ticks": ""
           },
           "baxis": {
            "gridcolor": "white",
            "linecolor": "white",
            "ticks": ""
           },
           "bgcolor": "#E5ECF6",
           "caxis": {
            "gridcolor": "white",
            "linecolor": "white",
            "ticks": ""
           }
          },
          "title": {
           "x": 0.05
          },
          "xaxis": {
           "automargin": true,
           "gridcolor": "white",
           "linecolor": "white",
           "ticks": "",
           "title": {
            "standoff": 15
           },
           "zerolinecolor": "white",
           "zerolinewidth": 2
          },
          "yaxis": {
           "automargin": true,
           "gridcolor": "white",
           "linecolor": "white",
           "ticks": "",
           "title": {
            "standoff": 15
           },
           "zerolinecolor": "white",
           "zerolinewidth": 2
          }
         }
        }
       }
      }
     },
     "metadata": {},
     "output_type": "display_data"
    }
   ],
   "source": [
    "fig = px.scatter_3d(df, x='x', y='y', z='z', color='sentiment', opacity=0.9)\n",
    "fig.show()"
   ]
  },
  {
   "cell_type": "code",
   "execution_count": 28,
   "metadata": {},
   "outputs": [],
   "source": [
    "import pickle\n",
    "with open(\"./normalized_TF_IDF_matrix.pckl\", 'wb') as f:\n",
    "    pickle.dump(normalized_TF_IDF_matrix, f)\n"
   ]
  },
  {
   "cell_type": "code",
   "execution_count": null,
   "metadata": {},
   "outputs": [],
   "source": []
  }
 ],
 "metadata": {
  "kernelspec": {
   "display_name": "nlp",
   "language": "python",
   "name": "python3"
  },
  "language_info": {
   "codemirror_mode": {
    "name": "ipython",
    "version": 3
   },
   "file_extension": ".py",
   "mimetype": "text/x-python",
   "name": "python",
   "nbconvert_exporter": "python",
   "pygments_lexer": "ipython3",
   "version": "3.11.11"
  }
 },
 "nbformat": 4,
 "nbformat_minor": 2
}
