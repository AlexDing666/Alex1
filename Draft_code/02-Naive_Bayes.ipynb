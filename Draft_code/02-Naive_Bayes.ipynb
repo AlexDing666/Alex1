{
 "cells": [
  {
   "cell_type": "code",
   "execution_count": 1,
   "metadata": {},
   "outputs": [],
   "source": [
    "import numpy as np\n",
    "import pandas as pd\n",
    "import re\n",
    "import matplotlib.pyplot as plt\n",
    "from collections import Counter\n",
    "from nltk.corpus import stopwords\n",
    "from tqdm import tqdm\n",
    "#nltk.download('stopwords')\n",
    "#nltk.download('punkt')"
   ]
  },
  {
   "cell_type": "code",
   "execution_count": 2,
   "metadata": {},
   "outputs": [],
   "source": [
    "# The tokenizer of nltk was too slow for that case.\n",
    "# So, we will use python regular expressions to \n",
    "# increase speed\n",
    "\n",
    "def tokenize_and_count(text):\n",
    "    \"\"\"\n",
    "    This function will tokenize a text using regular\n",
    "    expressions and counts the number of times each\n",
    "    token is present in the text\n",
    "    \"\"\"\n",
    "    # Tokenize the text\n",
    "    p = re.compile(\"[a-z]+\") # Using a regular expression here\n",
    "    tokens = p.findall(text.lower())\n",
    "    tokens_counts = Counter(tokens)\n",
    "    final_dict = {k: v for k, v in sorted(tokens_counts.items(), key=lambda item: item[1], reverse=True)}\n",
    "    return final_dict\n",
    "\n",
    "def fair_compose(tokens_positive, tokens_negative, n=100):\n",
    "    \"\"\"\n",
    "    Given the most common words on each class, this function\n",
    "    will compose a vocabulary with the words that are common\n",
    "    to both classes while keeping the most popular words for\n",
    "    each class. \n",
    "    \"\"\"\n",
    "    vocabulary = []\n",
    "    i = 0\n",
    "    j = 0\n",
    "    while len(set(vocabulary)) < n:\n",
    "        while True:\n",
    "            w = list(tokens_positive.keys())[i]\n",
    "            i +=1\n",
    "            if w not in stopwords.words('english'):\n",
    "                vocabulary.append(w)\n",
    "                break\n",
    "        while True:\n",
    "            w = list(tokens_negative.keys())[j]\n",
    "            j +=1\n",
    "            if w not in stopwords.words('english'):\n",
    "                vocabulary.append(w)\n",
    "                break\n",
    "    return list(set(vocabulary))\n",
    "\n",
    "def compute_vocabulary(text_positive, text_negative, n=100):\n",
    "    \"\"\"\n",
    "    This function will create a vocabulary with the n most frequent words\n",
    "    that are present in the text_positive and text_negative at the same\n",
    "    time.  \n",
    "    The function will also remove the stopwords and compute the frequency\n",
    "    for each word in the positive texts and the negative texts.\n",
    "    Returns two dictionaries.\n",
    "    \"\"\"\n",
    "    tokens_positive = tokenize_and_count(text_positive)\n",
    "    del(tokens_positive['br'])\n",
    "    tokens_negative = tokenize_and_count(text_negative)\n",
    "    del(tokens_negative['br'])\n",
    "    vocabulary = fair_compose(tokens_positive, tokens_negative, n)\n",
    "    vocab_freq_positive = {}\n",
    "    vocab_freq_negative = {}\n",
    "    word_counts_positive = 0\n",
    "    word_counts_negative = 0\n",
    "    for w in vocabulary:\n",
    "        vocab_freq_positive[w] = tokens_positive[w]\n",
    "        word_counts_positive += tokens_positive[w]\n",
    "        vocab_freq_negative[w] = tokens_negative[w]\n",
    "        word_counts_negative += tokens_negative[w]\n",
    "    # Normalize\n",
    "    for w in vocab_freq_positive.keys():\n",
    "        vocab_freq_positive[w] = vocab_freq_positive[w] / word_counts_positive\n",
    "        vocab_freq_negative[w] = vocab_freq_negative[w] / word_counts_negative\n",
    "    return vocab_freq_positive, vocab_freq_negative\n"
   ]
  },
  {
   "cell_type": "code",
   "execution_count": 3,
   "metadata": {},
   "outputs": [],
   "source": [
    "data = pd.read_csv(\"./IMDB_Dataset.csv\")"
   ]
  },
  {
   "cell_type": "code",
   "execution_count": 4,
   "metadata": {},
   "outputs": [
    {
     "data": {
      "text/html": [
       "<div>\n",
       "<style scoped>\n",
       "    .dataframe tbody tr th:only-of-type {\n",
       "        vertical-align: middle;\n",
       "    }\n",
       "\n",
       "    .dataframe tbody tr th {\n",
       "        vertical-align: top;\n",
       "    }\n",
       "\n",
       "    .dataframe thead th {\n",
       "        text-align: right;\n",
       "    }\n",
       "</style>\n",
       "<table border=\"1\" class=\"dataframe\">\n",
       "  <thead>\n",
       "    <tr style=\"text-align: right;\">\n",
       "      <th></th>\n",
       "      <th>review</th>\n",
       "      <th>sentiment</th>\n",
       "    </tr>\n",
       "  </thead>\n",
       "  <tbody>\n",
       "    <tr>\n",
       "      <th>0</th>\n",
       "      <td>One of the other reviewers has mentioned that ...</td>\n",
       "      <td>positive</td>\n",
       "    </tr>\n",
       "    <tr>\n",
       "      <th>1</th>\n",
       "      <td>A wonderful little production. &lt;br /&gt;&lt;br /&gt;The...</td>\n",
       "      <td>positive</td>\n",
       "    </tr>\n",
       "    <tr>\n",
       "      <th>2</th>\n",
       "      <td>I thought this was a wonderful way to spend ti...</td>\n",
       "      <td>positive</td>\n",
       "    </tr>\n",
       "    <tr>\n",
       "      <th>3</th>\n",
       "      <td>Basically there's a family where a little boy ...</td>\n",
       "      <td>negative</td>\n",
       "    </tr>\n",
       "    <tr>\n",
       "      <th>4</th>\n",
       "      <td>Petter Mattei's \"Love in the Time of Money\" is...</td>\n",
       "      <td>positive</td>\n",
       "    </tr>\n",
       "  </tbody>\n",
       "</table>\n",
       "</div>"
      ],
      "text/plain": [
       "                                              review sentiment\n",
       "0  One of the other reviewers has mentioned that ...  positive\n",
       "1  A wonderful little production. <br /><br />The...  positive\n",
       "2  I thought this was a wonderful way to spend ti...  positive\n",
       "3  Basically there's a family where a little boy ...  negative\n",
       "4  Petter Mattei's \"Love in the Time of Money\" is...  positive"
      ]
     },
     "execution_count": 4,
     "metadata": {},
     "output_type": "execute_result"
    }
   ],
   "source": [
    "data.head()"
   ]
  },
  {
   "cell_type": "code",
   "execution_count": 5,
   "metadata": {},
   "outputs": [
    {
     "data": {
      "text/plain": [
       "(50000, 2)"
      ]
     },
     "execution_count": 5,
     "metadata": {},
     "output_type": "execute_result"
    }
   ],
   "source": [
    "data.shape"
   ]
  },
  {
   "cell_type": "code",
   "execution_count": 6,
   "metadata": {},
   "outputs": [],
   "source": [
    "# Our training set will be formed by 20k positive and 20k negative reviews\n",
    "nb_words_vocabulary = 2000\n",
    "data_positive = data[data['sentiment']=='positive']\n",
    "data_negative = data[data['sentiment']=='negative']\n",
    "# Training set\n",
    "text_positive_train = \" \".join(list(data_positive['review'][:20000]))\n",
    "text_negative_train = \" \".join(list(data_negative[\"review\"][:20000]))\n",
    "# Test set\n",
    "test_dataset = pd.concat([data_positive.iloc[20000:], data_negative.iloc[20000:]], \n",
    "                         ignore_index=True, sort=False)\n",
    "\n",
    "freq_positive, freq_negative = compute_vocabulary(text_positive_train, text_negative_train, nb_words_vocabulary)"
   ]
  },
  {
   "cell_type": "code",
   "execution_count": 7,
   "metadata": {},
   "outputs": [
    {
     "data": {
      "image/png": "[encoded data removed]",
      "text/plain": [
       "<Figure size 640x480 with 1 Axes>"
      ]
     },
     "metadata": {},
     "output_type": "display_data"
    }
   ],
   "source": [
    "fig = plt.figure()\n",
    "ax = fig.add_subplot(1, 1, 1)\n",
    "ax.bar(list(freq_positive.keys()), list(freq_positive.values()), alpha=0.8, label=\"positive\")\n",
    "ax.bar(list(freq_negative.keys()), list(freq_negative.values()), alpha=0.8, label=\"negative\")\n",
    "ax.set_xlabel(\"words\")\n",
    "ax.set_ylabel(\"frequencies\")\n",
    "plt.xticks([])\n",
    "plt.legend(loc='best')\n",
    "plt.show()"
   ]
  },
  {
   "cell_type": "code",
   "execution_count": 8,
   "metadata": {},
   "outputs": [
    {
     "data": {
      "text/html": [
       "<div>\n",
       "<style scoped>\n",
       "    .dataframe tbody tr th:only-of-type {\n",
       "        vertical-align: middle;\n",
       "    }\n",
       "\n",
       "    .dataframe tbody tr th {\n",
       "        vertical-align: top;\n",
       "    }\n",
       "\n",
       "    .dataframe thead th {\n",
       "        text-align: right;\n",
       "    }\n",
       "</style>\n",
       "<table border=\"1\" class=\"dataframe\">\n",
       "  <thead>\n",
       "    <tr style=\"text-align: right;\">\n",
       "      <th></th>\n",
       "      <th>review</th>\n",
       "      <th>sentiment</th>\n",
       "    </tr>\n",
       "  </thead>\n",
       "  <tbody>\n",
       "    <tr>\n",
       "      <th>0</th>\n",
       "      <td>This movie is stuffed full of stock Horror mov...</td>\n",
       "      <td>positive</td>\n",
       "    </tr>\n",
       "    <tr>\n",
       "      <th>1</th>\n",
       "      <td>When the Romulans come, they will not be beari...</td>\n",
       "      <td>positive</td>\n",
       "    </tr>\n",
       "    <tr>\n",
       "      <th>2</th>\n",
       "      <td>This was a movie that I had heard about all my...</td>\n",
       "      <td>positive</td>\n",
       "    </tr>\n",
       "    <tr>\n",
       "      <th>3</th>\n",
       "      <td>Let me begin by saying that there is no bigger...</td>\n",
       "      <td>positive</td>\n",
       "    </tr>\n",
       "    <tr>\n",
       "      <th>4</th>\n",
       "      <td>I haven't seen BSG, I tried to watch it once i...</td>\n",
       "      <td>positive</td>\n",
       "    </tr>\n",
       "  </tbody>\n",
       "</table>\n",
       "</div>"
      ],
      "text/plain": [
       "                                              review sentiment\n",
       "0  This movie is stuffed full of stock Horror mov...  positive\n",
       "1  When the Romulans come, they will not be beari...  positive\n",
       "2  This was a movie that I had heard about all my...  positive\n",
       "3  Let me begin by saying that there is no bigger...  positive\n",
       "4  I haven't seen BSG, I tried to watch it once i...  positive"
      ]
     },
     "execution_count": 8,
     "metadata": {},
     "output_type": "execute_result"
    }
   ],
   "source": [
    "test_dataset.head()"
   ]
  },
  {
   "cell_type": "markdown",
   "metadata": {},
   "source": [
    "## Let's clasify a review\n"
   ]
  },
  {
   "cell_type": "code",
   "execution_count": 9,
   "metadata": {},
   "outputs": [
    {
     "name": "stdout",
     "output_type": "stream",
     "text": [
      "I agree with \"johnlewis\", who said that there is a lot going on between the lines in this film. While I do think the pacing of this film could be improved, I do think that the complexity of the relationships between the characters is fascinating.<br /><br />Examples : <br /><br />Pierre is going to marry his cousin, even though his love for her seems very cousin-y ? <br /><br />Pierre and his stepmother have a rather...curious relationship.<br /><br />Pierre, Lucie, and Thibault seem to have a triangular relationship, and the actual points to the triangle are not quite certain...<br /><br />Lucie's brother is a bit of a eunuch, or is he ? <br /><br />And Isabelle, who is she really ?? <br /><br />Overall, I think it was worth my time. An interesting film, and one that makes me want to read Melville.\n",
      "positive\n"
     ]
    }
   ],
   "source": [
    "review = test_dataset.iloc[50]\n",
    "print(review[\"review\"])\n",
    "print(review[\"sentiment\"])"
   ]
  },
  {
   "cell_type": "code",
   "execution_count": 10,
   "metadata": {},
   "outputs": [
    {
     "name": "stdout",
     "output_type": "stream",
     "text": [
      "['relationship', 'actual', 'fascinating', 'characters', 'interesting', 'lines', 'one', 'makes', 'read', 'going', 'agree', 'love', 'seem', 'though', 'said', 'even', 'quite', 'time', 'overall', 'could', 'rather', 'brother', 'pacing', 'lot', 'seems', 'worth', 'relationships', 'think', 'film', 'really', 'certain', 'bit', 'want', 'points']\n"
     ]
    }
   ],
   "source": [
    "# tokenize the text\n",
    "vocabulary = list(freq_positive.keys())\n",
    "# tokenize the review\n",
    "p = re.compile(\"[a-z]+\")\n",
    "words = p.findall(review[\"review\"].lower())\n",
    "features = list(set(words) & set(vocabulary))\n",
    "print(features)\n",
    "\n"
   ]
  },
  {
   "cell_type": "code",
   "execution_count": 11,
   "metadata": {},
   "outputs": [
    {
     "name": "stdout",
     "output_type": "stream",
     "text": [
      "True positive positive\n"
     ]
    }
   ],
   "source": [
    "P_Ck_positive = 0\n",
    "P_Ck_negative = 0\n",
    "for w in features:\n",
    "    #print(w)\n",
    "    P_Ck_positive += np.log(freq_positive[w])\n",
    "    P_Ck_negative += np.log(freq_negative[w])\n",
    "if P_Ck_positive > P_Ck_negative:\n",
    "    print (True, \"positive\", review[\"sentiment\"])\n",
    "else:\n",
    "    print (True, \"negative\", review[\"sentiment\"])\n"
   ]
  },
  {
   "cell_type": "markdown",
   "metadata": {},
   "source": [
    "## Let's compute the confusion matrix\n",
    "\n",
    "(see [here](https://en.wikipedia.org/wiki/Confusion_matrix) for details)"
   ]
  },
  {
   "cell_type": "code",
   "execution_count": 12,
   "metadata": {},
   "outputs": [],
   "source": [
    "# Create the confusion Matrix\n",
    "# see here https://en.wikipedia.org/wiki/Confusion_matrix\n",
    "\n",
    "def classify_NaiveBayes(line, frequencies_positive_dict, frequencies_negative_dict):\n",
    "    \"\"\"\n",
    "    Give the classification using Naive Bayes\n",
    "    \"\"\"\n",
    "    vocabulary = list(frequencies_positive_dict.keys())\n",
    "    # tokenize the review\n",
    "    p = re.compile(\"[a-z]+\")\n",
    "    words = p.findall(line[\"review\"].lower())\n",
    "    features = list(set(words) & set(vocabulary))\n",
    "    if len(features) == 0: # The review cannot be classified\n",
    "        return (False, \"\", \"\")\n",
    "    P_Ck_positive = 0\n",
    "    P_Ck_negative = 0\n",
    "    for w in features:\n",
    "        #print(w)\n",
    "        P_Ck_positive += np.log(frequencies_positive_dict[w])\n",
    "        P_Ck_negative += np.log(frequencies_negative_dict[w])\n",
    "    if P_Ck_positive > P_Ck_negative:\n",
    "        return (True, \"positive\", line[\"sentiment\"])\n",
    "    else:\n",
    "        return (True, \"negative\", line[\"sentiment\"])\n"
   ]
  },
  {
   "cell_type": "code",
   "execution_count": 13,
   "metadata": {},
   "outputs": [],
   "source": [
    "confusion_matrix = np.array([[0, 0], [0, 0]])"
   ]
  },
  {
   "cell_type": "code",
   "execution_count": 14,
   "metadata": {},
   "outputs": [
    {
     "name": "stderr",
     "output_type": "stream",
     "text": [
      "10000it [00:04, 2371.07it/s]\n"
     ]
    }
   ],
   "source": [
    "for ix, line in tqdm(test_dataset.iterrows()):\n",
    "    classif_OK, predicted, real = classify_NaiveBayes(line, freq_positive, freq_negative)\n",
    "    if classif_OK:         \n",
    "        if predicted == real:\n",
    "            if real == \"positive\":\n",
    "                confusion_matrix[0, 0] +=1\n",
    "            else:\n",
    "                confusion_matrix[1, 1] +=1\n",
    "        else:\n",
    "            if real == \"positive\":\n",
    "                confusion_matrix[0, 1] +=1\n",
    "            else:\n",
    "                confusion_matrix[1, 0] +=1\n",
    "\n",
    "# Normalize the confusion matrix\n"
   ]
  },
  {
   "cell_type": "code",
   "execution_count": 15,
   "metadata": {},
   "outputs": [
    {
     "name": "stdout",
     "output_type": "stream",
     "text": [
      "[[0.8536 0.1464]\n",
      " [0.1474 0.8526]]\n"
     ]
    }
   ],
   "source": [
    "positive = confusion_matrix[0, ] / confusion_matrix.sum(axis=1)[0]\n",
    "negative = confusion_matrix[1, ] / confusion_matrix.sum(axis=1)[1]\n",
    "normalized_confusion_matrix = np.array([positive, negative])\n",
    "print(normalized_confusion_matrix)"
   ]
  },
  {
   "cell_type": "code",
   "execution_count": null,
   "metadata": {},
   "outputs": [],
   "source": []
  }
 ],
 "metadata": {
  "kernelspec": {
   "display_name": "base",
   "language": "python",
   "name": "python3"
  },
  "language_info": {
   "codemirror_mode": {
    "name": "ipython",
    "version": 3
   },
   "file_extension": ".py",
   "mimetype": "text/x-python",
   "name": "python",
   "nbconvert_exporter": "python",
   "pygments_lexer": "ipython3",
   "version": "3.10.9"
  }
 },
 "nbformat": 4,
 "nbformat_minor": 2
}
