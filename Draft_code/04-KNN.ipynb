{
 "cells": [
  {
   "cell_type": "markdown",
   "metadata": {},
   "source": [
    "## Doing K nearest neighbors algorithm\n",
    "\n",
    "This code will apply the K Nearest Neighbors algorithm (KNN) to the IMDB Dataset based on vectors computed using TF-IDF\n",
    "We will use a training set of size 20000 for each class (i.e. 20k positive and 20k negative reviews)\n"
   ]
  },
  {
   "cell_type": "code",
   "execution_count": 1,
   "metadata": {},
   "outputs": [],
   "source": [
    "import pickle\n",
    "import numpy as np\n",
    "import pandas as pd\n",
    "import re\n",
    "import matplotlib.pyplot as plt\n",
    "from collections import Counter\n",
    "from nltk.corpus import stopwords\n",
    "from tqdm import tqdm\n",
    "from sklearn.decomposition import PCA\n",
    "import plotly.express as px\n",
    "\n",
    "\n",
    "## Un comment this lines the first time you run the code\n",
    "#import nltk\n",
    "#nltk.download('stopwords')\n",
    "#nltk.download('punkt')\n"
   ]
  },
  {
   "cell_type": "code",
   "execution_count": 2,
   "metadata": {},
   "outputs": [],
   "source": [
    "with open('./normalized_TF_IDF_matrix.pckl', 'rb') as f:\n",
    "    normalized_TF_IDF_matrix = pickle.load(f)"
   ]
  },
  {
   "cell_type": "code",
   "execution_count": 3,
   "metadata": {},
   "outputs": [],
   "source": [
    "data = pd.read_csv(\"./IMDB_Dataset.csv\")"
   ]
  },
  {
   "cell_type": "code",
   "execution_count": 4,
   "metadata": {},
   "outputs": [
    {
     "data": {
      "text/html": [
       "<div>\n",
       "<style scoped>\n",
       "    .dataframe tbody tr th:only-of-type {\n",
       "        vertical-align: middle;\n",
       "    }\n",
       "\n",
       "    .dataframe tbody tr th {\n",
       "        vertical-align: top;\n",
       "    }\n",
       "\n",
       "    .dataframe thead th {\n",
       "        text-align: right;\n",
       "    }\n",
       "</style>\n",
       "<table border=\"1\" class=\"dataframe\">\n",
       "  <thead>\n",
       "    <tr style=\"text-align: right;\">\n",
       "      <th></th>\n",
       "      <th>review</th>\n",
       "      <th>sentiment</th>\n",
       "    </tr>\n",
       "  </thead>\n",
       "  <tbody>\n",
       "    <tr>\n",
       "      <th>0</th>\n",
       "      <td>One of the other reviewers has mentioned that ...</td>\n",
       "      <td>positive</td>\n",
       "    </tr>\n",
       "    <tr>\n",
       "      <th>1</th>\n",
       "      <td>A wonderful little production. &lt;br /&gt;&lt;br /&gt;The...</td>\n",
       "      <td>positive</td>\n",
       "    </tr>\n",
       "    <tr>\n",
       "      <th>2</th>\n",
       "      <td>I thought this was a wonderful way to spend ti...</td>\n",
       "      <td>positive</td>\n",
       "    </tr>\n",
       "    <tr>\n",
       "      <th>3</th>\n",
       "      <td>Basically there's a family where a little boy ...</td>\n",
       "      <td>negative</td>\n",
       "    </tr>\n",
       "    <tr>\n",
       "      <th>4</th>\n",
       "      <td>Petter Mattei's \"Love in the Time of Money\" is...</td>\n",
       "      <td>positive</td>\n",
       "    </tr>\n",
       "    <tr>\n",
       "      <th>...</th>\n",
       "      <td>...</td>\n",
       "      <td>...</td>\n",
       "    </tr>\n",
       "    <tr>\n",
       "      <th>49995</th>\n",
       "      <td>I thought this movie did a down right good job...</td>\n",
       "      <td>positive</td>\n",
       "    </tr>\n",
       "    <tr>\n",
       "      <th>49996</th>\n",
       "      <td>Bad plot, bad dialogue, bad acting, idiotic di...</td>\n",
       "      <td>negative</td>\n",
       "    </tr>\n",
       "    <tr>\n",
       "      <th>49997</th>\n",
       "      <td>I am a Catholic taught in parochial elementary...</td>\n",
       "      <td>negative</td>\n",
       "    </tr>\n",
       "    <tr>\n",
       "      <th>49998</th>\n",
       "      <td>I'm going to have to disagree with the previou...</td>\n",
       "      <td>negative</td>\n",
       "    </tr>\n",
       "    <tr>\n",
       "      <th>49999</th>\n",
       "      <td>No one expects the Star Trek movies to be high...</td>\n",
       "      <td>negative</td>\n",
       "    </tr>\n",
       "  </tbody>\n",
       "</table>\n",
       "<p>50000 rows × 2 columns</p>\n",
       "</div>"
      ],
      "text/plain": [
       "                                                  review sentiment\n",
       "0      One of the other reviewers has mentioned that ...  positive\n",
       "1      A wonderful little production. <br /><br />The...  positive\n",
       "2      I thought this was a wonderful way to spend ti...  positive\n",
       "3      Basically there's a family where a little boy ...  negative\n",
       "4      Petter Mattei's \"Love in the Time of Money\" is...  positive\n",
       "...                                                  ...       ...\n",
       "49995  I thought this movie did a down right good job...  positive\n",
       "49996  Bad plot, bad dialogue, bad acting, idiotic di...  negative\n",
       "49997  I am a Catholic taught in parochial elementary...  negative\n",
       "49998  I'm going to have to disagree with the previou...  negative\n",
       "49999  No one expects the Star Trek movies to be high...  negative\n",
       "\n",
       "[50000 rows x 2 columns]"
      ]
     },
     "execution_count": 4,
     "metadata": {},
     "output_type": "execute_result"
    }
   ],
   "source": [
    "data"
   ]
  },
  {
   "cell_type": "code",
   "execution_count": 17,
   "metadata": {},
   "outputs": [],
   "source": [
    "# Create the training set and test set\n",
    "positive_Ix = list(data[data['sentiment']==\"positive\"].index)\n",
    "negative_Ix = list(data[data['sentiment']==\"negative\"].index)\n",
    "\n",
    "train_Ix = np.concatenate([positive_Ix[:20000], negative_Ix[:20000]])\n",
    "train_labels = np.concatenate([np.repeat(1, 20000), np.repeat(0, 20000)])"
   ]
  },
  {
   "cell_type": "code",
   "execution_count": 18,
   "metadata": {},
   "outputs": [
    {
     "data": {
      "text/plain": [
       "array([1, 1, 1, ..., 0, 0, 0], shape=(40000,))"
      ]
     },
     "execution_count": 18,
     "metadata": {},
     "output_type": "execute_result"
    }
   ],
   "source": [
    "train_labels"
   ]
  },
  {
   "cell_type": "code",
   "execution_count": null,
   "metadata": {},
   "outputs": [],
   "source": []
  },
  {
   "cell_type": "code",
   "execution_count": 8,
   "metadata": {},
   "outputs": [
    {
     "ename": "NameError",
     "evalue": "name 'positive_Ix' is not defined",
     "output_type": "error",
     "traceback": [
      "\u001b[31m---------------------------------------------------------------------------\u001b[39m",
      "\u001b[31mNameError\u001b[39m                                 Traceback (most recent call last)",
      "\u001b[36mCell\u001b[39m\u001b[36m \u001b[39m\u001b[32mIn[8]\u001b[39m\u001b[32m, line 1\u001b[39m\n\u001b[32m----> \u001b[39m\u001b[32m1\u001b[39m normalized_TF_IDF_matrix[\u001b[43mpositive_Ix\u001b[49m, :]\n",
      "\u001b[31mNameError\u001b[39m: name 'positive_Ix' is not defined"
     ]
    }
   ],
   "source": [
    "normalized_TF_IDF_matrix[positive_Ix, :]"
   ]
  },
  {
   "cell_type": "code",
   "execution_count": null,
   "metadata": {},
   "outputs": [],
   "source": []
  },
  {
   "cell_type": "code",
   "execution_count": 2,
   "metadata": {},
   "outputs": [],
   "source": [
    "# The tokenizer of nltk was too slow for that case.\n",
    "# So, we will use python regular expressions to \n",
    "# increase speed\n",
    "\n",
    "def tokenize_and_count(text):\n",
    "    \"\"\"\n",
    "    This function will tokenize a text using regular\n",
    "    expressions and counts the number of times each\n",
    "    token is present in the text\n",
    "    \"\"\"\n",
    "    # Tokenize the text\n",
    "    p = re.compile(\"[a-z]+\") # Using a regular expression here\n",
    "    tokens = p.findall(text.lower())\n",
    "    tokens_counts = Counter(tokens)\n",
    "    final_dict = {k: v for k, v in sorted(tokens_counts.items(), key=lambda item: item[1], reverse=True)}\n",
    "    return final_dict\n",
    "\n",
    "def fair_compose(tokens_positive, tokens_negative, n=100):\n",
    "    \"\"\"\n",
    "    Given the most common words on each class, this function\n",
    "    will compose a vocabulary with the words that are common\n",
    "    to both classes while keeping the most popular words for\n",
    "    each class. \n",
    "    \"\"\"\n",
    "    vocabulary = []\n",
    "    i = 0\n",
    "    j = 0\n",
    "    while len(set(vocabulary)) < n:\n",
    "        while True:\n",
    "            w = list(tokens_positive.keys())[i]\n",
    "            i +=1\n",
    "            if w not in stopwords.words('english'):\n",
    "                vocabulary.append(w)\n",
    "                break\n",
    "        while True:\n",
    "            w = list(tokens_negative.keys())[j]\n",
    "            j +=1\n",
    "            if w not in stopwords.words('english'):\n",
    "                vocabulary.append(w)\n",
    "                break\n",
    "    return list(set(vocabulary))\n",
    "\n",
    "def compute_vocabulary(text_positive, text_negative, n=100):\n",
    "    \"\"\"\n",
    "    This function will create a vocabulary with the n most frequent words\n",
    "    that are present in the text_positive and text_negative at the same\n",
    "    time.  \n",
    "    The function will also remove the stopwords and compute the frequency\n",
    "    for each word in the positive texts and the negative texts.\n",
    "    Returns two dictionaries.\n",
    "    \"\"\"\n",
    "    tokens_positive = tokenize_and_count(text_positive)\n",
    "    del(tokens_positive['br'])\n",
    "    tokens_negative = tokenize_and_count(text_negative)\n",
    "    del(tokens_negative['br'])\n",
    "    vocabulary = fair_compose(tokens_positive, tokens_negative, n)\n",
    "    return vocabulary"
   ]
  },
  {
   "cell_type": "code",
   "execution_count": 3,
   "metadata": {},
   "outputs": [],
   "source": [
    "data = pd.read_csv(\"./IMDB_Dataset.csv\")"
   ]
  },
  {
   "cell_type": "code",
   "execution_count": 4,
   "metadata": {},
   "outputs": [
    {
     "data": {
      "text/html": [
       "<div>\n",
       "<style scoped>\n",
       "    .dataframe tbody tr th:only-of-type {\n",
       "        vertical-align: middle;\n",
       "    }\n",
       "\n",
       "    .dataframe tbody tr th {\n",
       "        vertical-align: top;\n",
       "    }\n",
       "\n",
       "    .dataframe thead th {\n",
       "        text-align: right;\n",
       "    }\n",
       "</style>\n",
       "<table border=\"1\" class=\"dataframe\">\n",
       "  <thead>\n",
       "    <tr style=\"text-align: right;\">\n",
       "      <th></th>\n",
       "      <th>review</th>\n",
       "      <th>sentiment</th>\n",
       "    </tr>\n",
       "  </thead>\n",
       "  <tbody>\n",
       "    <tr>\n",
       "      <th>0</th>\n",
       "      <td>One of the other reviewers has mentioned that ...</td>\n",
       "      <td>positive</td>\n",
       "    </tr>\n",
       "    <tr>\n",
       "      <th>1</th>\n",
       "      <td>A wonderful little production. &lt;br /&gt;&lt;br /&gt;The...</td>\n",
       "      <td>positive</td>\n",
       "    </tr>\n",
       "    <tr>\n",
       "      <th>2</th>\n",
       "      <td>I thought this was a wonderful way to spend ti...</td>\n",
       "      <td>positive</td>\n",
       "    </tr>\n",
       "    <tr>\n",
       "      <th>3</th>\n",
       "      <td>Basically there's a family where a little boy ...</td>\n",
       "      <td>negative</td>\n",
       "    </tr>\n",
       "    <tr>\n",
       "      <th>4</th>\n",
       "      <td>Petter Mattei's \"Love in the Time of Money\" is...</td>\n",
       "      <td>positive</td>\n",
       "    </tr>\n",
       "  </tbody>\n",
       "</table>\n",
       "</div>"
      ],
      "text/plain": [
       "                                              review sentiment\n",
       "0  One of the other reviewers has mentioned that ...  positive\n",
       "1  A wonderful little production. <br /><br />The...  positive\n",
       "2  I thought this was a wonderful way to spend ti...  positive\n",
       "3  Basically there's a family where a little boy ...  negative\n",
       "4  Petter Mattei's \"Love in the Time of Money\" is...  positive"
      ]
     },
     "execution_count": 4,
     "metadata": {},
     "output_type": "execute_result"
    }
   ],
   "source": [
    "data.head()"
   ]
  },
  {
   "cell_type": "code",
   "execution_count": 5,
   "metadata": {},
   "outputs": [
    {
     "data": {
      "text/plain": [
       "(50000, 2)"
      ]
     },
     "execution_count": 5,
     "metadata": {},
     "output_type": "execute_result"
    }
   ],
   "source": [
    "data.shape"
   ]
  },
  {
   "cell_type": "code",
   "execution_count": 6,
   "metadata": {},
   "outputs": [],
   "source": [
    "# Our training set will be formed by 20k positive and 20k negative reviews\n",
    "vocabulary_size = 2000\n",
    "data_positive = data[data['sentiment']=='positive']\n",
    "data_negative = data[data['sentiment']=='negative']\n",
    "# Training set\n",
    "text_positive_train = \" \".join(list(data_positive['review'][:20000]))\n",
    "text_negative_train = \" \".join(list(data_negative[\"review\"][:20000]))\n",
    "# Get the vocabulary\n",
    "vocabulary = compute_vocabulary(text_positive_train, text_negative_train, vocabulary_size)"
   ]
  },
  {
   "cell_type": "code",
   "execution_count": 7,
   "metadata": {},
   "outputs": [
    {
     "data": {
      "text/plain": [
       "2000"
      ]
     },
     "execution_count": 7,
     "metadata": {},
     "output_type": "execute_result"
    }
   ],
   "source": [
    "len(vocabulary)"
   ]
  },
  {
   "cell_type": "code",
   "execution_count": 8,
   "metadata": {},
   "outputs": [],
   "source": [
    "def compute_IDF(t, list_of_documents):\n",
    "    \"\"\"\n",
    "    Compute the IDF for a given term t\n",
    "    Receives a word t and a list of documents.\n",
    "    Each document on the list has been already\n",
    "    tokenized.\n",
    "    \"\"\"\n",
    "    denominator = 1\n",
    "    for d in list_of_documents:\n",
    "        if t in d:\n",
    "            denominator +=1\n",
    "    return np.log(len(list_of_documents)/denominator)\n",
    "\n",
    "def compute_TF_IDF_vector(document, IDF_dictionary, vocabulary):\n",
    "    \"\"\"\n",
    "    Compute the TF-IDF for a given document.\n",
    "    The document is already tokenized.\n",
    "    Returns a list\n",
    "    \"\"\"\n",
    "    n = len(document)\n",
    "    words = list(set(document)&set(vocabulary))\n",
    "    terms_counts = Counter(document)\n",
    "    tf_idf_vector = [0 for i in range(len(vocabulary))]\n",
    "    for w in words:\n",
    "        Ix = vocabulary.index(w)\n",
    "        tf_idf_vector[Ix] = terms_counts[w] / n * IDF_dictionary[w]\n",
    "    return tf_idf_vector\n",
    "\n",
    " \n",
    "\n"
   ]
  },
  {
   "cell_type": "code",
   "execution_count": 9,
   "metadata": {},
   "outputs": [],
   "source": [
    "# Tokenize all documents\n",
    "list_of_documents = []\n",
    "p = re.compile(\"[a-z]+\") # The regular expression for tokenizing a document\n",
    "for d in data[\"review\"]:\n",
    "    list_of_documents.append(p.findall(d.lower()))"
   ]
  },
  {
   "cell_type": "code",
   "execution_count": 10,
   "metadata": {},
   "outputs": [
    {
     "name": "stderr",
     "output_type": "stream",
     "text": [
      "100%|██████████| 2000/2000 [01:46<00:00, 18.81it/s]\n"
     ]
    }
   ],
   "source": [
    "# Compute the IDF_dictionary\n",
    "IDF_dict = {}\n",
    "for i in tqdm(range(len(vocabulary))):\n",
    "    t = vocabulary[i]\n",
    "    IDF_dict[t] = compute_IDF(t, list_of_documents)\n",
    "\n"
   ]
  },
  {
   "cell_type": "code",
   "execution_count": 11,
   "metadata": {},
   "outputs": [
    {
     "name": "stderr",
     "output_type": "stream",
     "text": [
      "100%|██████████| 50000/50000 [00:19<00:00, 2532.80it/s]\n"
     ]
    }
   ],
   "source": [
    "# Compute the TF-IDF matrix\n",
    "TF_IDF = []\n",
    "for i in tqdm(range(len(list_of_documents))):\n",
    "    d = list_of_documents[i]\n",
    "    TF_IDF.append(compute_TF_IDF_vector(d, IDF_dict, vocabulary))"
   ]
  },
  {
   "cell_type": "code",
   "execution_count": 12,
   "metadata": {},
   "outputs": [],
   "source": [
    "TF_IDF_matrix = np.array(TF_IDF)"
   ]
  },
  {
   "cell_type": "code",
   "execution_count": 13,
   "metadata": {},
   "outputs": [
    {
     "data": {
      "text/plain": [
       "(50000, 2000)"
      ]
     },
     "execution_count": 13,
     "metadata": {},
     "output_type": "execute_result"
    }
   ],
   "source": [
    "TF_IDF_matrix.shape"
   ]
  },
  {
   "cell_type": "code",
   "execution_count": 14,
   "metadata": {},
   "outputs": [],
   "source": [
    "centered_TF_IDF_matrix = TF_IDF_matrix - np.mean(TF_IDF_matrix, axis=1)[:, None]\n",
    "lines_norms = np.linalg.norm(centered_TF_IDF_matrix, axis=1)\n",
    "normalized_TF_IDF_matrix = np.zeros_like(centered_TF_IDF_matrix)\n",
    "for i in range(centered_TF_IDF_matrix.shape[0]):\n",
    "    normalized_TF_IDF_matrix[i, :] = centered_TF_IDF_matrix[i, :] / lines_norms[i]"
   ]
  },
  {
   "cell_type": "code",
   "execution_count": 15,
   "metadata": {},
   "outputs": [
    {
     "data": {
      "text/plain": [
       "array([[-0.0038498 , -0.0038498 , -0.0038498 , ..., -0.0038498 ,\n",
       "        -0.0038498 , -0.0038498 ],\n",
       "       [-0.003268  , -0.003268  , -0.003268  , ..., -0.003268  ,\n",
       "        -0.003268  , -0.003268  ],\n",
       "       [-0.00354295, -0.00354295, -0.00354295, ..., -0.00354295,\n",
       "        -0.00354295, -0.00354295],\n",
       "       ...,\n",
       "       [-0.003316  , -0.003316  , -0.003316  , ..., -0.003316  ,\n",
       "        -0.003316  , -0.003316  ],\n",
       "       [-0.00366195, -0.00366195, -0.00366195, ..., -0.00366195,\n",
       "        -0.00366195, -0.00366195],\n",
       "       [-0.00298504, -0.00298504, -0.00298504, ..., -0.00298504,\n",
       "        -0.00298504, -0.00298504]], shape=(50000, 2000))"
      ]
     },
     "execution_count": 15,
     "metadata": {},
     "output_type": "execute_result"
    }
   ],
   "source": [
    "normalized_TF_IDF_matrix"
   ]
  },
  {
   "cell_type": "code",
   "execution_count": 16,
   "metadata": {},
   "outputs": [
    {
     "data": {
      "text/plain": [
       "array([1., 1., 1., ..., 1., 1., 1.], shape=(50000,))"
      ]
     },
     "execution_count": 16,
     "metadata": {},
     "output_type": "execute_result"
    }
   ],
   "source": [
    "np.linalg.norm(normalized_TF_IDF_matrix, axis=1)"
   ]
  },
  {
   "cell_type": "code",
   "execution_count": 17,
   "metadata": {},
   "outputs": [
    {
     "name": "stdout",
     "output_type": "stream",
     "text": [
      "[0.00472303 0.00402268]\n"
     ]
    }
   ],
   "source": [
    "pca_no_normalized = PCA(n_components=2)\n",
    "pca_no_normalized.fit(TF_IDF_matrix)\n",
    "print(pca_no_normalized.explained_variance_ratio_)"
   ]
  },
  {
   "cell_type": "code",
   "execution_count": 18,
   "metadata": {},
   "outputs": [
    {
     "data": {
      "text/html": [
       "<style>#sk-container-id-1 {\n",
       "  /* Definition of color scheme common for light and dark mode */\n",
       "  --sklearn-color-text: #000;\n",
       "  --sklearn-color-text-muted: #666;\n",
       "  --sklearn-color-line: gray;\n",
       "  /* Definition of color scheme for unfitted estimators */\n",
       "  --sklearn-color-unfitted-level-0: #fff5e6;\n",
       "  --sklearn-color-unfitted-level-1: #f6e4d2;\n",
       "  --sklearn-color-unfitted-level-2: #ffe0b3;\n",
       "  --sklearn-color-unfitted-level-3: chocolate;\n",
       "  /* Definition of color scheme for fitted estimators */\n",
       "  --sklearn-color-fitted-level-0: #f0f8ff;\n",
       "  --sklearn-color-fitted-level-1: #d4ebff;\n",
       "  --sklearn-color-fitted-level-2: #b3dbfd;\n",
       "  --sklearn-color-fitted-level-3: cornflowerblue;\n",
       "\n",
       "  /* Specific color for light theme */\n",
       "  --sklearn-color-text-on-default-background: var(--sg-text-color, var(--theme-code-foreground, var(--jp-content-font-color1, black)));\n",
       "  --sklearn-color-background: var(--sg-background-color, var(--theme-background, var(--jp-layout-color0, white)));\n",
       "  --sklearn-color-border-box: var(--sg-text-color, var(--theme-code-foreground, var(--jp-content-font-color1, black)));\n",
       "  --sklearn-color-icon: #696969;\n",
       "\n",
       "  @media (prefers-color-scheme: dark) {\n",
       "    /* Redefinition of color scheme for dark theme */\n",
       "    --sklearn-color-text-on-default-background: var(--sg-text-color, var(--theme-code-foreground, var(--jp-content-font-color1, white)));\n",
       "    --sklearn-color-background: var(--sg-background-color, var(--theme-background, var(--jp-layout-color0, #111)));\n",
       "    --sklearn-color-border-box: var(--sg-text-color, var(--theme-code-foreground, var(--jp-content-font-color1, white)));\n",
       "    --sklearn-color-icon: #878787;\n",
       "  }\n",
       "}\n",
       "\n",
       "#sk-container-id-1 {\n",
       "  color: var(--sklearn-color-text);\n",
       "}\n",
       "\n",
       "#sk-container-id-1 pre {\n",
       "  padding: 0;\n",
       "}\n",
       "\n",
       "#sk-container-id-1 input.sk-hidden--visually {\n",
       "  border: 0;\n",
       "  clip: rect(1px 1px 1px 1px);\n",
       "  clip: rect(1px, 1px, 1px, 1px);\n",
       "  height: 1px;\n",
       "  margin: -1px;\n",
       "  overflow: hidden;\n",
       "  padding: 0;\n",
       "  position: absolute;\n",
       "  width: 1px;\n",
       "}\n",
       "\n",
       "#sk-container-id-1 div.sk-dashed-wrapped {\n",
       "  border: 1px dashed var(--sklearn-color-line);\n",
       "  margin: 0 0.4em 0.5em 0.4em;\n",
       "  box-sizing: border-box;\n",
       "  padding-bottom: 0.4em;\n",
       "  background-color: var(--sklearn-color-background);\n",
       "}\n",
       "\n",
       "#sk-container-id-1 div.sk-container {\n",
       "  /* jupyter's `normalize.less` sets `[hidden] { display: none; }`\n",
       "     but bootstrap.min.css set `[hidden] { display: none !important; }`\n",
       "     so we also need the `!important` here to be able to override the\n",
       "     default hidden behavior on the sphinx rendered scikit-learn.org.\n",
       "     See: https://github.com/scikit-learn/scikit-learn/issues/21755 */\n",
       "  display: inline-block !important;\n",
       "  position: relative;\n",
       "}\n",
       "\n",
       "#sk-container-id-1 div.sk-text-repr-fallback {\n",
       "  display: none;\n",
       "}\n",
       "\n",
       "div.sk-parallel-item,\n",
       "div.sk-serial,\n",
       "div.sk-item {\n",
       "  /* draw centered vertical line to link estimators */\n",
       "  background-image: linear-gradient(var(--sklearn-color-text-on-default-background), var(--sklearn-color-text-on-default-background));\n",
       "  background-size: 2px 100%;\n",
       "  background-repeat: no-repeat;\n",
       "  background-position: center center;\n",
       "}\n",
       "\n",
       "/* Parallel-specific style estimator block */\n",
       "\n",
       "#sk-container-id-1 div.sk-parallel-item::after {\n",
       "  content: \"\";\n",
       "  width: 100%;\n",
       "  border-bottom: 2px solid var(--sklearn-color-text-on-default-background);\n",
       "  flex-grow: 1;\n",
       "}\n",
       "\n",
       "#sk-container-id-1 div.sk-parallel {\n",
       "  display: flex;\n",
       "  align-items: stretch;\n",
       "  justify-content: center;\n",
       "  background-color: var(--sklearn-color-background);\n",
       "  position: relative;\n",
       "}\n",
       "\n",
       "#sk-container-id-1 div.sk-parallel-item {\n",
       "  display: flex;\n",
       "  flex-direction: column;\n",
       "}\n",
       "\n",
       "#sk-container-id-1 div.sk-parallel-item:first-child::after {\n",
       "  align-self: flex-end;\n",
       "  width: 50%;\n",
       "}\n",
       "\n",
       "#sk-container-id-1 div.sk-parallel-item:last-child::after {\n",
       "  align-self: flex-start;\n",
       "  width: 50%;\n",
       "}\n",
       "\n",
       "#sk-container-id-1 div.sk-parallel-item:only-child::after {\n",
       "  width: 0;\n",
       "}\n",
       "\n",
       "/* Serial-specific style estimator block */\n",
       "\n",
       "#sk-container-id-1 div.sk-serial {\n",
       "  display: flex;\n",
       "  flex-direction: column;\n",
       "  align-items: center;\n",
       "  background-color: var(--sklearn-color-background);\n",
       "  padding-right: 1em;\n",
       "  padding-left: 1em;\n",
       "}\n",
       "\n",
       "\n",
       "/* Toggleable style: style used for estimator/Pipeline/ColumnTransformer box that is\n",
       "clickable and can be expanded/collapsed.\n",
       "- Pipeline and ColumnTransformer use this feature and define the default style\n",
       "- Estimators will overwrite some part of the style using the `sk-estimator` class\n",
       "*/\n",
       "\n",
       "/* Pipeline and ColumnTransformer style (default) */\n",
       "\n",
       "#sk-container-id-1 div.sk-toggleable {\n",
       "  /* Default theme specific background. It is overwritten whether we have a\n",
       "  specific estimator or a Pipeline/ColumnTransformer */\n",
       "  background-color: var(--sklearn-color-background);\n",
       "}\n",
       "\n",
       "/* Toggleable label */\n",
       "#sk-container-id-1 label.sk-toggleable__label {\n",
       "  cursor: pointer;\n",
       "  display: flex;\n",
       "  width: 100%;\n",
       "  margin-bottom: 0;\n",
       "  padding: 0.5em;\n",
       "  box-sizing: border-box;\n",
       "  text-align: center;\n",
       "  align-items: start;\n",
       "  justify-content: space-between;\n",
       "  gap: 0.5em;\n",
       "}\n",
       "\n",
       "#sk-container-id-1 label.sk-toggleable__label .caption {\n",
       "  font-size: 0.6rem;\n",
       "  font-weight: lighter;\n",
       "  color: var(--sklearn-color-text-muted);\n",
       "}\n",
       "\n",
       "#sk-container-id-1 label.sk-toggleable__label-arrow:before {\n",
       "  /* Arrow on the left of the label */\n",
       "  content: \"▸\";\n",
       "  float: left;\n",
       "  margin-right: 0.25em;\n",
       "  color: var(--sklearn-color-icon);\n",
       "}\n",
       "\n",
       "#sk-container-id-1 label.sk-toggleable__label-arrow:hover:before {\n",
       "  color: var(--sklearn-color-text);\n",
       "}\n",
       "\n",
       "/* Toggleable content - dropdown */\n",
       "\n",
       "#sk-container-id-1 div.sk-toggleable__content {\n",
       "  max-height: 0;\n",
       "  max-width: 0;\n",
       "  overflow: hidden;\n",
       "  text-align: left;\n",
       "  /* unfitted */\n",
       "  background-color: var(--sklearn-color-unfitted-level-0);\n",
       "}\n",
       "\n",
       "#sk-container-id-1 div.sk-toggleable__content.fitted {\n",
       "  /* fitted */\n",
       "  background-color: var(--sklearn-color-fitted-level-0);\n",
       "}\n",
       "\n",
       "#sk-container-id-1 div.sk-toggleable__content pre {\n",
       "  margin: 0.2em;\n",
       "  border-radius: 0.25em;\n",
       "  color: var(--sklearn-color-text);\n",
       "  /* unfitted */\n",
       "  background-color: var(--sklearn-color-unfitted-level-0);\n",
       "}\n",
       "\n",
       "#sk-container-id-1 div.sk-toggleable__content.fitted pre {\n",
       "  /* unfitted */\n",
       "  background-color: var(--sklearn-color-fitted-level-0);\n",
       "}\n",
       "\n",
       "#sk-container-id-1 input.sk-toggleable__control:checked~div.sk-toggleable__content {\n",
       "  /* Expand drop-down */\n",
       "  max-height: 200px;\n",
       "  max-width: 100%;\n",
       "  overflow: auto;\n",
       "}\n",
       "\n",
       "#sk-container-id-1 input.sk-toggleable__control:checked~label.sk-toggleable__label-arrow:before {\n",
       "  content: \"▾\";\n",
       "}\n",
       "\n",
       "/* Pipeline/ColumnTransformer-specific style */\n",
       "\n",
       "#sk-container-id-1 div.sk-label input.sk-toggleable__control:checked~label.sk-toggleable__label {\n",
       "  color: var(--sklearn-color-text);\n",
       "  background-color: var(--sklearn-color-unfitted-level-2);\n",
       "}\n",
       "\n",
       "#sk-container-id-1 div.sk-label.fitted input.sk-toggleable__control:checked~label.sk-toggleable__label {\n",
       "  background-color: var(--sklearn-color-fitted-level-2);\n",
       "}\n",
       "\n",
       "/* Estimator-specific style */\n",
       "\n",
       "/* Colorize estimator box */\n",
       "#sk-container-id-1 div.sk-estimator input.sk-toggleable__control:checked~label.sk-toggleable__label {\n",
       "  /* unfitted */\n",
       "  background-color: var(--sklearn-color-unfitted-level-2);\n",
       "}\n",
       "\n",
       "#sk-container-id-1 div.sk-estimator.fitted input.sk-toggleable__control:checked~label.sk-toggleable__label {\n",
       "  /* fitted */\n",
       "  background-color: var(--sklearn-color-fitted-level-2);\n",
       "}\n",
       "\n",
       "#sk-container-id-1 div.sk-label label.sk-toggleable__label,\n",
       "#sk-container-id-1 div.sk-label label {\n",
       "  /* The background is the default theme color */\n",
       "  color: var(--sklearn-color-text-on-default-background);\n",
       "}\n",
       "\n",
       "/* On hover, darken the color of the background */\n",
       "#sk-container-id-1 div.sk-label:hover label.sk-toggleable__label {\n",
       "  color: var(--sklearn-color-text);\n",
       "  background-color: var(--sklearn-color-unfitted-level-2);\n",
       "}\n",
       "\n",
       "/* Label box, darken color on hover, fitted */\n",
       "#sk-container-id-1 div.sk-label.fitted:hover label.sk-toggleable__label.fitted {\n",
       "  color: var(--sklearn-color-text);\n",
       "  background-color: var(--sklearn-color-fitted-level-2);\n",
       "}\n",
       "\n",
       "/* Estimator label */\n",
       "\n",
       "#sk-container-id-1 div.sk-label label {\n",
       "  font-family: monospace;\n",
       "  font-weight: bold;\n",
       "  display: inline-block;\n",
       "  line-height: 1.2em;\n",
       "}\n",
       "\n",
       "#sk-container-id-1 div.sk-label-container {\n",
       "  text-align: center;\n",
       "}\n",
       "\n",
       "/* Estimator-specific */\n",
       "#sk-container-id-1 div.sk-estimator {\n",
       "  font-family: monospace;\n",
       "  border: 1px dotted var(--sklearn-color-border-box);\n",
       "  border-radius: 0.25em;\n",
       "  box-sizing: border-box;\n",
       "  margin-bottom: 0.5em;\n",
       "  /* unfitted */\n",
       "  background-color: var(--sklearn-color-unfitted-level-0);\n",
       "}\n",
       "\n",
       "#sk-container-id-1 div.sk-estimator.fitted {\n",
       "  /* fitted */\n",
       "  background-color: var(--sklearn-color-fitted-level-0);\n",
       "}\n",
       "\n",
       "/* on hover */\n",
       "#sk-container-id-1 div.sk-estimator:hover {\n",
       "  /* unfitted */\n",
       "  background-color: var(--sklearn-color-unfitted-level-2);\n",
       "}\n",
       "\n",
       "#sk-container-id-1 div.sk-estimator.fitted:hover {\n",
       "  /* fitted */\n",
       "  background-color: var(--sklearn-color-fitted-level-2);\n",
       "}\n",
       "\n",
       "/* Specification for estimator info (e.g. \"i\" and \"?\") */\n",
       "\n",
       "/* Common style for \"i\" and \"?\" */\n",
       "\n",
       ".sk-estimator-doc-link,\n",
       "a:link.sk-estimator-doc-link,\n",
       "a:visited.sk-estimator-doc-link {\n",
       "  float: right;\n",
       "  font-size: smaller;\n",
       "  line-height: 1em;\n",
       "  font-family: monospace;\n",
       "  background-color: var(--sklearn-color-background);\n",
       "  border-radius: 1em;\n",
       "  height: 1em;\n",
       "  width: 1em;\n",
       "  text-decoration: none !important;\n",
       "  margin-left: 0.5em;\n",
       "  text-align: center;\n",
       "  /* unfitted */\n",
       "  border: var(--sklearn-color-unfitted-level-1) 1pt solid;\n",
       "  color: var(--sklearn-color-unfitted-level-1);\n",
       "}\n",
       "\n",
       ".sk-estimator-doc-link.fitted,\n",
       "a:link.sk-estimator-doc-link.fitted,\n",
       "a:visited.sk-estimator-doc-link.fitted {\n",
       "  /* fitted */\n",
       "  border: var(--sklearn-color-fitted-level-1) 1pt solid;\n",
       "  color: var(--sklearn-color-fitted-level-1);\n",
       "}\n",
       "\n",
       "/* On hover */\n",
       "div.sk-estimator:hover .sk-estimator-doc-link:hover,\n",
       ".sk-estimator-doc-link:hover,\n",
       "div.sk-label-container:hover .sk-estimator-doc-link:hover,\n",
       ".sk-estimator-doc-link:hover {\n",
       "  /* unfitted */\n",
       "  background-color: var(--sklearn-color-unfitted-level-3);\n",
       "  color: var(--sklearn-color-background);\n",
       "  text-decoration: none;\n",
       "}\n",
       "\n",
       "div.sk-estimator.fitted:hover .sk-estimator-doc-link.fitted:hover,\n",
       ".sk-estimator-doc-link.fitted:hover,\n",
       "div.sk-label-container:hover .sk-estimator-doc-link.fitted:hover,\n",
       ".sk-estimator-doc-link.fitted:hover {\n",
       "  /* fitted */\n",
       "  background-color: var(--sklearn-color-fitted-level-3);\n",
       "  color: var(--sklearn-color-background);\n",
       "  text-decoration: none;\n",
       "}\n",
       "\n",
       "/* Span, style for the box shown on hovering the info icon */\n",
       ".sk-estimator-doc-link span {\n",
       "  display: none;\n",
       "  z-index: 9999;\n",
       "  position: relative;\n",
       "  font-weight: normal;\n",
       "  right: .2ex;\n",
       "  padding: .5ex;\n",
       "  margin: .5ex;\n",
       "  width: min-content;\n",
       "  min-width: 20ex;\n",
       "  max-width: 50ex;\n",
       "  color: var(--sklearn-color-text);\n",
       "  box-shadow: 2pt 2pt 4pt #999;\n",
       "  /* unfitted */\n",
       "  background: var(--sklearn-color-unfitted-level-0);\n",
       "  border: .5pt solid var(--sklearn-color-unfitted-level-3);\n",
       "}\n",
       "\n",
       ".sk-estimator-doc-link.fitted span {\n",
       "  /* fitted */\n",
       "  background: var(--sklearn-color-fitted-level-0);\n",
       "  border: var(--sklearn-color-fitted-level-3);\n",
       "}\n",
       "\n",
       ".sk-estimator-doc-link:hover span {\n",
       "  display: block;\n",
       "}\n",
       "\n",
       "/* \"?\"-specific style due to the `<a>` HTML tag */\n",
       "\n",
       "#sk-container-id-1 a.estimator_doc_link {\n",
       "  float: right;\n",
       "  font-size: 1rem;\n",
       "  line-height: 1em;\n",
       "  font-family: monospace;\n",
       "  background-color: var(--sklearn-color-background);\n",
       "  border-radius: 1rem;\n",
       "  height: 1rem;\n",
       "  width: 1rem;\n",
       "  text-decoration: none;\n",
       "  /* unfitted */\n",
       "  color: var(--sklearn-color-unfitted-level-1);\n",
       "  border: var(--sklearn-color-unfitted-level-1) 1pt solid;\n",
       "}\n",
       "\n",
       "#sk-container-id-1 a.estimator_doc_link.fitted {\n",
       "  /* fitted */\n",
       "  border: var(--sklearn-color-fitted-level-1) 1pt solid;\n",
       "  color: var(--sklearn-color-fitted-level-1);\n",
       "}\n",
       "\n",
       "/* On hover */\n",
       "#sk-container-id-1 a.estimator_doc_link:hover {\n",
       "  /* unfitted */\n",
       "  background-color: var(--sklearn-color-unfitted-level-3);\n",
       "  color: var(--sklearn-color-background);\n",
       "  text-decoration: none;\n",
       "}\n",
       "\n",
       "#sk-container-id-1 a.estimator_doc_link.fitted:hover {\n",
       "  /* fitted */\n",
       "  background-color: var(--sklearn-color-fitted-level-3);\n",
       "}\n",
       "</style><div id=\"sk-container-id-1\" class=\"sk-top-container\"><div class=\"sk-text-repr-fallback\"><pre>PCA(n_components=2)</pre><b>In a Jupyter environment, please rerun this cell to show the HTML representation or trust the notebook. <br />On GitHub, the HTML representation is unable to render, please try loading this page with nbviewer.org.</b></div><div class=\"sk-container\" hidden><div class=\"sk-item\"><div class=\"sk-estimator fitted sk-toggleable\"><input class=\"sk-toggleable__control sk-hidden--visually\" id=\"sk-estimator-id-1\" type=\"checkbox\" checked><label for=\"sk-estimator-id-1\" class=\"sk-toggleable__label fitted sk-toggleable__label-arrow\"><div><div>PCA</div></div><div><a class=\"sk-estimator-doc-link fitted\" rel=\"noreferrer\" target=\"_blank\" href=\"https://scikit-learn.org/1.6/modules/generated/sklearn.decomposition.PCA.html\">?<span>Documentation for PCA</span></a><span class=\"sk-estimator-doc-link fitted\">i<span>Fitted</span></span></div></label><div class=\"sk-toggleable__content fitted\"><pre>PCA(n_components=2)</pre></div> </div></div></div></div>"
      ],
      "text/plain": [
       "PCA(n_components=2)"
      ]
     },
     "execution_count": 18,
     "metadata": {},
     "output_type": "execute_result"
    }
   ],
   "source": [
    "pca = PCA(n_components=2)\n",
    "pca.fit(normalized_TF_IDF_matrix)"
   ]
  },
  {
   "cell_type": "code",
   "execution_count": 19,
   "metadata": {},
   "outputs": [
    {
     "name": "stdout",
     "output_type": "stream",
     "text": [
      "[0.00495716 0.00410572]\n"
     ]
    }
   ],
   "source": [
    "print(pca.explained_variance_ratio_)"
   ]
  },
  {
   "cell_type": "code",
   "execution_count": 20,
   "metadata": {},
   "outputs": [],
   "source": [
    "reduced_data = PCA(n_components=2).fit_transform(TF_IDF_matrix)"
   ]
  },
  {
   "cell_type": "code",
   "execution_count": 21,
   "metadata": {},
   "outputs": [
    {
     "data": {
      "text/plain": [
       "np.int64(0)"
      ]
     },
     "execution_count": 21,
     "metadata": {},
     "output_type": "execute_result"
    }
   ],
   "source": [
    "np.sum(TF_IDF_matrix.sum(axis=1) == 0)"
   ]
  },
  {
   "cell_type": "code",
   "execution_count": 22,
   "metadata": {},
   "outputs": [],
   "source": [
    "data2plot = pd.DataFrame({'x': reduced_data[:, 0],\n",
    "                          'y': reduced_data[:, 1], \n",
    "                          'sentiment': data[\"sentiment\"]})"
   ]
  },
  {
   "cell_type": "code",
   "execution_count": 23,
   "metadata": {},
   "outputs": [],
   "source": [
    "data2plot.head()\n",
    "# only select some values to plot\n",
    "n = 500\n",
    "df_positive = data2plot[data2plot['sentiment']==\"positive\"][:n]\n",
    "df_negative = data2plot[data2plot['sentiment']==\"negative\"][:n]\n",
    "df = pd.concat([df_positive, df_negative])\n"
   ]
  },
  {
   "cell_type": "code",
   "execution_count": 24,
   "metadata": {},
   "outputs": [
    {
     "data": {
      "application/vnd.plotly.v1+json": {
       "config": {
        "plotlyServerURL": "https://plot.ly"
       },
       "data": [
        {
         "hovertemplate": "sentiment=positive<br>x=%{x}<br>y=%{y}<extra></extra>",
         "legendgroup": "positive",
         "marker": {
          "color": "#636efa",
          "opacity": 0.7,
          "symbol": "circle"
         },
         "mode": "markers",
         "name": "positive",
         "orientation": "v",
         "showlegend": true,
         "type": "scatter",
         "x": {
          "bdata": "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",
          "dtype": "f8"
         },
         "xaxis": "x",
         "y": {
          "bdata": "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",
          "dtype": "f8"
         },
         "yaxis": "y"
        },
        {
         "hovertemplate": "sentiment=negative<br>x=%{x}<br>y=%{y}<extra></extra>",
         "legendgroup": "negative",
         "marker": {
          "color": "#EF553B",
          "opacity": 0.7,
          "symbol": "circle"
         },
         "mode": "markers",
         "name": "negative",
         "orientation": "v",
         "showlegend": true,
         "type": "scatter",
         "x": {
          "bdata": "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",
          "dtype": "f8"
         },
         "xaxis": "x",
         "y": {
          "bdata": "LtLBG7uPcL9Y63WpmfapP2x2e3enM4G/blMtiX5daz+2CwiW/eNtv24QnIHV31m/fuU1VNYqRj+mviNVExZ2v2bFOQiPBG+/MdTEkSP4gb9MV/dCOppiv2TIQ/ENg4Q/EmxHX52hZr/iUSvGsCZ8v+V086hNCHE/yDvf1r+Beb+GpocwHlMtv+rtI+qAhXM/nqvbhGHWb7+4QArrSf14v33mRsVll2a/Uh9QjE5Adr+9d4g/2FNzv1oBue/QPUE/Ko2cuQI7gL+3aT0Sh2daP4fhGiXc6X6/yCVQGXEVZL/7I4QDC4YsP0UBgOm8K3q//u27yv5GY7/yeBh4fUV0P+2WnjqnyWA/CduOCh86cr8FpjXYJqp3v7tBuQd4R3C/LAgvYS+vaD+ietu6ATBov9l73PC2IUe/CL3aBV5wdj+TQNFBhoh6vzEcXfyIIWm/TDtAMVuxcb9a1NvUz45vvwgVa2sQGki/O6PoiNIrVb8+RGEa2fR7v9TsVgMuu3e/11YAgtTIZz9PvzxgGJZsv4niJmP+sUg/T1Ot0EWKZL8/jawyap5xv/vueJsvWlk/srW2t0Czdz+AlxgtKbhwv7mqIcxdxy6/OJMqIolQcz9K7v33CQthvy4nS9u/zmi/B5+uxl3YYb+ZgirKbwppv8XPgu1x81S/7PPKB8whVj87AFEgFsB4vwhvr931FoW/f6SadX3Yer+a9djrhNiAvz9uRbhhKnC/99RORwyFGT+BKckM5HWBvz7yeeW01X0/pGV89f0TZr+ASohfL/OMP/qqBrchcmK/jS+0SFshQ79yev8/u1+dPyW5sDwv5Gq/+BSjIxb5gb8AJixo5Wl/v20xemWRnG+/LVHiRWJkSL8LYiKRyx53vwKXHb35vVw/ROSYmcpJVT/SZbK/2MKBv/FfjpeUQ50/Cva7zVsWcD93g3S8bPF0v4H1nQTm8HK/AuU8AgqUV7/y55oQxpBNP1E/oU1aamG/5gUonCGQYz+09lZsti42v5T2/SmYMIG/yR129cYIZr/5AYs9dthxPwyFyU++C4g/YZVED7Txc7/9JWlr0htOvwDKYLvPkHK/nHSmGKIaXb/9mS9q7SF8v0JXVcF/p3O/G2YJsFkGUz+fTFnDVFVyP99CEWFvGmc/L/Q0zSjIpD+sqvvB05hXP4GxfbVq9ZM/XYq4/EG8ar+NC68tV95kPz+FGgpl1VU/uhChmnQPbr8etZiPbm59P6b+irhEE3G/XbrCOYTRbL9at4dai4NWP5H9P8wshnK/Bqj2owXAWj8IrBkvmL2XP1d8bfnsyYc/rSFXdI0LSb8l8hKAA8cLv8KDKIEn02K/cldVU5PhaL9oLxhIN9ZZvxnCqr5ld2y/RLB4489vaz9TM/Ui20xhv/gwD6Ls934/6I7905G4Oj87Aa4WksN6v/g1qzPvl4o/y4KyxFieYb9+mcrG49Bev2jO1OMN0Hq/TjDPiVtuSr+JoE+XAlFwvwQKj++je2E/Cr//iOgrUL86VGt55DVmv1luGQfCaGo/rMq/6A1AZ789bt+WueY0vxG2UV3rQ2S/tetIbkDjnT87GEAZWjuCvxyaWNX7xHG/eDyur0SLZL+khw2X77Fxv8w2eZaU32u/5i4xaOfOUT9cyC8WQclRP18WBywsOmm/RGpo4gfKaT9HSqCtml1xP+JpEdeWOma/0VjJ2AlQcr+Ou19P7SBIP06ZYPUadXG/ap2FPBB4fr+0+QX4SV5ov7msEf69tII/wm7IBUREZL/RjaBp1wZ4vwLNXFPby1Q/xAXDyKJuhz8fKQueqohyvyf0Tm6HsGo/9pArWeIG9T4xg6ncITJxv6M0UG8UbSy/cO+4LsISaL8c+Q2ZjwqAP7W0XVGWD30/w9fgrTVdc7+0wphcPLktv1y79Y+sinK/6viaROOje79g2L3wOghtvyhB4mVCSna/2y/jenmUWL+J22Ewh/tzv5WKMaReqnm/8r79vFVsaz/Yd089/YZKP6CihzDo9WC/KpF5MmtHbT+U8Jkjzghyv2CCdjUnWYS/RJZDreB+Vb9Ns5BzHzh0v5edD8y8jW2/o2XCN5u+hj8YQUWcsNlTP3oC6Sox5DG/EewE5NL0Y7+Wrk/X35x4v/N1fvfr9Xm/hPhLr8MOdL91HbQYG0OLv+QUEY60xVQ/hp1Ls64hZ78WX5uxUyEwvxMqQzYvDyE/N6wpgjiAnz9IbLx1ESIyv/ckMsOhlHW/VuVolxg5VT8mSnkG2FVSP40QjQcw53Y/vElXUTBtYz+JlFkBuDlBv7leQfcubV2/NR5znTBtgL/Gf7ULi0Rxv3gj2FD3i1Y/yx3WPV1Edj9zGv4owFlwv2IR55ffYm6/pYmHP/FdbT9NepxvETZ9v+KmILnKdmW/PxloYCE6db/jyrKyB+N8v6kYPx27ADA/cpt/kCiQb78F3F49Kaxjvy9naRiTNX2/9c/PL/uJQj/9p+ND9n9+P20l5jsedIO/4NCkBipUTb/Vfv4CFR5Rv5CVwhxkpHK/lPjn6esCcL+BEJAfzRZnvzMTpwQQNly/JGjHZ4uxdL/qA553Tw5Rv7PwPi80wXm/yeXwiqiGQb+eOeM89DZjv23lQmhPkoO/DxSly4RWmD85mDvX0nyAv/q7VKqV1aA/+FUz1BuMYr8NzaH1a1l3vzM6HbrHGlA/zroqyA8IZz8ApWY+LLt1v0dFFQGlVki/mShMKvdVd7+KifYGcWdZP/Kjvs1Bvnq/hDPVCcLMW7+21nmZu5KGP3Pd5HDiIUO/PfCsfz2PZD/4+Ef4uuZev4GTpibnrHG/Q30R0YGHlj9jqu+Ad9RPP9RJOCfzVKk/Hh8CmwkCeb+jLUVGRc+WP6kdx7Agk2+/LvSVuBUimj+KVkHARKRjP7lwfx6isIS/oIkkTLa1Sj/4uW3E46Zlv6Fkrint5jW/HKeDj3IlWb+J8wcXdJhvvy3Dllhuw4M/A+h+WWgOcb84dSmzsEBUv7+DkjAjfHK/pE9VBZt5Vr+gVbnmyB5lPyHULxroKG6/+YyxYOiYMb9zjkbdWndkv2WRHhbjLG2/vxNchANZYb8vqhVWtYdQP2hstmp1DE6/gGGNRVJCaz/NcCfLxztrvyQFpDALGHc/U6ynx4gyHT8dmVb26LV6P4fsCGnDQWO/kNihUvs1VT99m9OhqYt0v9z/BAshcF6/IV4XdJE8aL8iq/T0iW9xvyqB37luDGM/jlL4nZ8RaD/e/H60GNV2v3EeKTEfUXQ/7qytftypXL/9i5XCX7WkPxmBE7uJX3C/VD2daaU9dj85+H67KZpQvyV3lYYsfYW/pMoXuysNYD+2GlEHnhlzv7IAqeqkqnS/uXDQWXnqP7/dM7SVvW1yv8Ii1CbogH2/uA7aLj6Hab9J84T2IjA9P/WUI/JcGn2/IVm/pMKlU7973or/hiNrPzEOpN5JGkm/ADjHXnuQQb/MezckgVZrvxfdwe3TJ0A/VAGoDxlwcb/5xkj3Alltv0D4TjuzPVW/ogo8z1qxWb8vyN1BT49Uv++XNkIDCXK/lFolmz72Z79v0xCAsTOEv6d9LwEulmW/CI4ZrtpnZ7+EvE9mqip6v6ezxGr3yZM/eTI8cpPPUr/XtQhOWQJVPwIoTPqe3Es/R74mIlI8cD87VR3Cfvhyv3eouvvCX32/lFHDb7G0fL9K+GYExRNxv6IQ58Da63G/689KY//YeL/fIPskQvJaP3FIKO8g1XK/RreUscnMb79EEoMNFJ5yPwp+2xVWj2w/RP44u2ZLez9aViZ46LFivxhc+M5zCmA//xUlXpvPc799P675jWFdv7hG9qwQtKc/8qJOTh1Mbj8fdgr0kFFbP5blNigwkXG/K0K8qaPlc79RAOKHzA11vztc6cJ8fnc/XWyCdY3ndj+0kH8k3itjv4GJ6Jx6UGe/u+gZu4c2fL8738bjm9uAv3EJEf+UHkM/hReGYS+bUr8TtGs0HYJmP0Qhbu23fqY/5ofExT/ea79xaXMYzCCAv+XvBbaSyYI/x9/Fpf8aYz8wK3fZioSOv7k4ErRoLni/H5ovrgc4XL8ctGaRYJxCP0mUAMTddXK/pMTa5Lujdb8IbMZXH1hsv7B3LfWRmTE/N2lXp57sZb/Hd92dNZuCv99xtp7hH3a/TzIUSpZGmj/PZ99jwq9yv8zSp2EsfnK/3I1cCczvTr8n2ySeaI1wPxTb3YwdInE/CqA5XkgmYD9tjg7FcLmKP/5cEBB2cV+/bCXJdGc1gb97U/oxZXCEv6C/eCMXJnS/UPYNeBTRWz9Ikd9A8WFjv1YfutKTjFi/8YzrfpmVf7+0WAqllshJv/W/23Y/tGy/ovPH4f62XL/77ZD3E0ppP6eIx8GXuH0/Ok2R2IPQfz/SJOvRk8SfPwSGWcZkRX+/rSmPogr5cD+fkkB+YoV6v/8SS4PcTnY/GW1KryYyeb9CVlJQK+JUP3F1BnulHVi/Z+SnIywBab8/DblqUotzP5zE2WaV0no/hOwE9n0jfL/T/yWT81tzPw5tSvCcIXO/7meuBvZqer9AeLT9DjlNP42emyJ51YS/+G+nQg1Tlz/ze0JvR9tev1nUd3sfpHS/EJrIEdoNoz+fclir91lmPz5pLpkp62Y/YWIsjXOwb79iNsF6/eR3vy3jA93FPYY/GWzXzRBbgL9A9iwDfTJ6v6ss/m4QMHe/KEdtC0Fwcj9UAgp/xpd5v61hbOYaz1m/34dszHu/bj9XaEz6F/aKP/8wKrfoA2y/t7BdAOM3JD/38kYkUwlfvxvVWU8XVnq/5Lo4KjvvbT+jNsza6PJov4pVV8BYy2u/MlJb1pRUYb8XdpswFSB3v1dNvJ030XK/mwvbubJEfb/5APmcJx1sv9nsi0sICkO/fhGf6kY1bD8b6pKH3nuDv0JvVsm+SGi/aV4u9Vjscz+dVaAL5LxGP/Kybt3XIXW/0qMI5LhJXj/82/cTr/10v5t/OSZW9mG/B8xzmr94Vz/P2P/l2ltxP14Y/xCBOIM/w+On9F53dL9ZMpcradVwvx+cSW7Oq4e/pe87VM/TOb/abGB7QJxiv5Fdyw6p5Ug/ZkuC0YLxfr/EJKQNLKZpv2ZHJF4PK3C/RtKM+4SNaD9R6X8Bl9JmvxJYok1iVne/db/bRCS8mz8iGopCBqRrv1eqMNoAx3K/L7Rb6t2qST8nKIpbPqJuPz7TMHph01+/oFLnAXWCS78p0k2QZaCAvwEixqB3LFa/vZLQhX0pgb/iUkKTY601v2W08ijSGiQ/DGmJc4eVPz9nV5DVU7R0v+KMwa+ojU+/BBciBY0YYb88qof7H6xYvw==",
          "dtype": "f8"
         },
         "yaxis": "y"
        }
       ],
       "layout": {
        "legend": {
         "title": {
          "text": "sentiment"
         },
         "tracegroupgap": 0
        },
        "margin": {
         "t": 60
        },
        "template": {
         "data": {
          "bar": [
           {
            "error_x": {
             "color": "#2a3f5f"
            },
            "error_y": {
             "color": "#2a3f5f"
            },
            "marker": {
             "line": {
              "color": "#E5ECF6",
              "width": 0.5
             },
             "pattern": {
              "fillmode": "overlay",
              "size": 10,
              "solidity": 0.2
             }
            },
            "type": "bar"
           }
          ],
          "barpolar": [
           {
            "marker": {
             "line": {
              "color": "#E5ECF6",
              "width": 0.5
             },
             "pattern": {
              "fillmode": "overlay",
              "size": 10,
              "solidity": 0.2
             }
            },
            "type": "barpolar"
           }
          ],
          "carpet": [
           {
            "aaxis": {
             "endlinecolor": "#2a3f5f",
             "gridcolor": "white",
             "linecolor": "white",
             "minorgridcolor": "white",
             "startlinecolor": "#2a3f5f"
            },
            "baxis": {
             "endlinecolor": "#2a3f5f",
             "gridcolor": "white",
             "linecolor": "white",
             "minorgridcolor": "white",
             "startlinecolor": "#2a3f5f"
            },
            "type": "carpet"
           }
          ],
          "choropleth": [
           {
            "colorbar": {
             "outlinewidth": 0,
             "ticks": ""
            },
            "type": "choropleth"
           }
          ],
          "contour": [
           {
            "colorbar": {
             "outlinewidth": 0,
             "ticks": ""
            },
            "colorscale": [
             [
              0,
              "#0d0887"
             ],
             [
              0.1111111111111111,
              "#46039f"
             ],
             [
              0.2222222222222222,
              "#7201a8"
             ],
             [
              0.3333333333333333,
              "#9c179e"
             ],
             [
              0.4444444444444444,
              "#bd3786"
             ],
             [
              0.5555555555555556,
              "#d8576b"
             ],
             [
              0.6666666666666666,
              "#ed7953"
             ],
             [
              0.7777777777777778,
              "#fb9f3a"
             ],
             [
              0.8888888888888888,
              "#fdca26"
             ],
             [
              1,
              "#f0f921"
             ]
            ],
            "type": "contour"
           }
          ],
          "contourcarpet": [
           {
            "colorbar": {
             "outlinewidth": 0,
             "ticks": ""
            },
            "type": "contourcarpet"
           }
          ],
          "heatmap": [
           {
            "colorbar": {
             "outlinewidth": 0,
             "ticks": ""
            },
            "colorscale": [
             [
              0,
              "#0d0887"
             ],
             [
              0.1111111111111111,
              "#46039f"
             ],
             [
              0.2222222222222222,
              "#7201a8"
             ],
             [
              0.3333333333333333,
              "#9c179e"
             ],
             [
              0.4444444444444444,
              "#bd3786"
             ],
             [
              0.5555555555555556,
              "#d8576b"
             ],
             [
              0.6666666666666666,
              "#ed7953"
             ],
             [
              0.7777777777777778,
              "#fb9f3a"
             ],
             [
              0.8888888888888888,
              "#fdca26"
             ],
             [
              1,
              "#f0f921"
             ]
            ],
            "type": "heatmap"
           }
          ],
          "histogram": [
           {
            "marker": {
             "pattern": {
              "fillmode": "overlay",
              "size": 10,
              "solidity": 0.2
             }
            },
            "type": "histogram"
           }
          ],
          "histogram2d": [
           {
            "colorbar": {
             "outlinewidth": 0,
             "ticks": ""
            },
            "colorscale": [
             [
              0,
              "#0d0887"
             ],
             [
              0.1111111111111111,
              "#46039f"
             ],
             [
              0.2222222222222222,
              "#7201a8"
             ],
             [
              0.3333333333333333,
              "#9c179e"
             ],
             [
              0.4444444444444444,
              "#bd3786"
             ],
             [
              0.5555555555555556,
              "#d8576b"
             ],
             [
              0.6666666666666666,
              "#ed7953"
             ],
             [
              0.7777777777777778,
              "#fb9f3a"
             ],
             [
              0.8888888888888888,
              "#fdca26"
             ],
             [
              1,
              "#f0f921"
             ]
            ],
            "type": "histogram2d"
           }
          ],
          "histogram2dcontour": [
           {
            "colorbar": {
             "outlinewidth": 0,
             "ticks": ""
            },
            "colorscale": [
             [
              0,
              "#0d0887"
             ],
             [
              0.1111111111111111,
              "#46039f"
             ],
             [
              0.2222222222222222,
              "#7201a8"
             ],
             [
              0.3333333333333333,
              "#9c179e"
             ],
             [
              0.4444444444444444,
              "#bd3786"
             ],
             [
              0.5555555555555556,
              "#d8576b"
             ],
             [
              0.6666666666666666,
              "#ed7953"
             ],
             [
              0.7777777777777778,
              "#fb9f3a"
             ],
             [
              0.8888888888888888,
              "#fdca26"
             ],
             [
              1,
              "#f0f921"
             ]
            ],
            "type": "histogram2dcontour"
           }
          ],
          "mesh3d": [
           {
            "colorbar": {
             "outlinewidth": 0,
             "ticks": ""
            },
            "type": "mesh3d"
           }
          ],
          "parcoords": [
           {
            "line": {
             "colorbar": {
              "outlinewidth": 0,
              "ticks": ""
             }
            },
            "type": "parcoords"
           }
          ],
          "pie": [
           {
            "automargin": true,
            "type": "pie"
           }
          ],
          "scatter": [
           {
            "fillpattern": {
             "fillmode": "overlay",
             "size": 10,
             "solidity": 0.2
            },
            "type": "scatter"
           }
          ],
          "scatter3d": [
           {
            "line": {
             "colorbar": {
              "outlinewidth": 0,
              "ticks": ""
             }
            },
            "marker": {
             "colorbar": {
              "outlinewidth": 0,
              "ticks": ""
             }
            },
            "type": "scatter3d"
           }
          ],
          "scattercarpet": [
           {
            "marker": {
             "colorbar": {
              "outlinewidth": 0,
              "ticks": ""
             }
            },
            "type": "scattercarpet"
           }
          ],
          "scattergeo": [
           {
            "marker": {
             "colorbar": {
              "outlinewidth": 0,
              "ticks": ""
             }
            },
            "type": "scattergeo"
           }
          ],
          "scattergl": [
           {
            "marker": {
             "colorbar": {
              "outlinewidth": 0,
              "ticks": ""
             }
            },
            "type": "scattergl"
           }
          ],
          "scattermap": [
           {
            "marker": {
             "colorbar": {
              "outlinewidth": 0,
              "ticks": ""
             }
            },
            "type": "scattermap"
           }
          ],
          "scattermapbox": [
           {
            "marker": {
             "colorbar": {
              "outlinewidth": 0,
              "ticks": ""
             }
            },
            "type": "scattermapbox"
           }
          ],
          "scatterpolar": [
           {
            "marker": {
             "colorbar": {
              "outlinewidth": 0,
              "ticks": ""
             }
            },
            "type": "scatterpolar"
           }
          ],
          "scatterpolargl": [
           {
            "marker": {
             "colorbar": {
              "outlinewidth": 0,
              "ticks": ""
             }
            },
            "type": "scatterpolargl"
           }
          ],
          "scatterternary": [
           {
            "marker": {
             "colorbar": {
              "outlinewidth": 0,
              "ticks": ""
             }
            },
            "type": "scatterternary"
           }
          ],
          "surface": [
           {
            "colorbar": {
             "outlinewidth": 0,
             "ticks": ""
            },
            "colorscale": [
             [
              0,
              "#0d0887"
             ],
             [
              0.1111111111111111,
              "#46039f"
             ],
             [
              0.2222222222222222,
              "#7201a8"
             ],
             [
              0.3333333333333333,
              "#9c179e"
             ],
             [
              0.4444444444444444,
              "#bd3786"
             ],
             [
              0.5555555555555556,
              "#d8576b"
             ],
             [
              0.6666666666666666,
              "#ed7953"
             ],
             [
              0.7777777777777778,
              "#fb9f3a"
             ],
             [
              0.8888888888888888,
              "#fdca26"
             ],
             [
              1,
              "#f0f921"
             ]
            ],
            "type": "surface"
           }
          ],
          "table": [
           {
            "cells": {
             "fill": {
              "color": "#EBF0F8"
             },
             "line": {
              "color": "white"
             }
            },
            "header": {
             "fill": {
              "color": "#C8D4E3"
             },
             "line": {
              "color": "white"
             }
            },
            "type": "table"
           }
          ]
         },
         "layout": {
          "annotationdefaults": {
           "arrowcolor": "#2a3f5f",
           "arrowhead": 0,
           "arrowwidth": 1
          },
          "autotypenumbers": "strict",
          "coloraxis": {
           "colorbar": {
            "outlinewidth": 0,
            "ticks": ""
           }
          },
          "colorscale": {
           "diverging": [
            [
             0,
             "#8e0152"
            ],
            [
             0.1,
             "#c51b7d"
            ],
            [
             0.2,
             "#de77ae"
            ],
            [
             0.3,
             "#f1b6da"
            ],
            [
             0.4,
             "#fde0ef"
            ],
            [
             0.5,
             "#f7f7f7"
            ],
            [
             0.6,
             "#e6f5d0"
            ],
            [
             0.7,
             "#b8e186"
            ],
            [
             0.8,
             "#7fbc41"
            ],
            [
             0.9,
             "#4d9221"
            ],
            [
             1,
             "#276419"
            ]
           ],
           "sequential": [
            [
             0,
             "#0d0887"
            ],
            [
             0.1111111111111111,
             "#46039f"
            ],
            [
             0.2222222222222222,
             "#7201a8"
            ],
            [
             0.3333333333333333,
             "#9c179e"
            ],
            [
             0.4444444444444444,
             "#bd3786"
            ],
            [
             0.5555555555555556,
             "#d8576b"
            ],
            [
             0.6666666666666666,
             "#ed7953"
            ],
            [
             0.7777777777777778,
             "#fb9f3a"
            ],
            [
             0.8888888888888888,
             "#fdca26"
            ],
            [
             1,
             "#f0f921"
            ]
           ],
           "sequentialminus": [
            [
             0,
             "#0d0887"
            ],
            [
             0.1111111111111111,
             "#46039f"
            ],
            [
             0.2222222222222222,
             "#7201a8"
            ],
            [
             0.3333333333333333,
             "#9c179e"
            ],
            [
             0.4444444444444444,
             "#bd3786"
            ],
            [
             0.5555555555555556,
             "#d8576b"
            ],
            [
             0.6666666666666666,
             "#ed7953"
            ],
            [
             0.7777777777777778,
             "#fb9f3a"
            ],
            [
             0.8888888888888888,
             "#fdca26"
            ],
            [
             1,
             "#f0f921"
            ]
           ]
          },
          "colorway": [
           "#636efa",
           "#EF553B",
           "#00cc96",
           "#ab63fa",
           "#FFA15A",
           "#19d3f3",
           "#FF6692",
           "#B6E880",
           "#FF97FF",
           "#FECB52"
          ],
          "font": {
           "color": "#2a3f5f"
          },
          "geo": {
           "bgcolor": "white",
           "lakecolor": "white",
           "landcolor": "#E5ECF6",
           "showlakes": true,
           "showland": true,
           "subunitcolor": "white"
          },
          "hoverlabel": {
           "align": "left"
          },
          "hovermode": "closest",
          "mapbox": {
           "style": "light"
          },
          "paper_bgcolor": "white",
          "plot_bgcolor": "#E5ECF6",
          "polar": {
           "angularaxis": {
            "gridcolor": "white",
            "linecolor": "white",
            "ticks": ""
           },
           "bgcolor": "#E5ECF6",
           "radialaxis": {
            "gridcolor": "white",
            "linecolor": "white",
            "ticks": ""
           }
          },
          "scene": {
           "xaxis": {
            "backgroundcolor": "#E5ECF6",
            "gridcolor": "white",
            "gridwidth": 2,
            "linecolor": "white",
            "showbackground": true,
            "ticks": "",
            "zerolinecolor": "white"
           },
           "yaxis": {
            "backgroundcolor": "#E5ECF6",
            "gridcolor": "white",
            "gridwidth": 2,
            "linecolor": "white",
            "showbackground": true,
            "ticks": "",
            "zerolinecolor": "white"
           },
           "zaxis": {
            "backgroundcolor": "#E5ECF6",
            "gridcolor": "white",
            "gridwidth": 2,
            "linecolor": "white",
            "showbackground": true,
            "ticks": "",
            "zerolinecolor": "white"
           }
          },
          "shapedefaults": {
           "line": {
            "color": "#2a3f5f"
           }
          },
          "ternary": {
           "aaxis": {
            "gridcolor": "white",
            "linecolor": "white",
            "ticks": ""
           },
           "baxis": {
            "gridcolor": "white",
            "linecolor": "white",
            "ticks": ""
           },
           "bgcolor": "#E5ECF6",
           "caxis": {
            "gridcolor": "white",
            "linecolor": "white",
            "ticks": ""
           }
          },
          "title": {
           "x": 0.05
          },
          "xaxis": {
           "automargin": true,
           "gridcolor": "white",
           "linecolor": "white",
           "ticks": "",
           "title": {
            "standoff": 15
           },
           "zerolinecolor": "white",
           "zerolinewidth": 2
          },
          "yaxis": {
           "automargin": true,
           "gridcolor": "white",
           "linecolor": "white",
           "ticks": "",
           "title": {
            "standoff": 15
           },
           "zerolinecolor": "white",
           "zerolinewidth": 2
          }
         }
        },
        "xaxis": {
         "anchor": "y",
         "domain": [
          0,
          1
         ],
         "title": {
          "text": "x"
         }
        },
        "yaxis": {
         "anchor": "x",
         "domain": [
          0,
          1
         ],
         "title": {
          "text": "y"
         }
        }
       }
      }
     },
     "metadata": {},
     "output_type": "display_data"
    }
   ],
   "source": [
    "fig = px.scatter(df, x=\"x\", y=\"y\", color=\"sentiment\", opacity=0.7)\n",
    "fig.show()"
   ]
  },
  {
   "cell_type": "markdown",
   "metadata": {},
   "source": [
    "## Let's do a 3D plot"
   ]
  },
  {
   "cell_type": "code",
   "execution_count": 25,
   "metadata": {},
   "outputs": [],
   "source": [
    "reduced_data3D = PCA(n_components=3).fit_transform(TF_IDF_matrix)"
   ]
  },
  {
   "cell_type": "code",
   "execution_count": 26,
   "metadata": {},
   "outputs": [],
   "source": [
    "data2plot3D = pd.DataFrame({'x': reduced_data3D[:, 0],\n",
    "                            'y': reduced_data3D[:, 1], \n",
    "                            'z': reduced_data3D[:, 2], \n",
    "                            'sentiment': data['sentiment']})\n",
    "# only select some values to plot\n",
    "n = 100\n",
    "df_positive = data2plot3D[data2plot3D['sentiment']==\"positive\"][:n]\n",
    "df_negative = data2plot3D[data2plot3D['sentiment']==\"negative\"][:n]\n",
    "df = pd.concat([df_positive, df_negative])"
   ]
  },
  {
   "cell_type": "code",
   "execution_count": 27,
   "metadata": {},
   "outputs": [
    {
     "data": {
      "application/vnd.plotly.v1+json": {
       "config": {
        "plotlyServerURL": "https://plot.ly"
       },
       "data": [
        {
         "hovertemplate": "sentiment=positive<br>x=%{x}<br>y=%{y}<br>z=%{z}<extra></extra>",
         "legendgroup": "positive",
         "marker": {
          "color": "#636efa",
          "opacity": 0.9,
          "symbol": "circle"
         },
         "mode": "markers",
         "name": "positive",
         "scene": "scene",
         "showlegend": true,
         "type": "scatter3d",
         "x": {
          "bdata": "+Tq+waqrer/rKpypkBSBv1BRavYaAni/hIhCYETvgb/Kx/n75HJ3v+gjW2a2Xme/uGNAw1BrR790b0x3krGEP+KaJojr2Ck/RpfUCrEBdr/iSUaND89KP59TDI9EM3A/lCkQ78GgjL+oasHH6JMZv5vd4k3po5G/qnnNKUIbjb8OPJACc5aLv7OXcb19N4W/Lt1YjRE0jL9bte4AsG+Qv6yEKXTkpnG/iDyzC2jwab81ZvY6qY+Ov9GTFp6Q2HW/X0B7gh+Njr9APNV279Fuv42HV5KkKms/HO7XD7hXjr+WYKPnW/9+vy2m7LL+YUG/nvBcWlmdhr9n6naM0OhFPyot8msOBHe/AY1yZv2YZj9ScqOnpTOEv/zFDaOQ2IK/OWgCr6rHZr+2qPNKd59yv0+Sq87jiY2/DlJMhtzxgr/Hk0b6CVCAv5HKcneRe4O/XAhZ8GKKbL/JJVTOGQ5aP5b8Il2540K/u4vkNcIQkr8Jmi2L9Fpjv2Mt2mNRI4m/lOYZmEhjWr8fQbSLVoRWP190KkobcHq/3qiOTZuJbD+I3zdP086Hv1DRhrnINJk/dI4eCWTRhL9ixw+IIBCEvwTf1hUcvoY/O2s2zo1Icr9CTUcgGApwv19L0OHivHW/baBuexC9f7+xm2YTMAiBv55TI0BHsYW/SudbuZXLcL8jltTdNb5mv6zD7PNcsIy/X8dUqCUmkL8DxkN0arxsv+ppBT0Wl4y/ntUUmm6CYD+wyulb2UpyP9FCYuZljG+/yaLPoTejfj8cZpfOBqJ3vxmcbsqHM5C/4fzx+4IQcz8335KX7QV2v6I7OQirO3G/JWDjajGTdD+kp2Re67hhPxjVhbxhqIW/WTfiU0dnjr/6lt1vImCGv7pFZAQXWHK/qyWObj54f79Hs2Rm/+mFv3IlPW92qzG/P2Rucz8YaD/kweJeRYqLv9fHPVaCOXK/ynbRLoIQeL/IAGkCHXCKv/ZO+fPNDJU/xmJfLSckh7+3Dp9hRjl1v2D3OhrZjpA/DH9jVwTQiL8rZ+5DZymOv18WCy89AoK/xzLUzuw6UL8=",
          "dtype": "f8"
         },
         "y": {
          "bdata": "2DaCN0Sykj/BpLRNP8R0vyw6CSsduRY/ghEscga6ZL9qrWIuMwpTPycRv4eXDY0/hKdQgDATeD/0fvUOJEpwv2hQRWQrWIC/SKVPQEcaW7/g6IXqI4xov/VBa3zE/l4/JzQAwMgDcL+v4Stt+y9rv+1OOg7zIYa/tEJTr5Dqfr8fGkf08Cd2v0nQ2gwkYHy/EfvLiNbepD8BVlWr6bOAv8BbFaMkPYs/QjeF/SXhYb9UFMHv4Wd5v0QBiOxponi/R/+1scpRar+GI1o31KRwv0hb3w0eT1S/FRn0YF/4g7/DpkkoxGFwv1bPIZAMjFG/TvoqD7H6gL/7uD7iVkNLv1/zebFPfkW/xtHtu2JfFz+zr7sKiX51vyG39j4Ou3a/WzoPZzTUPr/0Qg94n41dvy9XPIHePne/CAbaODZLdr+LhKbU6+Z0v16pC3XIYEq/sRPKGErWbT+Il+1uO7RsP9NVTpMyo1K/TDSP7Fo1Hz/DUNM5xGaAv7/l+x+KGXK/8OhbC+vGaL/eJcKVm5wDP4OVuy7rS4G/avm2w/KyWr8wdlKiToJ8v0gVkiqcBIO/8zdv2CwEcL+CzFPEIWlwvzBo8aXnk3U/PN5q8GxgYL/6vjlmYJp8v/N+EEVPuXO/ky58JkY2YL8cBpO4zFKBP8BYoQeTzGC/DsMFZvglKj/3wX1EJap5v6rdqiT8M3S/PeqZqPeKe788nUEn/uJ0v/pEvIUJjoa/zmYYSp31ar8aHq8Un6B4P5YX96cLGlG/59beYAXzcj8gpjdcS9hxP9LCkqzX7Y0/rlHPxIwdeb8RLnxxRKJCPwwW8lh4l3m/N/tl7tpVdb/11SP1WgKDv5SL4s8jaXe/M8wdaJ8jWb9zgN/R6Qp0P1m0+gOlD4K/iuh98E5TdL/sLZyMTfhtv6N9S+wA7XO/TYBcD9QUYT9xFhQPcb5zv6RrrIrLkJ8/GKHLyJ8ydD/wxI33T+GWPwO32tGDlnu/b7U4UEH2er/OjWryY8h3v0XgYNiEOoc/qHYKbnuFbr8acqDpWrNwv08AP511bna/3R35C3d5WL8=",
          "dtype": "f8"
         },
         "z": {
          "bdata": "GMZYSZzYir+ff9TupMZ1Pyir2TH4NnY/BWb9VgmQY7/k1yAfG+l9P26XWfk7j1G/cvxbWbX5nD+rbUcQQv2GP8jPWoRA8VA/blfRk96ZXj9NzWJLq8Bkv3HWjjgiPY0/N91EEAaBij9cV9EkCihav7UqR0T/gnu/+KvI/matgr8t6ch1vId5vyIcemF+k4C/UUnlkju0W79f14Ye1QKNP2dGqjjLJE6/+ioTN+ErjT9IZfZsI6N9vybnlU5ca3S/hA4i+0Z2er8UGLGyZP6Bv7ZWZhY+MlI/g1a3DI8efL9JYkLnQqNrPxeOdt+b0YY/G78/6Yykgb8qx3MRY7Vev1yThtox52a/6VpyXXuQij8u+qWysgaJv3OS2gzDjnG/t7XdjinocT/joFQCeDplP7J7Z38h1n+/JfImmdDqdD/OAfuaUihjv5VpRijVaXC/mE5Ma7PFaL+4MYkZnzR5P5loE0JYAHi/wQSqLWobXj8BzDcfFg1+PyGq5LpxKYG/yXNv0HENkD/J13ZuEe6BP5OtprtHDmE/3AzYcV0ydj8A6k2TK0R+v8+MydS6vYE/0Yl0rYbXWr8CwZSG+0aBv6kEjrfC05E/qNxsgMY3YT86n6UNbZSKP47KU3ZMuWi/WghiFMEdd7+YF8O4aUF/P7DFGmmgNnG/BuEyzdT9gD/Mhi9R/mFyv+VbuqCYmny/RKtJa1ldbb8HnQd+2dVfv+ujLxBgAoc/G5O46w5hgD9xlf7/deifPyDOoBhR/Hc/x5gU1fkxiz/1PZuY2W1vv1US7FcTGjU/1YgWzMpTOL+A0dRjJQ9mPyUV1XEzNY4/kJqOEz7CYD9za/+wzQwiv+RhmLtvcXq/CN0+Bmtnhr+UASpqNIyBv03W5SWcbo4/+X3m3Ye5cr8CWertkWllv4xevbVDpXs/VzOrLHg9iT8ADebjcM6BPxfATrxvEXS/jgYb8EPQhj8ascFtFw+Gvy5QHvSmWoI/XM0Hr+N9dL8Oy8U4cZRZv6KKHzWusIY/lWwRHkFeIL+RTL2xzndTPzBJ7iwQs4S/9zw+fNGuV78=",
          "dtype": "f8"
         }
        },
        {
         "hovertemplate": "sentiment=negative<br>x=%{x}<br>y=%{y}<br>z=%{z}<extra></extra>",
         "legendgroup": "negative",
         "marker": {
          "color": "#EF553B",
          "opacity": 0.9,
          "symbol": "circle"
         },
         "mode": "markers",
         "name": "negative",
         "scene": "scene",
         "showlegend": true,
         "type": "scatter3d",
         "x": {
          "bdata": "Ktto0aJScL9/E/pAiehaP/dPd/VtIo0/qvjkDijFcz+NHbUL5U1Gv0XbdgXBhD0/OCMBk1fPYr+9dG9gXYF9P1/cZzQimYU/rAftrc9Na78ZIYlc2o+XP+bHDRzz7os/226RUaXKgz9xnAcxJZ6Fv+fVbilkn4I/KK60k63Ybj82MGaDlO6LP7kaGAZ29XU/DNgIRAcflD/NK1hNC4fevol2qWqZrnI/xvTZ3oVHkD/U7+T/UTKBPxyiBkshbFq/HhyBnJqicL/u7nlowIpRv4mr2w4EMHU//EFw/NDhcr8O6XGGulhTv9AgrO+njVM/c4PAPpvtf7+FaD1JQuR0P+EBk8OPW2i/voNFfHwmiD/Xf45Bm79VP6n9BsGdw1O/Qo91cArwgj9OxPtudUdZPyjK59TlH2Q/0iyfYgNVYD9rJ3F6uL4QP3L1DuJ+D2K/uUfk21rZaj/Ua+hA6i5QP0t4FN2zx3o/HNcPIEAIgz8h+Y3iXZNwPz1KF0ac0Zs/jTvEi6BJoD89Ukn8Kz6Dvylee8TsIpA/W+9zYQFIcr8hIg8glPBxPxuoAR+wi4c/yPMCe7VhZ7//fMLXIXRyP4jotNLxOKg/HBSCPkAvpD99ydRR1SNiv+8rGAjwAUe/V+lkLoWzhj8/FaDus6N7PzIucVhfIns/XL7Mt5SvgD9n1HkyC7eIP1o1I4LUwke/9XTYYioEa7/5tonV8+eQvx7r0/D39HU/4sTfbIv0lT/U9GJ6Su9oPz66vp8LuXS/Ye03f0ahW7/OmFikiC2AP0M1Mjs5LIQ/DAcC6eqtPD8NsgK+KXR5v8bgbmQKLX4/7D77CXnWdL8wcgHhf8JfvwTKNrTE2lm/ZazZWYRWXr+nFTh3rPh8vwqjiX5kYXM/KduihUBdeL/zPA0dXAOBv3o4AP49N4k/De2cykCWhD+Mcp6owx+Cv5fjG32hFX+/S4f9ol8NgT8s9H0yFg2qPwO4lpu8TVC/7lIzyYTLYL9MvX3XRsd1vxF8GZ5jKWw/9Yv85LIec7/cPlR6c+h1P0l8Xa6Zk5E/UGJHlppDkz8=",
          "dtype": "f8"
         },
         "y": {
          "bdata": "4qtvRNTrcL9mxMc1zfKpPyYT3t8TDYG/04WMaoOOaj/O1gGCfeFtv0LshhBJJlm/thyb4uzOST8Z72Oj+Ox1v6QfGSul+G6/fsbOdFPmgb/9l2cp5N9iv3LaQe7udoQ/86hcfetJZr9Dn1pyabt8v4furo1FCXE/Be+0zej+eb+9geC31LIuv89zZYzbhnM/UuzQdZLUb79bMNZrXvZ4vySYmCWmhGa/Sl+ANib5db+zJy4/MDFzv1XFwjziokA/DIfP69g7gL8wtaawlqBaP/hZ86d0236/6kwGdA4VZL9DmfMmWscqP+5961s0Z3q/8WmN0OdBY78UANB1BhF0PwkBTC6fBmE/+yPcRi43cr8dBKS5dGx3v3p8xwMha3C/jDZbHhmsaD/Qr5kbhSxov/F7V2sGlEa/FWd8Y/Qidj9mIZ0dPLh6v91M8RF5VGm/iLisdOqncb+YSgftU5NvvwTrzSD82Ee/AHBJbF5OVb+PEDFPpvF7v05swmi+OHe/u3CoDeaOZz+B3lu9wQ1sv7n+RQfwoEY/hgX+pQuHZL8oMtoptKtxv3WqKn+wI1k/LHjEXpGddz9+rVmUbgJxv6ihNbLJATm/FLUvAjGdcz8dfo/I+EdhvxfKWZIQnmi/XLX6W5efYb/dIhG1X+9ov2B/8DxzMFS/8VMfbAMtVD8ULqhqXGB4v/aMQ9uUB4W/N8VTyXjcer+kuLugAtKAv/pFiTzqvHC/NhGBRGyMIz+WRyxrx5SBvyRxjrxZ3H0/sJ08HdcgZr8D2p1/osOMPwk207RneGG/uzDloqABQr/kkoyStWadP/bQBBVbPWu/DFcqZNr4gb8sNJBMG3l/v6j3hkHOxm+/lg5CS+ybSr8h2I7u8GJ3v+L9rFtViVw/KYJvEhn2VD9F/Oq0/s2Bv5zREifsO50/I5cWUMSybj8T2yvjle50v3aPuEfys3K/fNCEuPfKVr8gQ70ERo1OP4hIyWy4XWC/pNV6c3j6Yj8QfP1Y8/A1v2FtwGscJIG/XwIU3wHyZb9w4wyHOulxPx50M1m1wYc/um5WInb0c78=",
          "dtype": "f8"
         },
         "z": {
          "bdata": "QgtmY2IYdL8fTSkZA0B1vxtaQcB+I0y/tXx4Td+eeL8x/7ktkcJUv6LWr8JgCWC/LMaP/NGQXb+mpUCMg12Av+Ul6iRJr36/PKqAnJjBbL86bl+nHM5hv52YQ3d9Z2C/qBt4vFcJhT9EBFrokiRxvxmeRZHUY9i+2W5d1hWPcb8mbgLTtYxCPxTR8Z6P4GS/spXQ7WRuc7/S/5ceX7CGv568x2cvWX6/14fs8fGdhz+mpfNwLaeFvxnTrv55MIC/9F5BCMhEej+CLqhV0mB1vxaM6j4d2IC/1H4b5494fL+sGkqln0eBv4iJiv5TG4W/whMQg++HhL+oR3Wc+8B8P26/4IfzLX2/ZhA4bvBqdL/GbZ3ODE1ov/7TaoC154G/1ejQc956hT+4Ew8jmYpVPyywztNRuHq/2G1fIxnyOz/M7rYaVDJiv3aUdv4jwFy/uhVgk2kEhr+xjbUr09qCv1dVbbTQN3a/pg09rpsWbr/Qi3ReVedhv0721yaJLXi/z7RivzBceD9EeReD+/1OvwtEMsK9PFM/5PY2z6dNdb/WhfPX8J2Lv0psa20Qqmc/onMU0Rd7YL9PhoABzWB+v/JTJTS+Oo4/VxMc+7BWXD+w+OqPyZFgv62hy0bSAIW/JU2tKQrSgL9DgrSAXDllvyHIH69YiGO/58x+xeRxij+GSZk7myhlv3i6mkbXJmk/TU0BVbbSYz+uhdfOap6Fv6yptHBDvHK/PDiSk0B2ej8mpGY0iv+Bvwzwx8vGbJG/zfeCqxWYgb/YgH+9R4t2v0faRD6iS28/alMR+6kwYj9mzUNthfOPv1tPhlHOdXE/WySIJQXdg78TSa6PZCtmv/zFU+RpJEw/GkahiCxpjr/owBZlVbuVP1ZTblS7nYO/JM5UUgy9Rr9lcC8B4GBqv+CjhQnVCyG/yMpusVm4Wj+zee2zf9Vyv5ivsHklG1s/TmZDr5FMdb/3ufXk/uNWP4SoJBEtIIG/EYZl2lwVgL9V5snMpGOOv3k1pSuSyoa/zPtuH1lRf788v0f/lgkNv3AP3N5+BYI/OWRZpdD3f78=",
          "dtype": "f8"
         }
        }
       ],
       "layout": {
        "legend": {
         "title": {
          "text": "sentiment"
         },
         "tracegroupgap": 0
        },
        "margin": {
         "t": 60
        },
        "scene": {
         "domain": {
          "x": [
           0,
           1
          ],
          "y": [
           0,
           1
          ]
         },
         "xaxis": {
          "title": {
           "text": "x"
          }
         },
         "yaxis": {
          "title": {
           "text": "y"
          }
         },
         "zaxis": {
          "title": {
           "text": "z"
          }
         }
        },
        "template": {
         "data": {
          "bar": [
           {
            "error_x": {
             "color": "#2a3f5f"
            },
            "error_y": {
             "color": "#2a3f5f"
            },
            "marker": {
             "line": {
              "color": "#E5ECF6",
              "width": 0.5
             },
             "pattern": {
              "fillmode": "overlay",
              "size": 10,
              "solidity": 0.2
             }
            },
            "type": "bar"
           }
          ],
          "barpolar": [
           {
            "marker": {
             "line": {
              "color": "#E5ECF6",
              "width": 0.5
             },
             "pattern": {
              "fillmode": "overlay",
              "size": 10,
              "solidity": 0.2
             }
            },
            "type": "barpolar"
           }
          ],
          "carpet": [
           {
            "aaxis": {
             "endlinecolor": "#2a3f5f",
             "gridcolor": "white",
             "linecolor": "white",
             "minorgridcolor": "white",
             "startlinecolor": "#2a3f5f"
            },
            "baxis": {
             "endlinecolor": "#2a3f5f",
             "gridcolor": "white",
             "linecolor": "white",
             "minorgridcolor": "white",
             "startlinecolor": "#2a3f5f"
            },
            "type": "carpet"
           }
          ],
          "choropleth": [
           {
            "colorbar": {
             "outlinewidth": 0,
             "ticks": ""
            },
            "type": "choropleth"
           }
          ],
          "contour": [
           {
            "colorbar": {
             "outlinewidth": 0,
             "ticks": ""
            },
            "colorscale": [
             [
              0,
              "#0d0887"
             ],
             [
              0.1111111111111111,
              "#46039f"
             ],
             [
              0.2222222222222222,
              "#7201a8"
             ],
             [
              0.3333333333333333,
              "#9c179e"
             ],
             [
              0.4444444444444444,
              "#bd3786"
             ],
             [
              0.5555555555555556,
              "#d8576b"
             ],
             [
              0.6666666666666666,
              "#ed7953"
             ],
             [
              0.7777777777777778,
              "#fb9f3a"
             ],
             [
              0.8888888888888888,
              "#fdca26"
             ],
             [
              1,
              "#f0f921"
             ]
            ],
            "type": "contour"
           }
          ],
          "contourcarpet": [
           {
            "colorbar": {
             "outlinewidth": 0,
             "ticks": ""
            },
            "type": "contourcarpet"
           }
          ],
          "heatmap": [
           {
            "colorbar": {
             "outlinewidth": 0,
             "ticks": ""
            },
            "colorscale": [
             [
              0,
              "#0d0887"
             ],
             [
              0.1111111111111111,
              "#46039f"
             ],
             [
              0.2222222222222222,
              "#7201a8"
             ],
             [
              0.3333333333333333,
              "#9c179e"
             ],
             [
              0.4444444444444444,
              "#bd3786"
             ],
             [
              0.5555555555555556,
              "#d8576b"
             ],
             [
              0.6666666666666666,
              "#ed7953"
             ],
             [
              0.7777777777777778,
              "#fb9f3a"
             ],
             [
              0.8888888888888888,
              "#fdca26"
             ],
             [
              1,
              "#f0f921"
             ]
            ],
            "type": "heatmap"
           }
          ],
          "histogram": [
           {
            "marker": {
             "pattern": {
              "fillmode": "overlay",
              "size": 10,
              "solidity": 0.2
             }
            },
            "type": "histogram"
           }
          ],
          "histogram2d": [
           {
            "colorbar": {
             "outlinewidth": 0,
             "ticks": ""
            },
            "colorscale": [
             [
              0,
              "#0d0887"
             ],
             [
              0.1111111111111111,
              "#46039f"
             ],
             [
              0.2222222222222222,
              "#7201a8"
             ],
             [
              0.3333333333333333,
              "#9c179e"
             ],
             [
              0.4444444444444444,
              "#bd3786"
             ],
             [
              0.5555555555555556,
              "#d8576b"
             ],
             [
              0.6666666666666666,
              "#ed7953"
             ],
             [
              0.7777777777777778,
              "#fb9f3a"
             ],
             [
              0.8888888888888888,
              "#fdca26"
             ],
             [
              1,
              "#f0f921"
             ]
            ],
            "type": "histogram2d"
           }
          ],
          "histogram2dcontour": [
           {
            "colorbar": {
             "outlinewidth": 0,
             "ticks": ""
            },
            "colorscale": [
             [
              0,
              "#0d0887"
             ],
             [
              0.1111111111111111,
              "#46039f"
             ],
             [
              0.2222222222222222,
              "#7201a8"
             ],
             [
              0.3333333333333333,
              "#9c179e"
             ],
             [
              0.4444444444444444,
              "#bd3786"
             ],
             [
              0.5555555555555556,
              "#d8576b"
             ],
             [
              0.6666666666666666,
              "#ed7953"
             ],
             [
              0.7777777777777778,
              "#fb9f3a"
             ],
             [
              0.8888888888888888,
              "#fdca26"
             ],
             [
              1,
              "#f0f921"
             ]
            ],
            "type": "histogram2dcontour"
           }
          ],
          "mesh3d": [
           {
            "colorbar": {
             "outlinewidth": 0,
             "ticks": ""
            },
            "type": "mesh3d"
           }
          ],
          "parcoords": [
           {
            "line": {
             "colorbar": {
              "outlinewidth": 0,
              "ticks": ""
             }
            },
            "type": "parcoords"
           }
          ],
          "pie": [
           {
            "automargin": true,
            "type": "pie"
           }
          ],
          "scatter": [
           {
            "fillpattern": {
             "fillmode": "overlay",
             "size": 10,
             "solidity": 0.2
            },
            "type": "scatter"
           }
          ],
          "scatter3d": [
           {
            "line": {
             "colorbar": {
              "outlinewidth": 0,
              "ticks": ""
             }
            },
            "marker": {
             "colorbar": {
              "outlinewidth": 0,
              "ticks": ""
             }
            },
            "type": "scatter3d"
           }
          ],
          "scattercarpet": [
           {
            "marker": {
             "colorbar": {
              "outlinewidth": 0,
              "ticks": ""
             }
            },
            "type": "scattercarpet"
           }
          ],
          "scattergeo": [
           {
            "marker": {
             "colorbar": {
              "outlinewidth": 0,
              "ticks": ""
             }
            },
            "type": "scattergeo"
           }
          ],
          "scattergl": [
           {
            "marker": {
             "colorbar": {
              "outlinewidth": 0,
              "ticks": ""
             }
            },
            "type": "scattergl"
           }
          ],
          "scattermap": [
           {
            "marker": {
             "colorbar": {
              "outlinewidth": 0,
              "ticks": ""
             }
            },
            "type": "scattermap"
           }
          ],
          "scattermapbox": [
           {
            "marker": {
             "colorbar": {
              "outlinewidth": 0,
              "ticks": ""
             }
            },
            "type": "scattermapbox"
           }
          ],
          "scatterpolar": [
           {
            "marker": {
             "colorbar": {
              "outlinewidth": 0,
              "ticks": ""
             }
            },
            "type": "scatterpolar"
           }
          ],
          "scatterpolargl": [
           {
            "marker": {
             "colorbar": {
              "outlinewidth": 0,
              "ticks": ""
             }
            },
            "type": "scatterpolargl"
           }
          ],
          "scatterternary": [
           {
            "marker": {
             "colorbar": {
              "outlinewidth": 0,
              "ticks": ""
             }
            },
            "type": "scatterternary"
           }
          ],
          "surface": [
           {
            "colorbar": {
             "outlinewidth": 0,
             "ticks": ""
            },
            "colorscale": [
             [
              0,
              "#0d0887"
             ],
             [
              0.1111111111111111,
              "#46039f"
             ],
             [
              0.2222222222222222,
              "#7201a8"
             ],
             [
              0.3333333333333333,
              "#9c179e"
             ],
             [
              0.4444444444444444,
              "#bd3786"
             ],
             [
              0.5555555555555556,
              "#d8576b"
             ],
             [
              0.6666666666666666,
              "#ed7953"
             ],
             [
              0.7777777777777778,
              "#fb9f3a"
             ],
             [
              0.8888888888888888,
              "#fdca26"
             ],
             [
              1,
              "#f0f921"
             ]
            ],
            "type": "surface"
           }
          ],
          "table": [
           {
            "cells": {
             "fill": {
              "color": "#EBF0F8"
             },
             "line": {
              "color": "white"
             }
            },
            "header": {
             "fill": {
              "color": "#C8D4E3"
             },
             "line": {
              "color": "white"
             }
            },
            "type": "table"
           }
          ]
         },
         "layout": {
          "annotationdefaults": {
           "arrowcolor": "#2a3f5f",
           "arrowhead": 0,
           "arrowwidth": 1
          },
          "autotypenumbers": "strict",
          "coloraxis": {
           "colorbar": {
            "outlinewidth": 0,
            "ticks": ""
           }
          },
          "colorscale": {
           "diverging": [
            [
             0,
             "#8e0152"
            ],
            [
             0.1,
             "#c51b7d"
            ],
            [
             0.2,
             "#de77ae"
            ],
            [
             0.3,
             "#f1b6da"
            ],
            [
             0.4,
             "#fde0ef"
            ],
            [
             0.5,
             "#f7f7f7"
            ],
            [
             0.6,
             "#e6f5d0"
            ],
            [
             0.7,
             "#b8e186"
            ],
            [
             0.8,
             "#7fbc41"
            ],
            [
             0.9,
             "#4d9221"
            ],
            [
             1,
             "#276419"
            ]
           ],
           "sequential": [
            [
             0,
             "#0d0887"
            ],
            [
             0.1111111111111111,
             "#46039f"
            ],
            [
             0.2222222222222222,
             "#7201a8"
            ],
            [
             0.3333333333333333,
             "#9c179e"
            ],
            [
             0.4444444444444444,
             "#bd3786"
            ],
            [
             0.5555555555555556,
             "#d8576b"
            ],
            [
             0.6666666666666666,
             "#ed7953"
            ],
            [
             0.7777777777777778,
             "#fb9f3a"
            ],
            [
             0.8888888888888888,
             "#fdca26"
            ],
            [
             1,
             "#f0f921"
            ]
           ],
           "sequentialminus": [
            [
             0,
             "#0d0887"
            ],
            [
             0.1111111111111111,
             "#46039f"
            ],
            [
             0.2222222222222222,
             "#7201a8"
            ],
            [
             0.3333333333333333,
             "#9c179e"
            ],
            [
             0.4444444444444444,
             "#bd3786"
            ],
            [
             0.5555555555555556,
             "#d8576b"
            ],
            [
             0.6666666666666666,
             "#ed7953"
            ],
            [
             0.7777777777777778,
             "#fb9f3a"
            ],
            [
             0.8888888888888888,
             "#fdca26"
            ],
            [
             1,
             "#f0f921"
            ]
           ]
          },
          "colorway": [
           "#636efa",
           "#EF553B",
           "#00cc96",
           "#ab63fa",
           "#FFA15A",
           "#19d3f3",
           "#FF6692",
           "#B6E880",
           "#FF97FF",
           "#FECB52"
          ],
          "font": {
           "color": "#2a3f5f"
          },
          "geo": {
           "bgcolor": "white",
           "lakecolor": "white",
           "landcolor": "#E5ECF6",
           "showlakes": true,
           "showland": true,
           "subunitcolor": "white"
          },
          "hoverlabel": {
           "align": "left"
          },
          "hovermode": "closest",
          "mapbox": {
           "style": "light"
          },
          "paper_bgcolor": "white",
          "plot_bgcolor": "#E5ECF6",
          "polar": {
           "angularaxis": {
            "gridcolor": "white",
            "linecolor": "white",
            "ticks": ""
           },
           "bgcolor": "#E5ECF6",
           "radialaxis": {
            "gridcolor": "white",
            "linecolor": "white",
            "ticks": ""
           }
          },
          "scene": {
           "xaxis": {
            "backgroundcolor": "#E5ECF6",
            "gridcolor": "white",
            "gridwidth": 2,
            "linecolor": "white",
            "showbackground": true,
            "ticks": "",
            "zerolinecolor": "white"
           },
           "yaxis": {
            "backgroundcolor": "#E5ECF6",
            "gridcolor": "white",
            "gridwidth": 2,
            "linecolor": "white",
            "showbackground": true,
            "ticks": "",
            "zerolinecolor": "white"
           },
           "zaxis": {
            "backgroundcolor": "#E5ECF6",
            "gridcolor": "white",
            "gridwidth": 2,
            "linecolor": "white",
            "showbackground": true,
            "ticks": "",
            "zerolinecolor": "white"
           }
          },
          "shapedefaults": {
           "line": {
            "color": "#2a3f5f"
           }
          },
          "ternary": {
           "aaxis": {
            "gridcolor": "white",
            "linecolor": "white",
            "ticks": ""
           },
           "baxis": {
            "gridcolor": "white",
            "linecolor": "white",
            "ticks": ""
           },
           "bgcolor": "#E5ECF6",
           "caxis": {
            "gridcolor": "white",
            "linecolor": "white",
            "ticks": ""
           }
          },
          "title": {
           "x": 0.05
          },
          "xaxis": {
           "automargin": true,
           "gridcolor": "white",
           "linecolor": "white",
           "ticks": "",
           "title": {
            "standoff": 15
           },
           "zerolinecolor": "white",
           "zerolinewidth": 2
          },
          "yaxis": {
           "automargin": true,
           "gridcolor": "white",
           "linecolor": "white",
           "ticks": "",
           "title": {
            "standoff": 15
           },
           "zerolinecolor": "white",
           "zerolinewidth": 2
          }
         }
        }
       }
      }
     },
     "metadata": {},
     "output_type": "display_data"
    }
   ],
   "source": [
    "fig = px.scatter_3d(df, x='x', y='y', z='z', color='sentiment', opacity=0.9)\n",
    "fig.show()"
   ]
  },
  {
   "cell_type": "code",
   "execution_count": 28,
   "metadata": {},
   "outputs": [],
   "source": [
    "import pickle\n",
    "with open(\"./normalized_TF_IDF_matrix.pckl\", 'wb') as f:\n",
    "    pickle.dump(normalized_TF_IDF_matrix, f)\n"
   ]
  },
  {
   "cell_type": "code",
   "execution_count": null,
   "metadata": {},
   "outputs": [],
   "source": []
  }
 ],
 "metadata": {
  "kernelspec": {
   "display_name": "nlp",
   "language": "python",
   "name": "python3"
  },
  "language_info": {
   "codemirror_mode": {
    "name": "ipython",
    "version": 3
   },
   "file_extension": ".py",
   "mimetype": "text/x-python",
   "name": "python",
   "nbconvert_exporter": "python",
   "pygments_lexer": "ipython3",
   "version": "3.11.11"
  }
 },
 "nbformat": 4,
 "nbformat_minor": 2
}
