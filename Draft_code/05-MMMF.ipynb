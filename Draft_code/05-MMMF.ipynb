{
 "cells": [
  {
   "cell_type": "markdown",
   "metadata": {},
   "source": [
    "## Illustrative example on NMF (Non-negative Matrix Factorization)\n",
    "\n",
    "NMF factorizes a non-negative matrix $V$ into two non-negative matrices $W and $H$, such that:\n",
    "\n",
    "$$ V\\approx WH$$\n",
    "\n",
    "\n",
    "V: original data matrix (e.g., a grayscale image)\n",
    "\n",
    "𝑊\n",
    "W: basis matrix (e.g., building blocks or features)\n",
    "\n",
    "𝐻\n",
    "H: coefficients matrix (e.g., weights to combine features)\n",
    "\n",
    "The non-negativity constraint makes the components additive and interpretable."
   ]
  },
  {
   "cell_type": "markdown",
   "metadata": {},
   "source": []
  },
  {
   "cell_type": "markdown",
   "metadata": {},
   "source": [
    "NMF for Image Compression: Intuitive Example\n",
    "--------------------------------------------\n",
    "Let’s use a grayscale image and show how NMF can approximate it using fewer components."
   ]
  },
  {
   "cell_type": "code",
   "execution_count": null,
   "metadata": {},
   "outputs": [],
   "source": [
    "import numpy as np\n",
    "import matplotlib.pyplot as plt\n",
    "from sklearn.decomposition import NMF\n",
    "from skimage.io import imread\n",
    "from skimage.color import rgb2gray\n",
    "from skimage.transform import resize\n",
    "import os\n",
    "import ipywidgets as widgets"
   ]
  },
  {
   "cell_type": "code",
   "execution_count": null,
   "metadata": {},
   "outputs": [],
   "source": [
    "def load_grayscale_image(image_path, resize_shape=(100, 100)):\n",
    "    img = imread(image_path, as_gray=True)\n",
    "    #if img.ndim == 3:  # RGB\n",
    "    #    img = rgb2gray(img)\n",
    "    img_resized = resize(img, resize_shape, anti_aliasing=True)\n",
    "    return img_resized\n",
    "\n",
    "def apply_nmf(image, n_components):\n",
    "    model = NMF(n_components=n_components, init='random', random_state=42, max_iter=500)\n",
    "    W = model.fit_transform(image)\n",
    "    H = model.components_\n",
    "    reconstructed = np.dot(W, H)\n",
    "    return reconstructed\n",
    "\n",
    "def plot_reconstructions(original, reconstructions, components_list):\n",
    "    n = len(reconstructions)\n",
    "    plt.figure(figsize=(4 * (n + 1), 4))\n",
    "\n",
    "    # Plot original\n",
    "    plt.subplot(1, n + 1, 1)\n",
    "    plt.imshow(original, cmap='gray')\n",
    "    plt.title(\"Original\")\n",
    "    plt.axis('off')\n",
    "\n",
    "    # Plot reconstructions\n",
    "    for i, (recon, k) in enumerate(zip(reconstructions, components_list)):\n",
    "        plt.subplot(1, n + 1, i + 2)\n",
    "        plt.imshow(recon, cmap='gray')\n",
    "        plt.title(f\"{k} components\")\n",
    "        plt.axis('off')\n",
    "\n",
    "    plt.tight_layout()\n",
    "    plt.show()\n",
    "\n",
    "def plot_comparison(original, reconstructed, n_components):\n",
    "    plt.figure(figsize=(8, 4))\n",
    "    plt.subplot(1, 2, 1)\n",
    "    plt.imshow(original, cmap='gray')\n",
    "    plt.title(\"Original Image\")\n",
    "    plt.axis('off')\n",
    "\n",
    "    plt.subplot(1, 2, 2)\n",
    "    plt.imshow(reconstructed, cmap='gray')\n",
    "    plt.title(f\"Reconstructed ({n_components} components)\")\n",
    "    plt.axis('off')\n",
    "\n",
    "    plt.tight_layout()\n",
    "    plt.show()\n",
    "\n"
   ]
  },
  {
   "cell_type": "code",
   "execution_count": null,
   "metadata": {},
   "outputs": [],
   "source": [
    "image_path = '05-Image_for_testing.png'  # Replace with your path to an image\n",
    "resize_shape = (100, 100)      # Resize for speed (adjust as needed)\n",
    "components_list = [5, 15, 30, 50]  # Try different compression levels\n",
    "\n",
    "# --- Run the Demo ---\n",
    "if os.path.exists(image_path):\n",
    "    original_img = load_grayscale_image(image_path, resize_shape)\n",
    "    reconstructions = [apply_nmf(original_img, k) for k in components_list]\n",
    "    plot_reconstructions(original_img, reconstructions, components_list)\n",
    "else:\n",
    "    print(f\"Image not found at {image_path}\")\n",
    "\n",
    "\n",
    "\n"
   ]
  },
  {
   "cell_type": "code",
   "execution_count": null,
   "metadata": {},
   "outputs": [],
   "source": [
    "# --- Image path and setup ---\n",
    "image_path = '05-Image_for_testing.png'  # Replace with your image path\n",
    "resize_shape = (100, 100)\n",
    "\n",
    "# Load image\n",
    "original_image = load_grayscale_image(image_path, resize_shape)\n",
    "\n",
    "# --- Interactive widget ---\n",
    "@widgets.interact(n_components=widgets.IntSlider(min=2, max=100, step=1, value=20, description='Components'))\n",
    "def update_plot(n_components):\n",
    "    clear_output(wait=True)\n",
    "    reconstructed_image = apply_nmf(original_image, n_components)\n",
    "    plot_comparison(original_image, reconstructed_image, n_components)\n",
    "\n"
   ]
  },
  {
   "cell_type": "code",
   "execution_count": null,
   "metadata": {},
   "outputs": [],
   "source": []
  }
 ],
 "metadata": {
  "kernelspec": {
   "display_name": "nlp",
   "language": "python",
   "name": "python3"
  },
  "language_info": {
   "codemirror_mode": {
    "name": "ipython",
    "version": 3
   },
   "file_extension": ".py",
   "mimetype": "text/x-python",
   "name": "python",
   "nbconvert_exporter": "python",
   "pygments_lexer": "ipython3",
   "version": "3.11.11"
  }
 },
 "nbformat": 4,
 "nbformat_minor": 2
}
